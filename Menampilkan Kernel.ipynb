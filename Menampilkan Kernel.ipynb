{
 "cells": [
  {
   "cell_type": "code",
   "execution_count": null,
   "metadata": {},
   "outputs": [],
   "source": [
    "import matplotlib.pyplot as plt\n",
    "from matplotlib.gridspec import GridSpec"
   ]
  },
  {
   "cell_type": "code",
   "execution_count": null,
   "metadata": {},
   "outputs": [],
   "source": [
    "def showKernel(model, layer, index_filter = -1, index_channel = -1, figsize = (25, 25)):\n",
    "    # Mendapatkan weight / kernel\n",
    "    weights = model.get_layer(layer).get_weights()[0]\n",
    "    \n",
    "    # Konfigurasi plotting\n",
    "    fig = plt.figure(figsize = figsize)\n",
    "    grid = GridSpec(weights.shape[3], 1, figure = fig)\n",
    "\n",
    "    # Menampilkan weights per kernel\n",
    "    for i in range(weights.shape[3]):\n",
    "        for j in range(weight.shape[2]):\n",
    "            y = plt.subplot(10, 10, i + 1)\n",
    "            y.imshow(weights[:, :, 0, i], cmap='gray')\n",
    "            plt.xticks([])\n",
    "            plt.yticks([])\n",
    "\n",
    "    plt.show()\n",
    "    \n",
    "showKernel(model, 'c1')"
   ]
  }
 ],
 "metadata": {
  "kernelspec": {
   "display_name": "Python 3",
   "language": "python",
   "name": "python3"
  },
  "language_info": {
   "codemirror_mode": {
    "name": "ipython",
    "version": 3
   },
   "file_extension": ".py",
   "mimetype": "text/x-python",
   "name": "python",
   "nbconvert_exporter": "python",
   "pygments_lexer": "ipython3",
   "version": "3.6.6"
  }
 },
 "nbformat": 4,
 "nbformat_minor": 2
}
