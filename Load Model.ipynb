{
 "cells": [
  {
   "cell_type": "code",
   "execution_count": 22,
   "metadata": {},
   "outputs": [],
   "source": [
    "from keras.models import load_model, Model, Sequential\n",
    "from packages.Utility.CNN.FeatureManager import FeatureExtractor, FeatureReader, FeatureWriter\n",
    "from packages.Utility.Gabor import GaborFilterBanks, GaborParams, RotatedGaborParams\n",
    "from keras.layers import Conv2D, MaxPool2D, Flatten, Activation, Layer, Dense\n",
    "from packages.Utility.DatasetManager import DatasetReader\n",
    "from packages.Utility.CNN.FeatureManager import FeatureExtractor, FeatureReader, FeatureWriter\n",
    "from packages.Utility.Metrics import ConfusionMatrix, CNN_Evaluator, SVM_Evaluator\n",
    "from sklearn import svm"
   ]
  },
  {
   "cell_type": "markdown",
   "metadata": {},
   "source": [
    "# Inisialisasi"
   ]
  },
  {
   "cell_type": "code",
   "execution_count": 25,
   "metadata": {},
   "outputs": [],
   "source": [
    "dataset_dir = 'dataset/bin/DG321'\n",
    "weight_dir = 'trained/digit LN[1]/Fold 1/acc 0.9627 - epoch 122.h5'"
   ]
  },
  {
   "cell_type": "markdown",
   "metadata": {},
   "source": [
    "# Load Dataset"
   ]
  },
  {
   "cell_type": "code",
   "execution_count": 26,
   "metadata": {},
   "outputs": [],
   "source": [
    "reader = DatasetReader(dataset_dir)\n",
    "fold = 0\n",
    "\n",
    "X_train, Y_train_onehot, Y_train_single = reader.getTrainData(fold)\n",
    "X_test, Y_test_onehot, Y_test_single = reader.getTestData(fold)"
   ]
  },
  {
   "cell_type": "markdown",
   "metadata": {},
   "source": [
    "# Mendefinisikan Model"
   ]
  },
  {
   "cell_type": "code",
   "execution_count": 30,
   "metadata": {},
   "outputs": [],
   "source": [
    "model = Sequential()\n",
    "\n",
    "c1 = Conv2D(name='c1', filters = 6,\n",
    "            kernel_size = 5, strides = 1, padding = 'valid', activation = 'relu', \n",
    "            input_shape = (32, 32, 1))\n",
    "c2 = Conv2D(name='c2', filters = 16,\n",
    "            kernel_size = 5, strides = 1, padding = 'valid', activation = 'relu')\n",
    "m1 = MaxPool2D(pool_size = 2)\n",
    "m2 = MaxPool2D(pool_size = 2)\n",
    "f1 = Flatten(name = 'flatten')\n",
    "model.add(c1)\n",
    "model.add(m1)\n",
    "model.add(c2)\n",
    "model.add(m2)\n",
    "model.add(f1)\n",
    "model.add(Dense(120, activation = 'sigmoid', name = 'd1'))\n",
    "model.add(Dense(84, activation = 'sigmoid', name = 'd2'))\n",
    "model.add(Dense(10, activation = 'softmax', name = 'output'))"
   ]
  },
  {
   "cell_type": "markdown",
   "metadata": {},
   "source": [
    "# Load Weights"
   ]
  },
  {
   "cell_type": "code",
   "execution_count": 31,
   "metadata": {},
   "outputs": [],
   "source": [
    "model.load_weights(weight_dir)"
   ]
  },
  {
   "cell_type": "markdown",
   "metadata": {},
   "source": [
    "# Ekstraksi Fitur"
   ]
  },
  {
   "cell_type": "code",
   "execution_count": 32,
   "metadata": {},
   "outputs": [],
   "source": [
    "extractor = FeatureExtractor(model, output_layer = 'flatten')\n",
    "feature_train = extractor.extract(X_train)\n",
    "feature_test = extractor.extract(X_test)"
   ]
  },
  {
   "cell_type": "markdown",
   "metadata": {},
   "source": [
    "# Pelatihan SVM"
   ]
  },
  {
   "cell_type": "code",
   "execution_count": 36,
   "metadata": {},
   "outputs": [
    {
     "name": "stderr",
     "output_type": "stream",
     "text": [
      "c:\\python\\lib\\site-packages\\sklearn\\svm\\base.py:196: FutureWarning: The default value of gamma will change from 'auto' to 'scale' in version 0.22 to account better for unscaled features. Set gamma explicitly to 'auto' or 'scale' to avoid this warning.\n",
      "  \"avoid this warning.\", FutureWarning)\n"
     ]
    },
    {
     "name": "stdout",
     "output_type": "stream",
     "text": [
      "[LibSVM]"
     ]
    },
    {
     "data": {
      "text/plain": [
       "SVC(C=100, cache_size=200, class_weight=None, coef0=0.0,\n",
       "  decision_function_shape='ovo', degree=3, gamma='auto_deprecated',\n",
       "  kernel='rbf', max_iter=50000, probability=False, random_state=None,\n",
       "  shrinking=True, tol=0.001, verbose=True)"
      ]
     },
     "execution_count": 36,
     "metadata": {},
     "output_type": "execute_result"
    }
   ],
   "source": [
    "cls = svm.SVC(kernel = 'linear', max_iter = 50000, C = 100, decision_function_shape='ovo', verbose = True)\n",
    "cls.fit(feature_train, Y_train_single)"
   ]
  },
  {
   "cell_type": "markdown",
   "metadata": {},
   "source": [
    "# Evaluasi Model\n",
    "### Evaluasi untuk CNN"
   ]
  },
  {
   "cell_type": "code",
   "execution_count": 34,
   "metadata": {},
   "outputs": [],
   "source": [
    "ev_cnn = CNN_Evaluator(model = model, labels = reader.labels)\n",
    "y_true_train_cnn, y_pred_train_cnn, score_train_cnn = ev_cnn.evaluate(X_train, Y_train_single)\n",
    "y_true_test_cnn, y_pred_test_cnn, score_train_cnn = ev_cnn.evaluate(X_test, Y_test_single)"
   ]
  },
  {
   "cell_type": "markdown",
   "metadata": {},
   "source": [
    "### Evaluasi untuk SVM"
   ]
  },
  {
   "cell_type": "code",
   "execution_count": null,
   "metadata": {},
   "outputs": [],
   "source": [
    "ev_svm = SVM_Evaluator(model = cls, labels = reader.labels)\n",
    "y_true_train_svm, y_pred_train_svm, score_train_svm = ev_svm.evaluate(feature_train, Y_train_single)\n",
    "y_true_test_svm, y_pred_test_svm, score_test_svm = ev_svm.evaluate(feature_test, Y_test_single)"
   ]
  },
  {
   "cell_type": "markdown",
   "metadata": {},
   "source": [
    "# Menampilkan Confusion Matrix"
   ]
  },
  {
   "cell_type": "code",
   "execution_count": null,
   "metadata": {},
   "outputs": [],
   "source": [
    "# Confusion Matrix\n",
    "cfm = ConfusionMatrix((25, 25), 2, 2, reader.labels)\n",
    "cfm.xylabel_size = 15\n",
    "cfm.add(y_true_train_cnn, y_pred_train_cnn, 'Data Training CNN')\n",
    "cfm.add(y_true_test_cnn, y_pred_test_cnn, 'Data Testing CNN')\n",
    "cfm.add(y_true_train_svm, y_pred_train_svm, 'Data Training SVM')\n",
    "cfm.add(y_true_test_svm, y_pred_test_svm, 'Data Testing SVM')\n",
    "cfm.show()"
   ]
  },
  {
   "cell_type": "code",
   "execution_count": null,
   "metadata": {},
   "outputs": [],
   "source": []
  }
 ],
 "metadata": {
  "kernelspec": {
   "display_name": "Python 3",
   "language": "python",
   "name": "python3"
  },
  "language_info": {
   "codemirror_mode": {
    "name": "ipython",
    "version": 3
   },
   "file_extension": ".py",
   "mimetype": "text/x-python",
   "name": "python",
   "nbconvert_exporter": "python",
   "pygments_lexer": "ipython3",
   "version": "3.6.6"
  }
 },
 "nbformat": 4,
 "nbformat_minor": 2
}
