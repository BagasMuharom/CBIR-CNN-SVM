{
 "cells": [
  {
   "cell_type": "code",
   "execution_count": 3,
   "metadata": {},
   "outputs": [],
   "source": [
    "from keras.models import Sequential\n",
    "from keras.layers import Conv2D, MaxPool2D, Flatten, Activation, Dense, Dropout, BatchNormalization, ZeroPadding2D\n",
    "from keras.utils import plot_model\n",
    "from keras.utils.vis_utils import model_to_dot\n",
    "from IPython.display import SVG\n",
    "import os\n",
    "os.environ[\"PATH\"] += os.pathsep + 'C:/Program Files (x86)/Graphviz2.38/bin/'"
   ]
  },
  {
   "cell_type": "markdown",
   "metadata": {},
   "source": [
    "# Arsitektur untuk CIFAR"
   ]
  },
  {
   "cell_type": "code",
   "execution_count": 8,
   "metadata": {},
   "outputs": [
    {
     "name": "stdout",
     "output_type": "stream",
     "text": [
      "_________________________________________________________________\n",
      "Layer (type)                 Output Shape              Param #   \n",
      "=================================================================\n",
      "c1 (Conv2D)                  (None, 32, 32, 32)        896       \n",
      "_________________________________________________________________\n",
      "c2 (Conv2D)                  (None, 32, 32, 32)        9248      \n",
      "_________________________________________________________________\n",
      "max_pooling2d_4 (MaxPooling2 (None, 16, 16, 32)        0         \n",
      "_________________________________________________________________\n",
      "c3 (Conv2D)                  (None, 16, 16, 64)        18496     \n",
      "_________________________________________________________________\n",
      "c4 (Conv2D)                  (None, 16, 16, 64)        36928     \n",
      "_________________________________________________________________\n",
      "mp4 (MaxPooling2D)           (None, 8, 8, 64)          0         \n",
      "_________________________________________________________________\n",
      "c5 (Conv2D)                  (None, 8, 8, 128)         73856     \n",
      "_________________________________________________________________\n",
      "c6 (Conv2D)                  (None, 8, 8, 128)         147584    \n",
      "_________________________________________________________________\n",
      "mp6 (MaxPooling2D)           (None, 4, 4, 128)         0         \n",
      "_________________________________________________________________\n",
      "flatten (Flatten)            (None, 2048)              0         \n",
      "_________________________________________________________________\n",
      "output (Dense)               (None, 10)                20490     \n",
      "=================================================================\n",
      "Total params: 307,498\n",
      "Trainable params: 307,498\n",
      "Non-trainable params: 0\n",
      "_________________________________________________________________\n"
     ]
    }
   ],
   "source": [
    "model = Sequential()\n",
    "\n",
    "c1 = Conv2D(32, name = 'c1', kernel_size = 3, padding='same', input_shape = (32, 32, 3))\n",
    "\n",
    "c2 = Conv2D(32, name = 'c2', kernel_size = 3, padding = 'same')\n",
    "mp2 = MaxPool2D(pool_size = 2)\n",
    "\n",
    "c3 = Conv2D(64, name = 'c3', kernel_size = 3, padding = 'same')\n",
    "\n",
    "c4 = Conv2D(64, name = 'c4', kernel_size = 3, padding = 'same')\n",
    "mp4 = MaxPool2D(pool_size = 2, name = 'mp4')\n",
    "\n",
    "c5 = Conv2D(128, name = 'c5', kernel_size = 3, padding = 'same')\n",
    "\n",
    "c6 = Conv2D(128, name = 'c6', kernel_size = 3, padding = 'same')\n",
    "mp6 = MaxPool2D(pool_size = 2, name = 'mp6')\n",
    "\n",
    "# Layer 1\n",
    "model.add(c1)\n",
    "\n",
    "# Layer 2\n",
    "model.add(c2)\n",
    "model.add(mp2)\n",
    " \n",
    "# Layer 3\n",
    "model.add(c3)\n",
    "\n",
    "# Layer 4\n",
    "model.add(c4)\n",
    "model.add(mp4)\n",
    " \n",
    "# Layer 5\n",
    "model.add(c5)\n",
    "\n",
    "# Layer 6\n",
    "model.add(c6)\n",
    "model.add(mp6)\n",
    " \n",
    "model.add(Flatten(name = 'flatten'))\n",
    "          \n",
    "# Fully Connected\n",
    "model.add(Dense(10, name = 'output', activation = 'softmax'))\n",
    " \n",
    "model.summary()"
   ]
  },
  {
   "cell_type": "code",
   "execution_count": null,
   "metadata": {},
   "outputs": [],
   "source": []
  }
 ],
 "metadata": {
  "kernelspec": {
   "display_name": "Python 3",
   "language": "python",
   "name": "python3"
  },
  "language_info": {
   "codemirror_mode": {
    "name": "ipython",
    "version": 3
   },
   "file_extension": ".py",
   "mimetype": "text/x-python",
   "name": "python",
   "nbconvert_exporter": "python",
   "pygments_lexer": "ipython3",
   "version": "3.6.6"
  }
 },
 "nbformat": 4,
 "nbformat_minor": 2
}
