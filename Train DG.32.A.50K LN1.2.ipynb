{
 "cells": [
  {
   "cell_type": "code",
   "execution_count": 9,
   "metadata": {},
   "outputs": [],
   "source": [
    "import numpy as np\n",
    "from packages.Utility.CNN.Callbacks import *\n",
    "from packages.Utility.DatasetManager import DatasetReader\n",
    "from packages.Utility.Gabor import GaborFilterBanks, GaborParams, ComplexGaborParams\n",
    "from packages.Model.LeNet import LeNet"
   ]
  },
  {
   "cell_type": "code",
   "execution_count": 10,
   "metadata": {},
   "outputs": [],
   "source": [
    "fold_index = 0\n",
    "dataset_dir = 'dataset/bin/DG.32.A.50K'\n",
    "trained_dir = 'trained/DG.32.A.50K LN1.2'"
   ]
  },
  {
   "cell_type": "markdown",
   "metadata": {},
   "source": [
    "# Memuat Dataset"
   ]
  },
  {
   "cell_type": "code",
   "execution_count": 11,
   "metadata": {},
   "outputs": [],
   "source": [
    "reader = DatasetReader(dataset_dir)\n",
    "\n",
    "X_train, Y_train_onehot, Y_train_single = reader.getTrainData(fold_index)\n",
    "X_test, Y_test_onehot, Y_test_single = reader.getTestData(fold_index)"
   ]
  },
  {
   "cell_type": "markdown",
   "metadata": {},
   "source": [
    "# Inisiasi Callbacks"
   ]
  },
  {
   "cell_type": "code",
   "execution_count": 12,
   "metadata": {},
   "outputs": [],
   "source": [
    "val_model = ValidateModel(X_train, Y_train_onehot)\n",
    "save_model = SaveModel(val_model, base_dir = trained_dir, fold = fold_index + 1, min_acc = 0.1)\n",
    "stop_train = StopTraining(val_model)\n",
    "history_save = HistorySaver(val_model, base_dir = trained_dir, fold = fold_index + 1)"
   ]
  },
  {
   "cell_type": "markdown",
   "metadata": {},
   "source": [
    "# Mendefinisikan Kernel Gabor"
   ]
  },
  {
   "cell_type": "code",
   "execution_count": 6,
   "metadata": {},
   "outputs": [],
   "source": [
    "kernel1 = GaborFilterBanks(ComplexGaborParams(psi = (1, 20), gamma = (0.25, 1), lambd = (1, 5), sigma = (1, 16)))\n",
    "kernel2 = GaborFilterBanks(ComplexGaborParams(psi = (1, 20), gamma = (0.25, 2), lambd = (2, 6), sigma = (1, 32)))"
   ]
  },
  {
   "cell_type": "markdown",
   "metadata": {},
   "source": [
    "# Mendefinisikan Model CNN\n",
    "Mendefinisikan arsitektur CNN"
   ]
  },
  {
   "cell_type": "code",
   "execution_count": 13,
   "metadata": {},
   "outputs": [
    {
     "name": "stdout",
     "output_type": "stream",
     "text": [
      "_________________________________________________________________\n",
      "Layer (type)                 Output Shape              Param #   \n",
      "=================================================================\n",
      "c1 (Conv2D)                  (None, 28, 28, 6)         156       \n",
      "_________________________________________________________________\n",
      "mp1 (MaxPooling2D)           (None, 14, 14, 6)         0         \n",
      "_________________________________________________________________\n",
      "c2 (Conv2D)                  (None, 10, 10, 16)        2416      \n",
      "_________________________________________________________________\n",
      "mp2 (MaxPooling2D)           (None, 5, 5, 16)          0         \n",
      "_________________________________________________________________\n",
      "flatten (Flatten)            (None, 400)               0         \n",
      "_________________________________________________________________\n",
      "d1 (Dense)                   (None, 120)               48120     \n",
      "_________________________________________________________________\n",
      "d2 (Dense)                   (None, 84)                10164     \n",
      "_________________________________________________________________\n",
      "output (Dense)               (None, 10)                850       \n",
      "=================================================================\n",
      "Total params: 61,706\n",
      "Trainable params: 61,706\n",
      "Non-trainable params: 0\n",
      "_________________________________________________________________\n"
     ]
    }
   ],
   "source": [
    "ars = LeNet(kernels = {\n",
    "    1: kernel1,\n",
    "    2: kernel2\n",
    "}, loss = 'categorical_crossentropy')\n",
    "\n",
    "model = ars.model\n",
    "model.summary()"
   ]
  },
  {
   "cell_type": "code",
   "execution_count": null,
   "metadata": {},
   "outputs": [],
   "source": [
    "ars.save(f'{trained_dir}/Fold {fold_index + 1}/init.h5')"
   ]
  },
  {
   "cell_type": "code",
   "execution_count": 16,
   "metadata": {},
   "outputs": [],
   "source": [
    "model.load_weights(f'{trained_dir}/Fold 1/acc 0.9691 - epoch 99.h5')"
   ]
  },
  {
   "cell_type": "markdown",
   "metadata": {},
   "source": [
    "# Melakukan Pelatihan\n",
    "Melakukan pelatihan pada CNN"
   ]
  },
  {
   "cell_type": "code",
   "execution_count": 17,
   "metadata": {},
   "outputs": [
    {
     "name": "stdout",
     "output_type": "stream",
     "text": [
      "37500/37500 [==============================] - 16s 419us/step - loss: 0.0780 - acc: 0.9752\n",
      "Accuracy : 0.9763466666793823\n",
      "Model saved to disk\n",
      "Passes : 11/50\n",
      "Epoch 194/200\n",
      "37500/37500 [==============================] - 15s 395us/step - loss: 0.0783 - acc: 0.9753\n",
      "Accuracy : 0.975573333346049\n",
      "Model saved to disk\n",
      "Passes : 12/50\n",
      "Epoch 195/200\n",
      "37500/37500 [==============================] - 15s 400us/step - loss: 0.0804 - acc: 0.9746\n",
      "Accuracy : 0.9758400000127156\n",
      "Model saved to disk\n",
      "Passes : 13/50\n",
      "Epoch 196/200\n",
      "37500/37500 [==============================] - 15s 399us/step - loss: 0.0777 - acc: 0.9750\n",
      "Accuracy : 0.976453333346049\n",
      "Model saved to disk\n",
      "Passes : 14/50\n",
      "Epoch 197/200\n",
      "37500/37500 [==============================] - 15s 405us/step - loss: 0.0746 - acc: 0.9757\n",
      "Accuracy : 0.9765066666793824\n",
      "Model saved to disk\n",
      "Passes : 15/50\n",
      "Epoch 198/200\n",
      "37500/37500 [==============================] - 15s 406us/step - loss: 0.0771 - acc: 0.9758\n",
      "Accuracy : 0.9755466666793823\n",
      "Model saved to disk\n",
      "Passes : 16/50\n",
      "Epoch 199/200\n",
      "37500/37500 [==============================] - 15s 407us/step - loss: 0.0790 - acc: 0.9757\n",
      "Accuracy : 0.974533333346049\n",
      "Model saved to disk\n",
      "Passes : 17/50\n",
      "Epoch 200/200\n",
      "37500/37500 [==============================] - 15s 406us/step - loss: 0.0781 - acc: 0.9746\n",
      "New best accuracy : 0.977733333346049\n",
      "Model saved to disk\n",
      "Passes : 0/50\n",
      "History saved\n"
     ]
    }
   ],
   "source": [
    "ars.compile()\n",
    "history = model.fit(X_train, Y_train_onehot, epochs = 200, verbose = 1, batch_size = 128, callbacks=[val_model, save_model, history_save, stop_train], initial_epoch = 100)"
   ]
  },
  {
   "cell_type": "code",
   "execution_count": null,
   "metadata": {},
   "outputs": [],
   "source": []
  }
 ],
 "metadata": {
  "kernelspec": {
   "display_name": "Python 3",
   "language": "python",
   "name": "python3"
  },
  "language_info": {
   "codemirror_mode": {
    "name": "ipython",
    "version": 3
   },
   "file_extension": ".py",
   "mimetype": "text/x-python",
   "name": "python",
   "nbconvert_exporter": "python",
   "pygments_lexer": "ipython3",
   "version": "3.6.8"
  }
 },
 "nbformat": 4,
 "nbformat_minor": 2
}
