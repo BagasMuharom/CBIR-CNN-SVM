{
 "cells": [
  {
   "cell_type": "code",
   "execution_count": 8,
   "metadata": {},
   "outputs": [],
   "source": [
    "import numpy as np\n",
    "from packages.Utility.CNN.Callbacks import *\n",
    "from packages.Utility.DatasetManager import DatasetReader\n",
    "from packages.Utility.Gabor import GaborFilterBanks, GaborParams\n",
    "from packages.Model.CFNet import CFNet1"
   ]
  },
  {
   "cell_type": "markdown",
   "metadata": {},
   "source": [
    "# Inisialisasi / Persiapan"
   ]
  },
  {
   "cell_type": "code",
   "execution_count": 2,
   "metadata": {},
   "outputs": [],
   "source": [
    "fold_index = 0\n",
    "dataset_dir = 'dataset/bin/CF.32.B.30K'\n",
    "trained_dir = 'trained/CF.32.B.30K CF1.1'"
   ]
  },
  {
   "cell_type": "markdown",
   "metadata": {},
   "source": [
    "# Memuat Dataset"
   ]
  },
  {
   "cell_type": "code",
   "execution_count": 3,
   "metadata": {},
   "outputs": [],
   "source": [
    "reader = DatasetReader(dataset_dir)\n",
    "\n",
    "X_train, Y_train_onehot, Y_train_single = reader.getTrainData(fold_index)\n",
    "X_test, Y_test_onehot, Y_test_single = reader.getTestData(fold_index)"
   ]
  },
  {
   "cell_type": "markdown",
   "metadata": {},
   "source": [
    "# Inisiasi Callbacks"
   ]
  },
  {
   "cell_type": "code",
   "execution_count": 4,
   "metadata": {},
   "outputs": [],
   "source": [
    "val_model = ValidateModel(X_train, Y_train_onehot)\n",
    "save_model = SaveModel(val_model, base_dir = trained_dir, fold = fold_index + 1, min_acc = 0.1)\n",
    "stop_train = StopTraining(val_model)\n",
    "history_save = HistorySaver(val_model, base_dir = trained_dir, fold = fold_index + 1)"
   ]
  },
  {
   "cell_type": "markdown",
   "metadata": {},
   "source": [
    "# Parameter Gabor"
   ]
  },
  {
   "cell_type": "code",
   "execution_count": 5,
   "metadata": {},
   "outputs": [],
   "source": [
    "class ChannelizeGaborParams(GaborParams):\n",
    "    \n",
    "    def getParams(self, shape, i, j):\n",
    "        multiplier = 360 / shape[3]\n",
    "        degree = multiplier * i\n",
    "        \n",
    "        i += 1\n",
    "        j += 1\n",
    "        \n",
    "        lambd = (i * j) / shape[2]\n",
    "        theta = degree * np.pi / 180\n",
    "        psi = (i + j) / shape[2]\n",
    "        sigma = (i + j)\n",
    "        gamma = (i + j) / shape[2]\n",
    "        \n",
    "        return lambd, theta, psi, sigma, gamma"
   ]
  },
  {
   "cell_type": "markdown",
   "metadata": {},
   "source": [
    "# Mendefinisikan Kernel Gabor"
   ]
  },
  {
   "cell_type": "code",
   "execution_count": 6,
   "metadata": {},
   "outputs": [],
   "source": [
    "kernel1 = GaborFilterBanks(ChannelizeGaborParams())\n",
    "kernel2 = GaborFilterBanks(ChannelizeGaborParams())\n",
    "kernel3 = GaborFilterBanks(ChannelizeGaborParams())\n",
    "kernel4 = GaborFilterBanks(ChannelizeGaborParams())\n",
    "kernel5 = GaborFilterBanks(ChannelizeGaborParams())\n",
    "kernel6 = GaborFilterBanks(ChannelizeGaborParams())"
   ]
  },
  {
   "cell_type": "markdown",
   "metadata": {},
   "source": [
    "# Mendefinisikan Model"
   ]
  },
  {
   "cell_type": "code",
   "execution_count": 7,
   "metadata": {},
   "outputs": [
    {
     "name": "stdout",
     "output_type": "stream",
     "text": [
      "WARNING:tensorflow:From c:\\python\\lib\\site-packages\\tensorflow\\python\\framework\\op_def_library.py:263: colocate_with (from tensorflow.python.framework.ops) is deprecated and will be removed in a future version.\n",
      "Instructions for updating:\n",
      "Colocations handled automatically by placer.\n",
      "_________________________________________________________________\n",
      "Layer (type)                 Output Shape              Param #   \n",
      "=================================================================\n",
      "c1 (Conv2D)                  (None, 32, 32, 32)        896       \n",
      "_________________________________________________________________\n",
      "c2 (Conv2D)                  (None, 32, 32, 32)        9248      \n",
      "_________________________________________________________________\n",
      "max_pooling2d_1 (MaxPooling2 (None, 16, 16, 32)        0         \n",
      "_________________________________________________________________\n",
      "c3 (Conv2D)                  (None, 16, 16, 64)        18496     \n",
      "_________________________________________________________________\n",
      "c4 (Conv2D)                  (None, 16, 16, 64)        36928     \n",
      "_________________________________________________________________\n",
      "mp4 (MaxPooling2D)           (None, 8, 8, 64)          0         \n",
      "_________________________________________________________________\n",
      "c5 (Conv2D)                  (None, 8, 8, 128)         73856     \n",
      "_________________________________________________________________\n",
      "c6 (Conv2D)                  (None, 8, 8, 128)         147584    \n",
      "_________________________________________________________________\n",
      "mp6 (MaxPooling2D)           (None, 4, 4, 128)         0         \n",
      "_________________________________________________________________\n",
      "flatten (Flatten)            (None, 2048)              0         \n",
      "_________________________________________________________________\n",
      "output (Dense)               (None, 10)                20490     \n",
      "=================================================================\n",
      "Total params: 307,498\n",
      "Trainable params: 307,498\n",
      "Non-trainable params: 0\n",
      "_________________________________________________________________\n"
     ]
    }
   ],
   "source": [
    "ars = CFNet1(kernels = {\n",
    "    1: kernel1,\n",
    "    2: kernel2,\n",
    "    3: kernel3,\n",
    "    4: kernel4,\n",
    "    5: kernel5,\n",
    "    6: kernel6\n",
    "}, loss = 'categorical_crossentropy', optimizer = 'adadelta')\n",
    "ars.save(f'{trained_dir}/Fold {fold_index + 1}/init.h5')\n",
    "\n",
    "model = ars.model\n",
    "model.summary()"
   ]
  },
  {
   "cell_type": "markdown",
   "metadata": {},
   "source": [
    "# Pelatihan"
   ]
  },
  {
   "cell_type": "code",
   "execution_count": null,
   "metadata": {},
   "outputs": [],
   "source": [
    "ars.compile()\n",
    "history = model.fit(X_train, Y_train_onehot, epochs = 1, verbose = 1, batch_size = 128, callbacks=[val_model, save_model, history_save, stop_train], initial_epoch = 0)"
   ]
  }
 ],
 "metadata": {
  "kernelspec": {
   "display_name": "Python 3",
   "language": "python",
   "name": "python3"
  },
  "language_info": {
   "codemirror_mode": {
    "name": "ipython",
    "version": 3
   },
   "file_extension": ".py",
   "mimetype": "text/x-python",
   "name": "python",
   "nbconvert_exporter": "python",
   "pygments_lexer": "ipython3",
   "version": "3.6.8"
  }
 },
 "nbformat": 4,
 "nbformat_minor": 2
}
