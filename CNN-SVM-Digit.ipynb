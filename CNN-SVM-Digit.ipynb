{
 "cells": [
  {
   "cell_type": "code",
   "execution_count": 1,
   "metadata": {},
   "outputs": [
    {
     "name": "stderr",
     "output_type": "stream",
     "text": [
      "Using TensorFlow backend.\n"
     ]
    }
   ],
   "source": [
    "from packages.Utility.DatasetReader import DatasetReader\n",
    "from sklearn import svm\n",
    "import numpy as np\n",
    "from sklearn.metrics import confusion_matrix\n",
    "from sklearn.metrics import accuracy_score\n",
    "from sklearn.metrics import precision_score\n",
    "from packages.Utility.Gabor import GaborFilterBanks\n",
    "from keras.models import Sequential, load_model\n",
    "from keras.layers import Conv2D, MaxPool2D, Flatten, Activation, Layer, Dense\n",
    "from keras import backend as K\n",
    "from sklearn.model_selection import KFold\n",
    "from keras.models import Model\n",
    "from sklearn.externals import joblib\n",
    "import cv2 as cv\n",
    "import matplotlib.pyplot as plt\n",
    "from scipy.spatial import distance\n",
    "from packages.Utility.SVM import *\n",
    "from packages.Utility.Kernel import *"
   ]
  },
  {
   "cell_type": "code",
   "execution_count": 2,
   "metadata": {},
   "outputs": [],
   "source": [
    "dts = DatasetReader()\n",
    "dts.resize((32, 32))\n",
    "dts.binarization()\n",
    "dataset = dts.getDataset('dataset/testing_digit')"
   ]
  },
  {
   "cell_type": "markdown",
   "metadata": {},
   "source": [
    "# K-fold"
   ]
  },
  {
   "cell_type": "code",
   "execution_count": 3,
   "metadata": {},
   "outputs": [],
   "source": [
    "kfold = KFold(n_splits = 3, shuffle = True)\n",
    "fold = []\n",
    "\n",
    "for train, test in kfold.split(dataset):\n",
    "    fold.append([train, test])\n",
    "    \n",
    "fold = np.array(fold)\n",
    "X_train = np.array([i[0] for i in dataset[fold[0, 0]]])\n",
    "Y_train = np.array([i[2] for i in dataset[fold[0, 0]]])"
   ]
  },
  {
   "cell_type": "markdown",
   "metadata": {},
   "source": [
    "# Custom Layer\n",
    "Masih bingung"
   ]
  },
  {
   "cell_type": "code",
   "execution_count": 11,
   "metadata": {},
   "outputs": [],
   "source": [
    "class SVMLayer(Layer):\n",
    "\n",
    "    def __init__(self, output_dim, X, Y, model, **kwargs):\n",
    "        self.output_dim = output_dim\n",
    "        self.X = X\n",
    "        self.Y = Y\n",
    "        self.model = model\n",
    "        super(SVMLayer, self).__init__(**kwargs)\n",
    "\n",
    "    def build(self, input_shape):\n",
    "        super(SVMLayer, self).build(input_shape)  # Be sure to call this at the end\n",
    "\n",
    "    def call(self, x):\n",
    "        # Mendefinisikan model\n",
    "        model = Sequential()\n",
    "\n",
    "        c1 = Conv2D(name='c1', filters = 6, kernel_size = 5, strides = 1, padding = 'valid',\n",
    "                    activation = 'relu', input_shape = (32, 32, 1))\n",
    "        c2 = Conv2D(name='c2', filters = 16, kernel_size = 5, strides = 1, padding = 'valid',\n",
    "                    activation = 'relu')\n",
    "\n",
    "        model.add(c1)\n",
    "        model.add(MaxPool2D(pool_size = 2))\n",
    "        model.add(c2)\n",
    "        model.add(MaxPool2D(pool_size = 10))\n",
    "        model.add(Flatten())\n",
    "        \n",
    "        model.get_layer('c1').set_weights(self.model.get_layer('c1').get_weights())\n",
    "        model.get_layer('c2').set_weights(self.model.get_layer('c2').get_weights())\n",
    "        features = model.predict(self.X)\n",
    "        \n",
    "        cls = svm.SVC(kernel = 'linear', max_iter = 10000, C = 100)\n",
    "        cls.fit(features, self.Y.astype('int'))\n",
    "        \n",
    "        if K.is_placeholder(x):\n",
    "            print('Yes !')\n",
    "            pass\n",
    "        else:\n",
    "            print('No !')\n",
    "            y_pred = cls.predict(np.array([K.eval(K.relu(x))]))\n",
    "        \n",
    "        return K.variable([1])\n",
    "\n",
    "    def compute_output_shape(self, input_shape):\n",
    "        return (input_shape[0], 1)"
   ]
  },
  {
   "cell_type": "markdown",
   "metadata": {},
   "source": [
    "# CNN\n",
    "Compile CNN pada umumnya"
   ]
  },
  {
   "cell_type": "code",
   "execution_count": 4,
   "metadata": {},
   "outputs": [
    {
     "name": "stdout",
     "output_type": "stream",
     "text": [
      "Train on 6666 samples, validate on 6666 samples\n",
      "Epoch 1/1\n",
      "6666/6666 [==============================] - 114s 17ms/step - loss: 0.0899 - acc: 0.1127 - val_loss: 0.0891 - val_acc: 0.1578\n"
     ]
    }
   ],
   "source": [
    "model = Sequential()\n",
    "\n",
    "c1 = Conv2D(name='c1', filters = 6, kernel_initializer = GaborFilterBanks(),\n",
    "            kernel_size = 5, strides = 1, padding = 'valid', activation = 'relu', \n",
    "            input_shape = (32, 32, 1))\n",
    "c2 = Conv2D(name='c2', filters = 16, kernel_initializer = GaborFilterBanks(), \n",
    "            kernel_size = 5, strides = 1, padding = 'valid', activation = 'relu')\n",
    "m1 = MaxPool2D(pool_size = 2)\n",
    "m2 = MaxPool2D(pool_size = 2)\n",
    "f1 = Flatten(name = 'f1')\n",
    "model.add(c1)\n",
    "model.add(m1)\n",
    "model.add(c2)\n",
    "model.add(m2)\n",
    "model.add(f1)\n",
    "model.add(Dense(16, activation = 'sigmoid', name = 'd1'))\n",
    "model.add(Dense(16, activation = 'sigmoid', name = 'd2'))\n",
    "model.add(Dense(10, activation = 'softmax', name = 'd3'))\n",
    "# model.add(SVMLayer(X = np.array([i[0] for i in dataset]), Y = dataset[:, 1], output_dim = (1), model = model, trainable = False))\n",
    "model.compile(optimizer='adam', loss='mse', metrics=['accuracy'])\n",
    "history = model.fit(X_train, Y_train, epochs = 1, verbose = 1, batch_size = 100, validation_data = (X_train, Y_train))"
   ]
  },
  {
   "cell_type": "code",
   "execution_count": null,
   "metadata": {},
   "outputs": [],
   "source": [
    "# model.save('trained/trained_digit.h5')\n",
    "# model = load_model('trained/trained_digit.h5', custom_objects={'getGaborFilterBanks': getGaborFilterBanks()})"
   ]
  },
  {
   "cell_type": "code",
   "execution_count": 5,
   "metadata": {},
   "outputs": [],
   "source": [
    "X_test = np.array([i[0] for i in dataset[fold[0, 1]]])\n",
    "Y_test_cnn = np.array([i[2] for i in dataset[fold[0, 1]]])\n",
    "Y_test_svm = np.array([i[1] for i in dataset[fold[0, 1]]])"
   ]
  },
  {
   "cell_type": "markdown",
   "metadata": {},
   "source": [
    "## Menghitung Akurasi CNN\n",
    "### Akurasi data training"
   ]
  },
  {
   "cell_type": "code",
   "execution_count": 6,
   "metadata": {},
   "outputs": [
    {
     "name": "stdout",
     "output_type": "stream",
     "text": [
      "[[  0 287   0  68 307   0   0   0   0   0]\n",
      " [  0 487   0   2 126   0   0 146   0   0]\n",
      " [  0 280   0   7 312   0   0  74   0   0]\n",
      " [  0 296   0 244 134   0   0  12   0   0]\n",
      " [  0   5   0   0 637   0   0   0   0   0]\n",
      " [  0 169   0 160 256   0   0   3   0   0]\n",
      " [  0 137   0   3 488   0   0   0   0   0]\n",
      " [  0  16   0   2 626   0   0  52   0   0]\n",
      " [  0 206   0   9 438   0   0   0   0   0]\n",
      " [  0   6   0   7 663   0   0   1   0   0]]\n",
      "0.21302130213021303\n"
     ]
    }
   ],
   "source": [
    "predicted = model.predict(X_train)\n",
    "y_pred = np.argmax(predicted, axis = 1)\n",
    "y_true = dataset[fold[0, 0], 1].astype('int')\n",
    "\n",
    "print(confusion_matrix(y_true, y_pred))\n",
    "print(accuracy_score(y_true, y_pred))"
   ]
  },
  {
   "cell_type": "markdown",
   "metadata": {},
   "source": [
    "### Akurasi data testing"
   ]
  },
  {
   "cell_type": "code",
   "execution_count": 7,
   "metadata": {},
   "outputs": [
    {
     "name": "stdout",
     "output_type": "stream",
     "text": [
      "[[  0 147   0  36 135   0   0   0   0   0]\n",
      " [  0 237   0   0  68   0   0  69   0   0]\n",
      " [  0 152   0   3 160   0   0  44   0   0]\n",
      " [  0 131   0 115  72   0   0   6   0   0]\n",
      " [  0   2   0   0 337   0   0   1   0   0]\n",
      " [  0  81   0  87 136   0   0   0   0   0]\n",
      " [  0  50   0   2 276   0   0   2   0   0]\n",
      " [  0   8   0   4 294   0   0  26   0   0]\n",
      " [  0  98   0   4 219   0   0   0   0   0]\n",
      " [  0   0   0   3 328   0   0   1   0   0]]\n",
      "0.21445710857828434\n"
     ]
    }
   ],
   "source": [
    "predicted = model.predict(X_test)\n",
    "y_pred = np.argmax(predicted, axis = 1)\n",
    "y_true = Y_test_svm.astype('int')\n",
    "\n",
    "print(confusion_matrix(y_true, y_pred))\n",
    "print(accuracy_score(y_true, y_pred))"
   ]
  },
  {
   "cell_type": "markdown",
   "metadata": {},
   "source": [
    "# Melakukan Pelatihan dengan SVM\n",
    "data dari Flatten layer dilatih pada SVM dan\n",
    "diuji akurasinya"
   ]
  },
  {
   "cell_type": "code",
   "execution_count": 7,
   "metadata": {},
   "outputs": [
    {
     "name": "stdout",
     "output_type": "stream",
     "text": [
      "\n",
      "Fitting for class 0 and 1\n",
      "Train on 1420 samples\n",
      "acc: 0.87\n",
      "--------------------------------------------------------------------------------\n",
      "Fitting for class 0 and 2\n",
      "Train on 1334 samples\n",
      "acc: 0.51\n",
      "--------------------------------------------------------------------------------\n",
      "Fitting for class 0 and 3\n",
      "Train on 1337 samples\n",
      "Passes: 0/2 | Iteration: 1/5 | Index Data: 51/1337 | Time: 9.88s | Loss: 16.96"
     ]
    },
    {
     "ename": "KeyboardInterrupt",
     "evalue": "",
     "output_type": "error",
     "traceback": [
      "\u001b[1;31m---------------------------------------------------------------------------\u001b[0m",
      "\u001b[1;31mKeyboardInterrupt\u001b[0m                         Traceback (most recent call last)",
      "\u001b[1;32m<ipython-input-7-03ae39d32869>\u001b[0m in \u001b[0;36m<module>\u001b[1;34m()\u001b[0m\n\u001b[0;32m      9\u001b[0m \u001b[0mcls\u001b[0m\u001b[1;33m.\u001b[0m\u001b[0mcompile\u001b[0m\u001b[1;33m(\u001b[0m\u001b[0mmax_passes\u001b[0m \u001b[1;33m=\u001b[0m \u001b[1;36m2\u001b[0m\u001b[1;33m,\u001b[0m \u001b[0mmax_iter\u001b[0m \u001b[1;33m=\u001b[0m \u001b[1;36m5\u001b[0m\u001b[1;33m)\u001b[0m\u001b[1;33m\u001b[0m\u001b[0m\n\u001b[0;32m     10\u001b[0m \u001b[1;31m# cls = svm.SVC(kernel = 'linear', max_iter = 50000, C = 100)\u001b[0m\u001b[1;33m\u001b[0m\u001b[1;33m\u001b[0m\u001b[0m\n\u001b[1;32m---> 11\u001b[1;33m \u001b[0mcls\u001b[0m\u001b[1;33m.\u001b[0m\u001b[0mfit\u001b[0m\u001b[1;33m(\u001b[0m\u001b[0mfeatures_train\u001b[0m\u001b[1;33m,\u001b[0m \u001b[0mdataset\u001b[0m\u001b[1;33m[\u001b[0m\u001b[0mfold\u001b[0m\u001b[1;33m[\u001b[0m\u001b[1;36m0\u001b[0m\u001b[1;33m,\u001b[0m \u001b[1;36m0\u001b[0m\u001b[1;33m]\u001b[0m\u001b[1;33m,\u001b[0m \u001b[1;36m1\u001b[0m\u001b[1;33m]\u001b[0m\u001b[1;33m.\u001b[0m\u001b[0mastype\u001b[0m\u001b[1;33m(\u001b[0m\u001b[1;34m'int'\u001b[0m\u001b[1;33m)\u001b[0m\u001b[1;33m)\u001b[0m\u001b[1;33m\u001b[0m\u001b[0m\n\u001b[0m\u001b[0;32m     12\u001b[0m \u001b[1;31m# joblib.dump(cls, 'trained/trained_svm_digit.sav')\u001b[0m\u001b[1;33m\u001b[0m\u001b[1;33m\u001b[0m\u001b[0m\n",
      "\u001b[1;32m~\\Apps\\Python\\cbir\\packages\\Utility\\SVM.py\u001b[0m in \u001b[0;36mfit\u001b[1;34m(self, X, Y, val_data)\u001b[0m\n\u001b[0;32m     89\u001b[0m                 \u001b[0mweight\u001b[0m\u001b[1;33m,\u001b[0m \u001b[0mbias\u001b[0m\u001b[1;33m,\u001b[0m \u001b[0malpha\u001b[0m \u001b[1;33m=\u001b[0m \u001b[0mself\u001b[0m\u001b[1;33m.\u001b[0m\u001b[0mfitBinary\u001b[0m\u001b[1;33m(\u001b[0m\u001b[0mself\u001b[0m\u001b[1;33m.\u001b[0m\u001b[0m__classes\u001b[0m\u001b[1;33m[\u001b[0m\u001b[0mi\u001b[0m\u001b[1;33m]\u001b[0m\u001b[1;33m,\u001b[0m \u001b[0mself\u001b[0m\u001b[1;33m.\u001b[0m\u001b[0m__classes\u001b[0m\u001b[1;33m[\u001b[0m\u001b[0mj\u001b[0m\u001b[1;33m]\u001b[0m\u001b[1;33m)\u001b[0m\u001b[1;33m\u001b[0m\u001b[0m\n\u001b[0;32m     90\u001b[0m                 \u001b[0mself\u001b[0m\u001b[1;33m.\u001b[0m\u001b[0m__weight\u001b[0m\u001b[1;33m[\u001b[0m\u001b[0mi\u001b[0m\u001b[1;33m]\u001b[0m\u001b[1;33m[\u001b[0m\u001b[0mj\u001b[0m\u001b[1;33m]\u001b[0m \u001b[1;33m=\u001b[0m \u001b[0mweight\u001b[0m\u001b[1;33m\u001b[0m\u001b[0m\n\u001b[1;32m---> 91\u001b[1;33m                 \u001b[0mself\u001b[0m\u001b[1;33m.\u001b[0m\u001b[0m__bias\u001b[0m\u001b[1;33m[\u001b[0m\u001b[0mi\u001b[0m\u001b[1;33m]\u001b[0m\u001b[1;33m[\u001b[0m\u001b[0mj\u001b[0m\u001b[1;33m]\u001b[0m \u001b[1;33m=\u001b[0m \u001b[0mbias\u001b[0m\u001b[1;33m\u001b[0m\u001b[0m\n\u001b[0m\u001b[0;32m     92\u001b[0m \u001b[1;33m\u001b[0m\u001b[0m\n\u001b[0;32m     93\u001b[0m         \u001b[1;32mreturn\u001b[0m \u001b[0mself\u001b[0m\u001b[1;33m\u001b[0m\u001b[0m\n",
      "\u001b[1;32m~\\Apps\\Python\\cbir\\packages\\Utility\\SVM.py\u001b[0m in \u001b[0;36mfitBinary\u001b[1;34m(self, i, j)\u001b[0m\n\u001b[0;32m    112\u001b[0m         \u001b[0msmo\u001b[0m\u001b[1;33m.\u001b[0m\u001b[0mfit\u001b[0m\u001b[1;33m(\u001b[0m\u001b[0mX_train\u001b[0m\u001b[1;33m,\u001b[0m \u001b[0mY_train\u001b[0m\u001b[1;33m,\u001b[0m \u001b[0mval_data\u001b[0m \u001b[1;33m=\u001b[0m \u001b[0mval_data\u001b[0m\u001b[1;33m)\u001b[0m\u001b[1;33m\u001b[0m\u001b[0m\n\u001b[0;32m    113\u001b[0m \u001b[1;33m\u001b[0m\u001b[0m\n\u001b[1;32m--> 114\u001b[1;33m         \u001b[1;32mreturn\u001b[0m \u001b[0msmo\u001b[0m\u001b[1;33m.\u001b[0m\u001b[0mgetParams\u001b[0m\u001b[1;33m(\u001b[0m\u001b[1;33m)\u001b[0m\u001b[1;33m\u001b[0m\u001b[0m\n\u001b[0m\u001b[0;32m    115\u001b[0m \u001b[1;33m\u001b[0m\u001b[0m\n\u001b[0;32m    116\u001b[0m     \u001b[1;32mdef\u001b[0m \u001b[0mpredict\u001b[0m\u001b[1;33m(\u001b[0m\u001b[0mself\u001b[0m\u001b[1;33m,\u001b[0m \u001b[0mX\u001b[0m\u001b[1;33m)\u001b[0m\u001b[1;33m:\u001b[0m\u001b[1;33m\u001b[0m\u001b[0m\n",
      "\u001b[1;32m~\\Apps\\Python\\cbir\\packages\\Utility\\SVM.py\u001b[0m in \u001b[0;36mfit\u001b[1;34m(self, X, Y, val_data)\u001b[0m\n\u001b[0;32m    249\u001b[0m \u001b[1;33m\u001b[0m\u001b[0m\n\u001b[0;32m    250\u001b[0m         \u001b[0mprintBeforeFit\u001b[0m\u001b[1;33m(\u001b[0m\u001b[1;33m)\u001b[0m\u001b[1;33m\u001b[0m\u001b[0m\n\u001b[1;32m--> 251\u001b[1;33m \u001b[1;33m\u001b[0m\u001b[0m\n\u001b[0m\u001b[0;32m    252\u001b[0m         \u001b[0mself\u001b[0m\u001b[1;33m.\u001b[0m\u001b[0m__alpha\u001b[0m\u001b[1;33m,\u001b[0m \u001b[0mself\u001b[0m\u001b[1;33m.\u001b[0m\u001b[0m__bias\u001b[0m \u001b[1;33m=\u001b[0m \u001b[0mself\u001b[0m\u001b[1;33m.\u001b[0m\u001b[0m__countAlphaAndBias\u001b[0m\u001b[1;33m(\u001b[0m\u001b[1;33m)\u001b[0m\u001b[1;33m\u001b[0m\u001b[0m\n\u001b[0;32m    253\u001b[0m         \u001b[0mself\u001b[0m\u001b[1;33m.\u001b[0m\u001b[0m__weight\u001b[0m \u001b[1;33m=\u001b[0m \u001b[0mself\u001b[0m\u001b[1;33m.\u001b[0m\u001b[0m__countWeight\u001b[0m\u001b[1;33m(\u001b[0m\u001b[0mself\u001b[0m\u001b[1;33m.\u001b[0m\u001b[0m__alpha\u001b[0m\u001b[1;33m)\u001b[0m\u001b[1;33m\u001b[0m\u001b[0m\n",
      "\u001b[1;32m~\\Apps\\Python\\cbir\\packages\\Utility\\SVM.py\u001b[0m in \u001b[0;36m__countAlphaAndBias\u001b[1;34m(self)\u001b[0m\n\u001b[0;32m    406\u001b[0m \u001b[1;33m\u001b[0m\u001b[0m\n\u001b[0;32m    407\u001b[0m                     \u001b[0malpha_old\u001b[0m\u001b[1;33m[\u001b[0m\u001b[0mi\u001b[0m\u001b[1;33m]\u001b[0m \u001b[1;33m=\u001b[0m \u001b[0malpha\u001b[0m\u001b[1;33m[\u001b[0m\u001b[0mi\u001b[0m\u001b[1;33m]\u001b[0m\u001b[1;33m\u001b[0m\u001b[0m\n\u001b[1;32m--> 408\u001b[1;33m                     \u001b[0malpha_old\u001b[0m\u001b[1;33m[\u001b[0m\u001b[0mj\u001b[0m\u001b[1;33m]\u001b[0m \u001b[1;33m=\u001b[0m \u001b[0malpha\u001b[0m\u001b[1;33m[\u001b[0m\u001b[0mj\u001b[0m\u001b[1;33m]\u001b[0m\u001b[1;33m\u001b[0m\u001b[0m\n\u001b[0m\u001b[0;32m    409\u001b[0m \u001b[1;33m\u001b[0m\u001b[0m\n\u001b[0;32m    410\u001b[0m                     \u001b[1;31m#computing L and h values\u001b[0m\u001b[1;33m\u001b[0m\u001b[1;33m\u001b[0m\u001b[0m\n",
      "\u001b[1;32m~\\Apps\\Python\\cbir\\packages\\Utility\\SVM.py\u001b[0m in \u001b[0;36mpredict\u001b[1;34m(index)\u001b[0m\n\u001b[0;32m    360\u001b[0m             \u001b[1;32mfor\u001b[0m \u001b[0mi\u001b[0m \u001b[1;32min\u001b[0m \u001b[0mrange\u001b[0m\u001b[1;33m(\u001b[0m\u001b[0mself\u001b[0m\u001b[1;33m.\u001b[0m\u001b[0m__X\u001b[0m\u001b[1;33m.\u001b[0m\u001b[0mshape\u001b[0m\u001b[1;33m[\u001b[0m\u001b[1;36m0\u001b[0m\u001b[1;33m]\u001b[0m\u001b[1;33m)\u001b[0m\u001b[1;33m:\u001b[0m\u001b[1;33m\u001b[0m\u001b[0m\n\u001b[0;32m    361\u001b[0m                 \u001b[0mkernel_matrik\u001b[0m \u001b[1;33m=\u001b[0m \u001b[0mgetKernelMatrix\u001b[0m\u001b[1;33m(\u001b[0m\u001b[0mi\u001b[0m\u001b[1;33m,\u001b[0m \u001b[0mindex\u001b[0m\u001b[1;33m)\u001b[0m\u001b[1;33m\u001b[0m\u001b[0m\n\u001b[1;32m--> 362\u001b[1;33m \u001b[1;33m\u001b[0m\u001b[0m\n\u001b[0m\u001b[0;32m    363\u001b[0m                 \u001b[0mresult\u001b[0m \u001b[1;33m+=\u001b[0m \u001b[1;33m(\u001b[0m\u001b[0malpha\u001b[0m\u001b[1;33m[\u001b[0m\u001b[0mi\u001b[0m\u001b[1;33m]\u001b[0m \u001b[1;33m*\u001b[0m \u001b[0mself\u001b[0m\u001b[1;33m.\u001b[0m\u001b[0m__Y\u001b[0m\u001b[1;33m[\u001b[0m\u001b[0mi\u001b[0m\u001b[1;33m]\u001b[0m \u001b[1;33m*\u001b[0m \u001b[0mkernel_matrik\u001b[0m\u001b[1;33m)\u001b[0m\u001b[1;33m\u001b[0m\u001b[0m\n\u001b[0;32m    364\u001b[0m \u001b[1;33m\u001b[0m\u001b[0m\n",
      "\u001b[1;31mKeyboardInterrupt\u001b[0m: "
     ]
    }
   ],
   "source": [
    "feature_model = Model(\n",
    "    inputs = model.input,\n",
    "    outputs = model.get_layer('f1').output\n",
    ")\n",
    "\n",
    "features_train = feature_model.predict(X_train)\n",
    "\n",
    "cls = SVM(C = 100, tol = 0.01)\n",
    "cls.compile(max_passes = 2, max_iter = 5)\n",
    "# cls = svm.SVC(kernel = 'linear', max_iter = 50000, C = 100)\n",
    "cls.fit(features_train, dataset[fold[0, 0], 1].astype('int'))\n",
    "# joblib.dump(cls, 'trained/trained_svm_digit.sav')"
   ]
  },
  {
   "cell_type": "markdown",
   "metadata": {},
   "source": [
    "## Akurasi SVM\n",
    "### Data Training"
   ]
  },
  {
   "cell_type": "code",
   "execution_count": 248,
   "metadata": {},
   "outputs": [
    {
     "name": "stdout",
     "output_type": "stream",
     "text": [
      "[[407  50  32   1  11   0 134   1 138   4]\n",
      " [  9 843   3   0   2   2  16   0  14   2]\n",
      " [ 38  20 169 147 128 208   1 105   2  27]\n",
      " [  1  20  46 539  36  53   0  98   0   7]\n",
      " [ 35   9  66  84 275  57   5  86   2 158]\n",
      " [ 35  21 113 115  79 242   0  98   1  16]\n",
      " [ 82  20 130   0  36   1 447   1  57   2]\n",
      " [ 19   4  81  55 123  98   0 418   0  22]\n",
      " [276 104 128   4  63   2  45  10 118  32]\n",
      " [ 18  20  74  43 218  58   0  65   2 313]]\n",
      "0.471375\n"
     ]
    }
   ],
   "source": [
    "# cls = joblib.load('trained/trained_svm_digit.sav')\n",
    "y_pred = cls.predict(features_train)\n",
    "y_true = dataset[fold[0, 0], 1].astype('int')\n",
    "\n",
    "print(confusion_matrix(y_true, y_pred))\n",
    "print(accuracy_score(y_true, y_pred))"
   ]
  },
  {
   "cell_type": "markdown",
   "metadata": {},
   "source": [
    "### Data Testing"
   ]
  },
  {
   "cell_type": "code",
   "execution_count": 249,
   "metadata": {},
   "outputs": [
    {
     "name": "stdout",
     "output_type": "stream",
     "text": [
      "[[120   9   2   0   4   0  27   2  38   0]\n",
      " [  1 227   2   1   0   0   5   1   7   0]\n",
      " [  3   5  36  36  38  46   0  19   0   4]\n",
      " [  1   7  14 139   7  22   0  17   0   3]\n",
      " [ 14   2  23  18  76  11   1  19   0  41]\n",
      " [  9   3  30  31  16  47   0  28   1   7]\n",
      " [ 17   6  35   0   7   1 106   0  10   0]\n",
      " [  8   3  16  11  28  31   0 104   0   7]\n",
      " [ 62  22  32   3  13   1  10   5  34  10]\n",
      " [  4   1  21  14  59  20   1  13   3  62]]\n",
      "0.4755\n"
     ]
    }
   ],
   "source": [
    "features_test = feature_model.predict(X_test)\n",
    "\n",
    "y_pred = cls.predict(features_test)\n",
    "y_true = dataset[fold[0, 1], 1].astype('int')\n",
    "\n",
    "print(confusion_matrix(y_true, y_pred))\n",
    "print(accuracy_score(y_true, y_pred))"
   ]
  },
  {
   "cell_type": "markdown",
   "metadata": {},
   "source": [
    "# Retrieval Dengan SVM sebagai klasifikasi"
   ]
  },
  {
   "cell_type": "markdown",
   "metadata": {},
   "source": [
    "Kueri acak"
   ]
  },
  {
   "cell_type": "code",
   "execution_count": 228,
   "metadata": {},
   "outputs": [],
   "source": [
    "index_kueri = np.random.randint(X_test.shape[0])\n",
    "kueri = X_test[index_kueri]"
   ]
  },
  {
   "cell_type": "markdown",
   "metadata": {},
   "source": [
    "### Mendapatkan fitur dari data training"
   ]
  },
  {
   "cell_type": "code",
   "execution_count": 229,
   "metadata": {},
   "outputs": [],
   "source": [
    "train_feature = feature_model.predict(X_train)"
   ]
  },
  {
   "cell_type": "markdown",
   "metadata": {},
   "source": [
    "## Menggabungkan dengan dataset training"
   ]
  },
  {
   "cell_type": "code",
   "execution_count": 230,
   "metadata": {},
   "outputs": [],
   "source": [
    "collection = np.append(dataset[fold[0, 0]], train_feature, axis = 1)"
   ]
  },
  {
   "cell_type": "markdown",
   "metadata": {},
   "source": [
    "### Klasifikasi kueri"
   ]
  },
  {
   "cell_type": "code",
   "execution_count": 231,
   "metadata": {},
   "outputs": [],
   "source": [
    "# cls = joblib.load('trained/trained_svm_digit.sav')\n",
    "ftr = feature_model.predict(np.array([kueri]))\n",
    "pred = cls.predict(ftr)"
   ]
  },
  {
   "cell_type": "markdown",
   "metadata": {},
   "source": [
    "### Mendapatkan daftar citra sesuai hasil klasifikasi"
   ]
  },
  {
   "cell_type": "code",
   "execution_count": 232,
   "metadata": {},
   "outputs": [],
   "source": [
    "box = collection[np.where(collection[:, 1] == pred[0])]"
   ]
  },
  {
   "cell_type": "markdown",
   "metadata": {},
   "source": [
    "### Menghitung jarak"
   ]
  },
  {
   "cell_type": "code",
   "execution_count": 233,
   "metadata": {},
   "outputs": [],
   "source": [
    "jarak = []\n",
    "\n",
    "for i in range(box.shape[0]):\n",
    "    jarak.append([box[i, 3], distance.euclidean(box[i, 4:], ftr)])\n",
    "    \n",
    "jarak.sort(key = lambda x: x[1])    "
   ]
  },
  {
   "cell_type": "markdown",
   "metadata": {},
   "source": [
    "### Menampilkan hasil"
   ]
  },
  {
   "cell_type": "code",
   "execution_count": 234,
   "metadata": {},
   "outputs": [
    {
     "name": "stdout",
     "output_type": "stream",
     "text": [
      "Kelas kueri :  3\n",
      "Prediksi :  3\n"
     ]
    },
    {
     "data": {
      "image/png": "[encoded data removed]",
      "text/plain": [
       "<Figure size 1440x1440 with 20 Axes>"
      ]
     },
     "metadata": {
      "needs_background": "light"
     },
     "output_type": "display_data"
    }
   ],
   "source": [
    "print('Kelas kueri : ', dataset[fold[0, 1]][index_kueri, 1])\n",
    "print('Prediksi : ', pred[0])\n",
    "\n",
    "fig = plt.figure(figsize = (20, 20))\n",
    "\n",
    "## menampilkn query\n",
    "y = fig.add_subplot(5, 5, 1)\n",
    "y.imshow(\n",
    "    cv.cvtColor(cv.imread(dataset[fold[0, 1]][index_kueri, 3]), cv.COLOR_BGR2RGB)\n",
    ")\n",
    "plt.title('Kueri')\n",
    "y.axes.get_xaxis().set_visible(False)\n",
    "y.axes.get_yaxis().set_visible(False)\n",
    "    \n",
    "for i in range(1, 20):\n",
    "    y = fig.add_subplot(5, 5, i + 1)\n",
    "    y.imshow(cv.cvtColor(cv.imread(jarak[i][0]), cv.COLOR_BGR2RGB))\n",
    "    plt.title('Jarak : ' + str(jarak[i][1]))\n",
    "    y.axes.get_xaxis().set_visible(False)\n",
    "    y.axes.get_yaxis().set_visible(False)"
   ]
  },
  {
   "cell_type": "raw",
   "metadata": {},
   "source": []
  }
 ],
 "metadata": {
  "kernelspec": {
   "display_name": "Python 3",
   "language": "python",
   "name": "python3"
  },
  "language_info": {
   "codemirror_mode": {
    "name": "ipython",
    "version": 3
   },
   "file_extension": ".py",
   "mimetype": "text/x-python",
   "name": "python",
   "nbconvert_exporter": "python",
   "pygments_lexer": "ipython3",
   "version": "3.6.6"
  }
 },
 "nbformat": 4,
 "nbformat_minor": 2
}
