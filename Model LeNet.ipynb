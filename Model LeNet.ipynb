{
 "cells": [
  {
   "cell_type": "code",
   "execution_count": 43,
   "metadata": {},
   "outputs": [],
   "source": [
    "from keras.models import Sequential\n",
    "from keras.layers import Conv2D, MaxPool2D, Flatten, Activation, Dense, Dropout, BatchNormalization, ZeroPadding2D\n",
    "from keras.utils import plot_model\n",
    "from keras.utils.vis_utils import model_to_dot\n",
    "from IPython.display import SVG\n",
    "import os\n",
    "os.environ[\"PATH\"] += os.pathsep + 'C:/Program Files (x86)/Graphviz2.38/bin/'"
   ]
  },
  {
   "cell_type": "markdown",
   "metadata": {},
   "source": [
    "# LeNet"
   ]
  },
  {
   "cell_type": "code",
   "execution_count": 65,
   "metadata": {},
   "outputs": [
    {
     "name": "stdout",
     "output_type": "stream",
     "text": [
      "_________________________________________________________________\n",
      "Layer (type)                 Output Shape              Param #   \n",
      "=================================================================\n",
      "c1 (Conv2D)                  (None, 28, 28, 6)         456       \n",
      "_________________________________________________________________\n",
      "mp1 (MaxPooling2D)           (None, 14, 14, 6)         0         \n",
      "_________________________________________________________________\n",
      "c2 (Conv2D)                  (None, 10, 10, 16)        2416      \n",
      "_________________________________________________________________\n",
      "mp2 (MaxPooling2D)           (None, 5, 5, 16)          0         \n",
      "_________________________________________________________________\n",
      "flatten (Flatten)            (None, 400)               0         \n",
      "_________________________________________________________________\n",
      "d1 (Dense)                   (None, 120)               48120     \n",
      "_________________________________________________________________\n",
      "d2 (Dense)                   (None, 84)                10164     \n",
      "_________________________________________________________________\n",
      "output (Dense)               (None, 10)                850       \n",
      "=================================================================\n",
      "Total params: 62,006\n",
      "Trainable params: 62,006\n",
      "Non-trainable params: 0\n",
      "_________________________________________________________________\n"
     ]
    }
   ],
   "source": [
    "model = Sequential()\n",
    "\n",
    "c1 = Conv2D(name='c1', filters = 6,\n",
    "            kernel_size = 5, strides = 1, padding = 'valid', activation = 'relu', \n",
    "            input_shape = (32, 32, 1))\n",
    "mp1 = MaxPool2D(pool_size = 2, name = 'mp1')\n",
    "\n",
    "c2 = Conv2D(name='c2', filters = 16, \n",
    "            kernel_size = 5, strides = 1, padding = 'valid', activation = 'relu')\n",
    "mp2 = MaxPool2D(pool_size = 2, name = 'mp2')\n",
    "\n",
    "# Layer 1\n",
    "model.add(c1)\n",
    "model.add(mp1)\n",
    "\n",
    "# Layer 2\n",
    "model.add(c2)\n",
    "model.add(mp2)\n",
    "\n",
    "model.add(Flatten(name = 'flatten'))\n",
    "\n",
    "# Fully Connected\n",
    "model.add(Dense(120, activation = 'sigmoid', name = 'd1'))\n",
    "model.add(Dense(84, activation = 'sigmoid', name = 'd2'))\n",
    "model.add(Dense(10, activation = 'softmax', name = 'output'))\n",
    "\n",
    "model.summary()"
   ]
  },
  {
   "cell_type": "markdown",
   "metadata": {},
   "source": [
    "# AlexNet"
   ]
  },
  {
   "cell_type": "code",
   "execution_count": 64,
   "metadata": {},
   "outputs": [
    {
     "data": {
      "image/svg+xml": [
       "<svg height=\"629pt\" viewBox=\"0.00 0.00 230.00 629.00\" width=\"230pt\" xmlns=\"http://www.w3.org/2000/svg\" xmlns:xlink=\"http://www.w3.org/1999/xlink\">\n",
       "<g class=\"graph\" id=\"graph0\" transform=\"scale(1 1) rotate(0) translate(4 625)\">\n",
       "<title>G</title>\n",
       "<polygon fill=\"white\" points=\"-4,4 -4,-625 226,-625 226,4 -4,4\" stroke=\"none\"/>\n",
       "<!-- 2682417973120 -->\n",
       "<g class=\"node\" id=\"node1\"><title>2682417973120</title>\n",
       "<polygon fill=\"none\" points=\"69,-511.5 69,-547.5 153,-547.5 153,-511.5 69,-511.5\" stroke=\"black\"/>\n",
       "<text font-family=\"Times New Roman,serif\" font-size=\"14.00\" text-anchor=\"middle\" x=\"111\" y=\"-525.8\">c1: Conv2D</text>\n",
       "</g>\n",
       "<!-- 2682417973400 -->\n",
       "<g class=\"node\" id=\"node2\"><title>2682417973400</title>\n",
       "<polygon fill=\"none\" points=\"0,-438.5 0,-474.5 222,-474.5 222,-438.5 0,-438.5\" stroke=\"black\"/>\n",
       "<text font-family=\"Times New Roman,serif\" font-size=\"14.00\" text-anchor=\"middle\" x=\"111\" y=\"-452.8\">max_pooling2d_102: MaxPooling2D</text>\n",
       "</g>\n",
       "<!-- 2682417973120&#45;&gt;2682417973400 -->\n",
       "<g class=\"edge\" id=\"edge2\"><title>2682417973120-&gt;2682417973400</title>\n",
       "<path d=\"M111,-511.313C111,-503.289 111,-493.547 111,-484.569\" fill=\"none\" stroke=\"black\"/>\n",
       "<polygon fill=\"black\" points=\"114.5,-484.529 111,-474.529 107.5,-484.529 114.5,-484.529\" stroke=\"black\"/>\n",
       "</g>\n",
       "<!-- 2682417972952 -->\n",
       "<g class=\"node\" id=\"node3\"><title>2682417972952</title>\n",
       "<polygon fill=\"none\" points=\"69,-365.5 69,-401.5 153,-401.5 153,-365.5 69,-365.5\" stroke=\"black\"/>\n",
       "<text font-family=\"Times New Roman,serif\" font-size=\"14.00\" text-anchor=\"middle\" x=\"111\" y=\"-379.8\">c2: Conv2D</text>\n",
       "</g>\n",
       "<!-- 2682417973400&#45;&gt;2682417972952 -->\n",
       "<g class=\"edge\" id=\"edge3\"><title>2682417973400-&gt;2682417972952</title>\n",
       "<path d=\"M111,-438.313C111,-430.289 111,-420.547 111,-411.569\" fill=\"none\" stroke=\"black\"/>\n",
       "<polygon fill=\"black\" points=\"114.5,-411.529 111,-401.529 107.5,-411.529 114.5,-411.529\" stroke=\"black\"/>\n",
       "</g>\n",
       "<!-- 2682417973624 -->\n",
       "<g class=\"node\" id=\"node4\"><title>2682417973624</title>\n",
       "<polygon fill=\"none\" points=\"0,-292.5 0,-328.5 222,-328.5 222,-292.5 0,-292.5\" stroke=\"black\"/>\n",
       "<text font-family=\"Times New Roman,serif\" font-size=\"14.00\" text-anchor=\"middle\" x=\"111\" y=\"-306.8\">max_pooling2d_103: MaxPooling2D</text>\n",
       "</g>\n",
       "<!-- 2682417972952&#45;&gt;2682417973624 -->\n",
       "<g class=\"edge\" id=\"edge4\"><title>2682417972952-&gt;2682417973624</title>\n",
       "<path d=\"M111,-365.313C111,-357.289 111,-347.547 111,-338.569\" fill=\"none\" stroke=\"black\"/>\n",
       "<polygon fill=\"black\" points=\"114.5,-338.529 111,-328.529 107.5,-338.529 114.5,-338.529\" stroke=\"black\"/>\n",
       "</g>\n",
       "<!-- 2682417974240 -->\n",
       "<g class=\"node\" id=\"node5\"><title>2682417974240</title>\n",
       "<polygon fill=\"none\" points=\"53,-219.5 53,-255.5 169,-255.5 169,-219.5 53,-219.5\" stroke=\"black\"/>\n",
       "<text font-family=\"Times New Roman,serif\" font-size=\"14.00\" text-anchor=\"middle\" x=\"111\" y=\"-233.8\">flatten_28: Flatten</text>\n",
       "</g>\n",
       "<!-- 2682417973624&#45;&gt;2682417974240 -->\n",
       "<g class=\"edge\" id=\"edge5\"><title>2682417973624-&gt;2682417974240</title>\n",
       "<path d=\"M111,-292.313C111,-284.289 111,-274.547 111,-265.569\" fill=\"none\" stroke=\"black\"/>\n",
       "<polygon fill=\"black\" points=\"114.5,-265.529 111,-255.529 107.5,-265.529 114.5,-265.529\" stroke=\"black\"/>\n",
       "</g>\n",
       "<!-- 2682424274168 -->\n",
       "<g class=\"node\" id=\"node6\"><title>2682424274168</title>\n",
       "<polygon fill=\"none\" points=\"75,-146.5 75,-182.5 147,-182.5 147,-146.5 75,-146.5\" stroke=\"black\"/>\n",
       "<text font-family=\"Times New Roman,serif\" font-size=\"14.00\" text-anchor=\"middle\" x=\"111\" y=\"-160.8\">d1: Dense</text>\n",
       "</g>\n",
       "<!-- 2682417974240&#45;&gt;2682424274168 -->\n",
       "<g class=\"edge\" id=\"edge6\"><title>2682417974240-&gt;2682424274168</title>\n",
       "<path d=\"M111,-219.313C111,-211.289 111,-201.547 111,-192.569\" fill=\"none\" stroke=\"black\"/>\n",
       "<polygon fill=\"black\" points=\"114.5,-192.529 111,-182.529 107.5,-192.529 114.5,-192.529\" stroke=\"black\"/>\n",
       "</g>\n",
       "<!-- 2682424272600 -->\n",
       "<g class=\"node\" id=\"node7\"><title>2682424272600</title>\n",
       "<polygon fill=\"none\" points=\"75,-73.5 75,-109.5 147,-109.5 147,-73.5 75,-73.5\" stroke=\"black\"/>\n",
       "<text font-family=\"Times New Roman,serif\" font-size=\"14.00\" text-anchor=\"middle\" x=\"111\" y=\"-87.8\">d2: Dense</text>\n",
       "</g>\n",
       "<!-- 2682424274168&#45;&gt;2682424272600 -->\n",
       "<g class=\"edge\" id=\"edge7\"><title>2682424274168-&gt;2682424272600</title>\n",
       "<path d=\"M111,-146.313C111,-138.289 111,-128.547 111,-119.569\" fill=\"none\" stroke=\"black\"/>\n",
       "<polygon fill=\"black\" points=\"114.5,-119.529 111,-109.529 107.5,-119.529 114.5,-119.529\" stroke=\"black\"/>\n",
       "</g>\n",
       "<!-- 2682424394696 -->\n",
       "<g class=\"node\" id=\"node8\"><title>2682424394696</title>\n",
       "<polygon fill=\"none\" points=\"64,-0.5 64,-36.5 158,-36.5 158,-0.5 64,-0.5\" stroke=\"black\"/>\n",
       "<text font-family=\"Times New Roman,serif\" font-size=\"14.00\" text-anchor=\"middle\" x=\"111\" y=\"-14.8\">output: Dense</text>\n",
       "</g>\n",
       "<!-- 2682424272600&#45;&gt;2682424394696 -->\n",
       "<g class=\"edge\" id=\"edge8\"><title>2682424272600-&gt;2682424394696</title>\n",
       "<path d=\"M111,-73.3129C111,-65.2895 111,-55.5475 111,-46.5691\" fill=\"none\" stroke=\"black\"/>\n",
       "<polygon fill=\"black\" points=\"114.5,-46.5288 111,-36.5288 107.5,-46.5289 114.5,-46.5288\" stroke=\"black\"/>\n",
       "</g>\n",
       "<!-- 2682417972504 -->\n",
       "<g class=\"node\" id=\"node9\"><title>2682417972504</title>\n",
       "<polygon fill=\"none\" points=\"59,-584.5 59,-620.5 163,-620.5 163,-584.5 59,-584.5\" stroke=\"black\"/>\n",
       "<text font-family=\"Times New Roman,serif\" font-size=\"14.00\" text-anchor=\"middle\" x=\"111\" y=\"-598.8\">2682417972504</text>\n",
       "</g>\n",
       "<!-- 2682417972504&#45;&gt;2682417973120 -->\n",
       "<g class=\"edge\" id=\"edge1\"><title>2682417972504-&gt;2682417973120</title>\n",
       "<path d=\"M111,-584.313C111,-576.289 111,-566.547 111,-557.569\" fill=\"none\" stroke=\"black\"/>\n",
       "<polygon fill=\"black\" points=\"114.5,-557.529 111,-547.529 107.5,-557.529 114.5,-557.529\" stroke=\"black\"/>\n",
       "</g>\n",
       "</g>\n",
       "</svg>"
      ],
      "text/plain": [
       "<IPython.core.display.SVG object>"
      ]
     },
     "execution_count": 64,
     "metadata": {},
     "output_type": "execute_result"
    }
   ],
   "source": [
    "SVG(model_to_dot(model).create(prog='dot', format='svg'))\n",
    "# plot_model(model, to_file='model.png')"
   ]
  },
  {
   "cell_type": "code",
   "execution_count": null,
   "metadata": {},
   "outputs": [],
   "source": []
  }
 ],
 "metadata": {
  "kernelspec": {
   "display_name": "Python 3",
   "language": "python",
   "name": "python3"
  },
  "language_info": {
   "codemirror_mode": {
    "name": "ipython",
    "version": 3
   },
   "file_extension": ".py",
   "mimetype": "text/x-python",
   "name": "python",
   "nbconvert_exporter": "python",
   "pygments_lexer": "ipython3",
   "version": "3.6.6"
  }
 },
 "nbformat": 4,
 "nbformat_minor": 2
}
