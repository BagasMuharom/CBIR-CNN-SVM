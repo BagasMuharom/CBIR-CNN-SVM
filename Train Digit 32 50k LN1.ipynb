{
 "cells": [
  {
   "cell_type": "code",
   "execution_count": null,
   "metadata": {},
   "outputs": [],
   "source": [
    "from sklearn import svm\n",
    "import numpy as np\n",
    "from sklearn.metrics import confusion_matrix\n",
    "from sklearn.metrics import accuracy_score\n",
    "from sklearn.metrics import precision_score\n",
    "from packages.Utility.Gabor import GaborFilterBanks, GaborParams, RotatedGaborParams\n",
    "from keras.models import Sequential, load_model\n",
    "from keras.layers import Conv2D, MaxPool2D, Flatten, Activation, Layer, Dense\n",
    "from keras.models import Model\n",
    "from sklearn.externals import joblib\n",
    "import cv2 as cv\n",
    "import matplotlib.pyplot as plt\n",
    "from scipy.spatial import distance\n",
    "from packages.Utility.SVM.SVM import *\n",
    "from packages.Utility.SVM.Kernel import *\n",
    "from packages.Utility.CNN.Callbacks import SaveModel"
   ]
  },
  {
   "cell_type": "markdown",
   "metadata": {},
   "source": [
    "# Memuat Dataset"
   ]
  },
  {
   "cell_type": "code",
   "execution_count": null,
   "metadata": {},
   "outputs": [],
   "source": [
    "dataset = np.load('dataset/bin/digit 32x32 50k/dataset.npy')\n",
    "folds = np.load('dataset/bin/digit 32x32 50k/folds.npy')\n",
    "labels = np.load('dataset/bin/digit 32x32 50k/target.npy')"
   ]
  },
  {
   "cell_type": "markdown",
   "metadata": {},
   "source": [
    "# K-fold"
   ]
  },
  {
   "cell_type": "code",
   "execution_count": null,
   "metadata": {},
   "outputs": [],
   "source": [
    "current_fold = 0\n",
    "train_idx = folds[current_fold, 0]\n",
    "test_idx = folds[current_fold, 1]"
   ]
  },
  {
   "cell_type": "markdown",
   "metadata": {},
   "source": [
    "# Mendapatkan Dataset Untuk Training dan Testing"
   ]
  },
  {
   "cell_type": "code",
   "execution_count": null,
   "metadata": {},
   "outputs": [],
   "source": [
    "X_train = np.array([i[0] for i in dataset[train_idx]]).reshape(dataset[train_idx].shape[0], 32, 32, 1)\n",
    "Y_train = np.array([i[2] for i in dataset[train_idx]])\n",
    "X_test = np.array([i[0] for i in dataset[test_idx]])\n",
    "Y_test = np.array([i[2] for i in dataset[test_idx]])"
   ]
  },
  {
   "cell_type": "markdown",
   "metadata": {},
   "source": [
    "# Pra-Training"
   ]
  },
  {
   "cell_type": "code",
   "execution_count": null,
   "metadata": {},
   "outputs": [],
   "source": [
    "save_model = SaveModel(base_dir = 'trained/digit 32x32 50k LN1', X_val = X_train, Y_val = Y_train)"
   ]
  },
  {
   "cell_type": "markdown",
   "metadata": {},
   "source": [
    "# CNN\n",
    "Compile CNN pada umumnya"
   ]
  },
  {
   "cell_type": "code",
   "execution_count": null,
   "metadata": {},
   "outputs": [],
   "source": [
    "model = Sequential()\n",
    "\n",
    "c1 = Conv2D(name='c1', filters = 6, kernel_initializer = GaborFilterBanks(RotatedGaborParams(lambd = 0.5, psi = 1.57, sigma = 2, gamma = 0.75)),\n",
    "            kernel_size = 5, strides = 1, padding = 'valid', activation = 'relu', \n",
    "            input_shape = (32, 32, 1))\n",
    "c2 = Conv2D(name='c2', filters = 16, kernel_initializer = GaborFilterBanks(RotatedGaborParams(lambd = 0.5, psi = 1.57, sigma = 2, gamma = 0.75)), \n",
    "            kernel_size = 5, strides = 1, padding = 'valid', activation = 'relu')\n",
    "m1 = MaxPool2D(pool_size = 2)\n",
    "m2 = MaxPool2D(pool_size = 2)\n",
    "f1 = Flatten(name = 'flatten')\n",
    "model.add(c1)\n",
    "model.add(m1)\n",
    "model.add(c2)\n",
    "model.add(m2)\n",
    "model.add(f1)\n",
    "model.add(Dense(120, activation = 'sigmoid', name = 'd1'))\n",
    "model.add(Dense(84, activation = 'sigmoid', name = 'd2'))\n",
    "model.add(Dense(10, activation = 'softmax', name = 'd3'))"
   ]
  },
  {
   "cell_type": "code",
   "execution_count": null,
   "metadata": {},
   "outputs": [],
   "source": [
    "model.compile(optimizer='adam', loss='mse', metrics=['accuracy'])\n",
    "history = model.fit(X_train, Y_train, epochs = 5, verbose = 1, batch_size = 128, callbacks=[save_model])"
   ]
  },
  {
   "cell_type": "code",
   "execution_count": null,
   "metadata": {},
   "outputs": [],
   "source": [
    "X_test = np.array([i[0] for i in dataset[fold[0, 1]]])\n",
    "Y_test_cnn = np.array([i[2] for i in dataset[fold[0, 1]]])\n",
    "Y_test_svm = np.array([i[1] for i in dataset[fold[0, 1]]])"
   ]
  },
  {
   "cell_type": "markdown",
   "metadata": {},
   "source": [
    "## Menghitung Akurasi CNN\n",
    "### Akurasi data training"
   ]
  },
  {
   "cell_type": "code",
   "execution_count": null,
   "metadata": {},
   "outputs": [],
   "source": [
    "predicted = model.predict(X_train)\n",
    "y_pred = np.argmax(predicted, axis = 1)\n",
    "y_true = dataset[fold[0, 0], 1].astype('int')\n",
    "\n",
    "print(confusion_matrix(y_true, y_pred))\n",
    "print(accuracy_score(y_true, y_pred))"
   ]
  },
  {
   "cell_type": "markdown",
   "metadata": {},
   "source": [
    "### Akurasi data testing"
   ]
  },
  {
   "cell_type": "code",
   "execution_count": null,
   "metadata": {},
   "outputs": [],
   "source": [
    "predicted = model.predict(X_test)\n",
    "y_pred = np.argmax(predicted, axis = 1)\n",
    "y_true = Y_test_svm.astype('int')\n",
    "\n",
    "print(confusion_matrix(y_true, y_pred))\n",
    "print(accuracy_score(y_true, y_pred))"
   ]
  },
  {
   "cell_type": "markdown",
   "metadata": {},
   "source": [
    "# Melakukan Pelatihan dengan SVM\n",
    "data dari Flatten layer dilatih pada SVM dan\n",
    "diuji akurasinya"
   ]
  },
  {
   "cell_type": "code",
   "execution_count": null,
   "metadata": {},
   "outputs": [],
   "source": [
    "feature_model = Model(\n",
    "    inputs = model.input,\n",
    "    outputs = model.get_layer('f1').output\n",
    ")\n",
    "\n",
    "features_train = feature_model.predict(X_train)\n",
    "\n",
    "# cls = SVM(C = 100, tol = 0.01)\n",
    "# cls.compile(max_passes = 2, max_iter = 5)\n",
    "cls = svm.SVC(kernel = 'linear', max_iter = 50000, C = 100, decision_function_shape='ovo', verbose = True)\n",
    "cls.fit(features_train, dataset[fold[0, 0], 1].astype('int'))\n",
    "# joblib.dump(cls, 'trained/trained_svm_digit.sav')"
   ]
  },
  {
   "cell_type": "code",
   "execution_count": null,
   "metadata": {},
   "outputs": [],
   "source": [
    "cls.support_"
   ]
  },
  {
   "cell_type": "markdown",
   "metadata": {},
   "source": [
    "## Akurasi SVM\n",
    "### Data Training"
   ]
  },
  {
   "cell_type": "code",
   "execution_count": null,
   "metadata": {},
   "outputs": [],
   "source": [
    "# cls = joblib.load('trained/trained_svm_digit.sav')\n",
    "y_pred = cls.predict(features_train)\n",
    "y_true = dataset[fold[0, 0], 1].astype('int')\n",
    "\n",
    "print(confusion_matrix(y_true, y_pred))\n",
    "print(accuracy_score(y_true, y_pred))"
   ]
  },
  {
   "cell_type": "markdown",
   "metadata": {},
   "source": [
    "### Data Testing"
   ]
  },
  {
   "cell_type": "code",
   "execution_count": null,
   "metadata": {},
   "outputs": [],
   "source": [
    "features_test = feature_model.predict(X_test)\n",
    "\n",
    "y_pred = cls.predict(features_test)\n",
    "y_true = dataset[fold[0, 1], 1].astype('int')\n",
    "\n",
    "print(confusion_matrix(y_true, y_pred))\n",
    "print(accuracy_score(y_true, y_pred))"
   ]
  },
  {
   "cell_type": "markdown",
   "metadata": {},
   "source": [
    "# Retrieval Dengan SVM sebagai klasifikasi"
   ]
  },
  {
   "cell_type": "markdown",
   "metadata": {},
   "source": [
    "Kueri acak"
   ]
  },
  {
   "cell_type": "code",
   "execution_count": null,
   "metadata": {},
   "outputs": [],
   "source": [
    "index_kueri = np.random.randint(X_test.shape[0])\n",
    "kueri = X_test[index_kueri]"
   ]
  },
  {
   "cell_type": "markdown",
   "metadata": {},
   "source": [
    "### Mendapatkan fitur dari data training"
   ]
  },
  {
   "cell_type": "code",
   "execution_count": null,
   "metadata": {},
   "outputs": [],
   "source": [
    "train_feature = feature_model.predict(X_train)"
   ]
  },
  {
   "cell_type": "markdown",
   "metadata": {},
   "source": [
    "## Menggabungkan dengan dataset training"
   ]
  },
  {
   "cell_type": "code",
   "execution_count": null,
   "metadata": {},
   "outputs": [],
   "source": [
    "collection = np.append(dataset[fold[0, 0]], train_feature, axis = 1)"
   ]
  },
  {
   "cell_type": "markdown",
   "metadata": {},
   "source": [
    "### Klasifikasi kueri"
   ]
  },
  {
   "cell_type": "code",
   "execution_count": null,
   "metadata": {},
   "outputs": [],
   "source": [
    "# cls = joblib.load('trained/trained_svm_digit.sav')\n",
    "ftr = feature_model.predict(np.array([kueri]))\n",
    "pred = cls.predict(ftr)"
   ]
  },
  {
   "cell_type": "markdown",
   "metadata": {},
   "source": [
    "### Mendapatkan daftar citra sesuai hasil klasifikasi"
   ]
  },
  {
   "cell_type": "code",
   "execution_count": null,
   "metadata": {},
   "outputs": [],
   "source": [
    "box = collection[np.where(collection[:, 1] == pred[0])]"
   ]
  },
  {
   "cell_type": "markdown",
   "metadata": {},
   "source": [
    "### Menghitung jarak"
   ]
  },
  {
   "cell_type": "code",
   "execution_count": null,
   "metadata": {},
   "outputs": [],
   "source": [
    "jarak = []\n",
    "\n",
    "for i in range(box.shape[0]):\n",
    "    jarak.append([box[i, 3], distance.euclidean(box[i, 4:], ftr)])\n",
    "    \n",
    "jarak.sort(key = lambda x: x[1])    "
   ]
  },
  {
   "cell_type": "markdown",
   "metadata": {},
   "source": [
    "### Menampilkan hasil"
   ]
  },
  {
   "cell_type": "code",
   "execution_count": null,
   "metadata": {},
   "outputs": [],
   "source": [
    "print('Kelas kueri : ', dataset[fold[0, 1]][index_kueri, 1])\n",
    "print('Prediksi : ', pred[0])\n",
    "\n",
    "fig = plt.figure(figsize = (20, 20))\n",
    "\n",
    "## menampilkn query\n",
    "y = fig.add_subplot(5, 5, 1)\n",
    "y.imshow(\n",
    "    cv.cvtColor(cv.imread(dataset[fold[0, 1]][index_kueri, 3]), cv.COLOR_BGR2RGB)\n",
    ")\n",
    "plt.title('Kueri')\n",
    "y.axes.get_xaxis().set_visible(False)\n",
    "y.axes.get_yaxis().set_visible(False)\n",
    "    \n",
    "for i in range(1, 20):\n",
    "    y = fig.add_subplot(5, 5, i + 1)\n",
    "    y.imshow(cv.cvtColor(cv.imread(jarak[i][0]), cv.COLOR_BGR2RGB))\n",
    "    plt.title('Jarak : ' + str(jarak[i][1]))\n",
    "    y.axes.get_xaxis().set_visible(False)\n",
    "    y.axes.get_yaxis().set_visible(False)"
   ]
  },
  {
   "cell_type": "raw",
   "metadata": {},
   "source": []
  }
 ],
 "metadata": {
  "kernelspec": {
   "display_name": "Python 3",
   "language": "python",
   "name": "python3"
  },
  "language_info": {
   "codemirror_mode": {
    "name": "ipython",
    "version": 3
   },
   "file_extension": ".py",
   "mimetype": "text/x-python",
   "name": "python",
   "nbconvert_exporter": "python",
   "pygments_lexer": "ipython3",
   "version": "3.6.6"
  }
 },
 "nbformat": 4,
 "nbformat_minor": 2
}
