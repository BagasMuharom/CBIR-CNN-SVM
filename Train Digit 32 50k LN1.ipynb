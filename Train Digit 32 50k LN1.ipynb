{
 "cells": [
  {
   "cell_type": "code",
   "execution_count": 1,
   "metadata": {},
   "outputs": [
    {
     "name": "stderr",
     "output_type": "stream",
     "text": [
      "Using TensorFlow backend.\n"
     ]
    }
   ],
   "source": [
    "import numpy as np\n",
    "import cv2 as cv\n",
    "import matplotlib.pyplot as plt\n",
    "from sklearn import svm\n",
    "from sklearn.metrics import accuracy_score\n",
    "from sklearn.externals import joblib\n",
    "from keras.models import Sequential, load_model\n",
    "from keras.layers import Conv2D, MaxPool2D, Flatten, Activation, Layer, Dense\n",
    "from keras.models import Model\n",
    "from scipy.spatial import distance\n",
    "from packages.Utility.SVM.SVM import *\n",
    "from packages.Utility.SVM.Kernel import *\n",
    "from packages.Utility.CNN.Callbacks import SaveModel\n",
    "from packages.Utility.DatasetManager import DatasetReader\n",
    "from packages.Utility.Metrics import plot_conf_matrix\n",
    "from packages.Utility.Gabor import GaborFilterBanks, GaborParams, RotatedGaborParams"
   ]
  },
  {
   "cell_type": "markdown",
   "metadata": {},
   "source": [
    "# Memuat Dataset"
   ]
  },
  {
   "cell_type": "code",
   "execution_count": 2,
   "metadata": {},
   "outputs": [],
   "source": [
    "reader = DatasetReader('dataset/bin/digit 32x32 50k')\n",
    "fold = 0\n",
    "\n",
    "X_train, Y_train_onehot, Y_train_single = reader.getTrainData(fold)\n",
    "X_test, Y_test_onehot, Y_test_single = reader.getTestData(fold)"
   ]
  },
  {
   "cell_type": "markdown",
   "metadata": {},
   "source": [
    "# Pra-Training"
   ]
  },
  {
   "cell_type": "code",
   "execution_count": 3,
   "metadata": {},
   "outputs": [],
   "source": [
    "save_model = SaveModel(base_dir = 'trained/digit 32x32 50k LN1', X_val = X_train, Y_val = Y_train_onehot)"
   ]
  },
  {
   "cell_type": "markdown",
   "metadata": {},
   "source": [
    "# Mendefinisikan Model CNN\n",
    "Mendefinisikan arsitektur CNN"
   ]
  },
  {
   "cell_type": "code",
   "execution_count": 4,
   "metadata": {},
   "outputs": [],
   "source": [
    "model = Sequential()\n",
    "\n",
    "c1 = Conv2D(name='c1', filters = 6, kernel_initializer = GaborFilterBanks(RotatedGaborParams(lambd = 0.5, psi = 1.57, sigma = 2, gamma = 0.75)),\n",
    "            kernel_size = 5, strides = 1, padding = 'valid', activation = 'relu', \n",
    "            input_shape = (32, 32, 1))\n",
    "c2 = Conv2D(name='c2', filters = 16, kernel_initializer = GaborFilterBanks(RotatedGaborParams(lambd = 0.5, psi = 1.57, sigma = 2, gamma = 0.75)), \n",
    "            kernel_size = 5, strides = 1, padding = 'valid', activation = 'relu')\n",
    "m1 = MaxPool2D(pool_size = 2)\n",
    "m2 = MaxPool2D(pool_size = 2)\n",
    "f1 = Flatten(name = 'flatten')\n",
    "model.add(c1)\n",
    "model.add(m1)\n",
    "model.add(c2)\n",
    "model.add(m2)\n",
    "model.add(f1)\n",
    "model.add(Dense(10, activation = 'softmax', name = 'd3'))"
   ]
  },
  {
   "cell_type": "markdown",
   "metadata": {},
   "source": [
    "# Melakukan Pelatihan\n",
    "Melakukan pelatihan pada CNN"
   ]
  },
  {
   "cell_type": "code",
   "execution_count": 5,
   "metadata": {},
   "outputs": [
    {
     "name": "stdout",
     "output_type": "stream",
     "text": [
      "Epoch 1/1\n",
      "33750/33750 [==============================] - 613s 18ms/step - loss: 0.1668 - acc: 0.1657\n",
      "val_acc: 0.146\n"
     ]
    }
   ],
   "source": [
    "model.compile(optimizer='adam', loss='mse', metrics=['accuracy'])\n",
    "history = model.fit(X_train, Y_train_onehot, epochs = 1, verbose = 1, batch_size = 128, callbacks=[save_model])"
   ]
  },
  {
   "cell_type": "markdown",
   "metadata": {},
   "source": [
    "## Menghitung Akurasi CNN\n",
    "### Akurasi data training"
   ]
  },
  {
   "cell_type": "code",
   "execution_count": 6,
   "metadata": {},
   "outputs": [
    {
     "name": "stdout",
     "output_type": "stream",
     "text": [
      "Confusion matrix, without normalization\n",
      "[[   0    0    0   11    0  116    3 3620    0]\n",
      " [   0    0    0 3561    0    0    0  189    0]\n",
      " [   0    0    0 1395    0    1    4 2350    0]\n",
      " [   0    1    0 1283    0  147    0 2319    0]\n",
      " [   0    1    0  347    0   39    0 3363    0]\n",
      " [   0    0    0  316    0  385    2 3047    0]\n",
      " [   0    0    0  176    0   73    1 3500    0]\n",
      " [   0    0    0  461    0   27    0 3262    0]\n",
      " [   0    0    0  575    0   73    0 3102    0]]\n"
     ]
    },
    {
     "data": {
      "text/plain": [
       "<matplotlib.axes._subplots.AxesSubplot at 0x1853ed2c2e8>"
      ]
     },
     "execution_count": 6,
     "metadata": {},
     "output_type": "execute_result"
    },
    {
     "data": {
      "image/png": "[encoded data removed]",
      "text/plain": [
       "<Figure size 432x288 with 2 Axes>"
      ]
     },
     "metadata": {
      "needs_background": "light"
     },
     "output_type": "display_data"
    }
   ],
   "source": [
    "predicted = model.predict(X_train)\n",
    "y_pred = np.argmax(predicted, axis = 1)\n",
    "y_true = Y_train_single\n",
    "\n",
    "plot_conf_matrix(y_true, y_pred, reader.labels, figsize = (7, 7))"
   ]
  },
  {
   "cell_type": "markdown",
   "metadata": {},
   "source": [
    "### Akurasi data testing"
   ]
  },
  {
   "cell_type": "code",
   "execution_count": null,
   "metadata": {},
   "outputs": [],
   "source": [
    "predicted = model.predict(X_test)\n",
    "y_pred = np.argmax(predicted, axis = 1)\n",
    "y_true = Y_test_single\n",
    "\n",
    "plot_conf_matrix(y_true, y_pred, reader.labels, figsize = (7, 7))"
   ]
  },
  {
   "cell_type": "markdown",
   "metadata": {},
   "source": [
    "# Melakukan Pelatihan dengan SVM\n",
    "data dari Flatten layer dilatih pada SVM dan\n",
    "diuji akurasinya"
   ]
  },
  {
   "cell_type": "code",
   "execution_count": 7,
   "metadata": {},
   "outputs": [
    {
     "name": "stdout",
     "output_type": "stream",
     "text": [
      "[LibSVM]"
     ]
    },
    {
     "name": "stderr",
     "output_type": "stream",
     "text": [
      "c:\\python\\lib\\site-packages\\sklearn\\svm\\base.py:218: ConvergenceWarning: Solver terminated early (max_iter=50000).  Consider pre-processing your data with StandardScaler or MinMaxScaler.\n",
      "  % self.max_iter, ConvergenceWarning)\n"
     ]
    },
    {
     "data": {
      "text/plain": [
       "SVC(C=100, cache_size=200, class_weight=None, coef0=0.0,\n",
       "  decision_function_shape='ovo', degree=3, gamma='auto', kernel='linear',\n",
       "  max_iter=50000, probability=False, random_state=None, shrinking=True,\n",
       "  tol=0.001, verbose=True)"
      ]
     },
     "execution_count": 7,
     "metadata": {},
     "output_type": "execute_result"
    }
   ],
   "source": [
    "feature_model = Model(\n",
    "    inputs = model.input,\n",
    "    outputs = model.get_layer('flatten').output\n",
    ")\n",
    "\n",
    "features_train = feature_model.predict(X_train)\n",
    "\n",
    "cls = svm.SVC(kernel = 'linear', max_iter = 50000, C = 100, decision_function_shape='ovo', verbose = True)\n",
    "cls.fit(features_train, Y_train_single)\n",
    "# joblib.dump(cls, 'trained/trained_svm_digit.sav')"
   ]
  },
  {
   "cell_type": "markdown",
   "metadata": {},
   "source": [
    "## Akurasi SVM\n",
    "### Data Training"
   ]
  },
  {
   "cell_type": "code",
   "execution_count": 8,
   "metadata": {},
   "outputs": [
    {
     "name": "stdout",
     "output_type": "stream",
     "text": [
      "Confusion matrix, without normalization\n",
      "[[3750    0    0    0    0    0    0    0    0]\n",
      " [   0 3750    0    0    0    0    0    0    0]\n",
      " [   0    0 3750    0    0    0    0    0    0]\n",
      " [   0    0    0 3738    0   12    0    0    0]\n",
      " [   0    0    0    0 3750    0    0    0    0]\n",
      " [   0    0    0    7    0 3743    0    0    0]\n",
      " [   0    0    0    0    0    0 3750    0    0]\n",
      " [   0    0    0    0    0    0    0 3750    0]\n",
      " [   0    0    0    0    0    0    0    0 3750]]\n"
     ]
    },
    {
     "data": {
      "text/plain": [
       "<matplotlib.axes._subplots.AxesSubplot at 0x18545304860>"
      ]
     },
     "execution_count": 8,
     "metadata": {},
     "output_type": "execute_result"
    },
    {
     "data": {
      "image/png": "[encoded data removed]",
      "text/plain": [
       "<Figure size 432x288 with 2 Axes>"
      ]
     },
     "metadata": {
      "needs_background": "light"
     },
     "output_type": "display_data"
    }
   ],
   "source": [
    "# cls = joblib.load('trained/trained_svm_digit.sav')\n",
    "y_pred = cls.predict(features_train)\n",
    "y_true = Y_train_single\n",
    "\n",
    "plot_conf_matrix(y_true, y_pred, dsreader.labels)"
   ]
  },
  {
   "cell_type": "markdown",
   "metadata": {},
   "source": [
    "### Data Testing"
   ]
  },
  {
   "cell_type": "code",
   "execution_count": null,
   "metadata": {},
   "outputs": [],
   "source": [
    "features_test = feature_model.predict(X_test)"
   ]
  },
  {
   "cell_type": "code",
   "execution_count": 10,
   "metadata": {},
   "outputs": [
    {
     "name": "stdout",
     "output_type": "stream",
     "text": [
      "Confusion matrix, without normalization\n",
      "[[1228    0    3    1    0    2    4    2   10]\n",
      " [   0 1231    7    2    0    0    0    6    4]\n",
      " [  10    7 1188   15    2    0    1   11   16]\n",
      " [   3    1   22 1189    2   18    0    7    8]\n",
      " [   3    3   10    3 1199    0    3   21    8]\n",
      " [   9    3    7   34    4 1173    5    2   13]\n",
      " [  12    3    4    3    1   12 1214    0    1]\n",
      " [   1   11    7    4   19    6    0 1200    2]\n",
      " [  15   16   18   16   10   22    3    5 1145]]\n"
     ]
    },
    {
     "data": {
      "text/plain": [
       "<matplotlib.axes._subplots.AxesSubplot at 0x18541dea0b8>"
      ]
     },
     "execution_count": 10,
     "metadata": {},
     "output_type": "execute_result"
    },
    {
     "data": {
      "image/png": "[encoded data removed]",
      "text/plain": [
       "<Figure size 432x288 with 2 Axes>"
      ]
     },
     "metadata": {
      "needs_background": "light"
     },
     "output_type": "display_data"
    }
   ],
   "source": [
    "y_pred = cls.predict(features_test)\n",
    "y_true = Y_test_single\n",
    "\n",
    "plot_conf_matrix(y_true, y_pred, dsreader.labels)"
   ]
  },
  {
   "cell_type": "markdown",
   "metadata": {},
   "source": [
    "# Retrieval Dengan SVM sebagai klasifikasi"
   ]
  },
  {
   "cell_type": "markdown",
   "metadata": {},
   "source": [
    "Kueri acak"
   ]
  },
  {
   "cell_type": "code",
   "execution_count": null,
   "metadata": {},
   "outputs": [],
   "source": [
    "index_kueri = np.random.randint(X_test.shape[0])\n",
    "kueri = X_test[index_kueri]"
   ]
  },
  {
   "cell_type": "markdown",
   "metadata": {},
   "source": [
    "### Mendapatkan fitur dari data training"
   ]
  },
  {
   "cell_type": "code",
   "execution_count": null,
   "metadata": {},
   "outputs": [],
   "source": [
    "train_feature = feature_model.predict(X_train)"
   ]
  },
  {
   "cell_type": "markdown",
   "metadata": {},
   "source": [
    "## Menggabungkan dengan dataset training"
   ]
  },
  {
   "cell_type": "code",
   "execution_count": null,
   "metadata": {},
   "outputs": [],
   "source": [
    "collection = np.append(dataset[fold[0, 0]], train_feature, axis = 1)"
   ]
  },
  {
   "cell_type": "markdown",
   "metadata": {},
   "source": [
    "### Klasifikasi kueri"
   ]
  },
  {
   "cell_type": "code",
   "execution_count": null,
   "metadata": {},
   "outputs": [],
   "source": [
    "# cls = joblib.load('trained/trained_svm_digit.sav')\n",
    "ftr = feature_model.predict(np.array([kueri]))\n",
    "pred = cls.predict(ftr)"
   ]
  },
  {
   "cell_type": "markdown",
   "metadata": {},
   "source": [
    "### Mendapatkan daftar citra sesuai hasil klasifikasi"
   ]
  },
  {
   "cell_type": "code",
   "execution_count": null,
   "metadata": {},
   "outputs": [],
   "source": [
    "box = collection[np.where(collection[:, 1] == pred[0])]"
   ]
  },
  {
   "cell_type": "markdown",
   "metadata": {},
   "source": [
    "### Menghitung jarak"
   ]
  },
  {
   "cell_type": "code",
   "execution_count": null,
   "metadata": {},
   "outputs": [],
   "source": [
    "jarak = []\n",
    "\n",
    "for i in range(box.shape[0]):\n",
    "    jarak.append([box[i, 3], distance.euclidean(box[i, 4:], ftr)])\n",
    "    \n",
    "jarak.sort(key = lambda x: x[1])    "
   ]
  },
  {
   "cell_type": "markdown",
   "metadata": {},
   "source": [
    "### Menampilkan hasil"
   ]
  },
  {
   "cell_type": "code",
   "execution_count": null,
   "metadata": {},
   "outputs": [],
   "source": [
    "print('Kelas kueri : ', dataset[fold[0, 1]][index_kueri, 1])\n",
    "print('Prediksi : ', pred[0])\n",
    "\n",
    "fig = plt.figure(figsize = (20, 20))\n",
    "\n",
    "## menampilkn query\n",
    "y = fig.add_subplot(5, 5, 1)\n",
    "y.imshow(\n",
    "    cv.cvtColor(cv.imread(dataset[fold[0, 1]][index_kueri, 3]), cv.COLOR_BGR2RGB)\n",
    ")\n",
    "plt.title('Kueri')\n",
    "y.axes.get_xaxis().set_visible(False)\n",
    "y.axes.get_yaxis().set_visible(False)\n",
    "    \n",
    "for i in range(1, 20):\n",
    "    y = fig.add_subplot(5, 5, i + 1)\n",
    "    y.imshow(cv.cvtColor(cv.imread(jarak[i][0]), cv.COLOR_BGR2RGB))\n",
    "    plt.title('Jarak : ' + str(jarak[i][1]))\n",
    "    y.axes.get_xaxis().set_visible(False)\n",
    "    y.axes.get_yaxis().set_visible(False)"
   ]
  },
  {
   "cell_type": "raw",
   "metadata": {},
   "source": []
  }
 ],
 "metadata": {
  "kernelspec": {
   "display_name": "Python 3",
   "language": "python",
   "name": "python3"
  },
  "language_info": {
   "codemirror_mode": {
    "name": "ipython",
    "version": 3
   },
   "file_extension": ".py",
   "mimetype": "text/x-python",
   "name": "python",
   "nbconvert_exporter": "python",
   "pygments_lexer": "ipython3",
   "version": "3.6.6"
  }
 },
 "nbformat": 4,
 "nbformat_minor": 2
}
