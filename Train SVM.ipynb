{
 "cells": [
  {
   "cell_type": "code",
   "execution_count": 1,
   "metadata": {},
   "outputs": [
    {
     "name": "stderr",
     "output_type": "stream",
     "text": [
      "Using TensorFlow backend.\n"
     ]
    }
   ],
   "source": [
    "from keras.models import load_model, Model, Sequential\n",
    "from packages.Utility.CNN.FeatureManager import FeatureExtractor, FeatureReader, FeatureWriter\n",
    "from packages.Utility.Gabor import GaborFilterBanks, GaborParams, RotatedGaborParams\n",
    "from keras.layers import Conv2D, MaxPool2D, Flatten, Activation, Layer, Dense\n",
    "from packages.Utility.DatasetManager import DatasetReader\n",
    "from packages.Utility.CNN.FeatureManager import FeatureExtractor, FeatureReader, FeatureWriter\n",
    "from packages.Utility.Metrics import ConfusionMatrix, CNN_Evaluator, SVM_Evaluator\n",
    "from sklearn import svm\n",
    "from packages.Model.CFNet import CFNet1_1"
   ]
  },
  {
   "cell_type": "markdown",
   "metadata": {},
   "source": [
    "# Inisialisasi"
   ]
  },
  {
   "cell_type": "code",
   "execution_count": 25,
   "metadata": {},
   "outputs": [],
   "source": [
    "dataset_dir = 'dataset/bin/DG321'\n",
    "weight_dir = 'trained/digit LN[1]/Fold 1/acc 0.9627 - epoch 122.h5'"
   ]
  },
  {
   "cell_type": "markdown",
   "metadata": {},
   "source": [
    "# Load Dataset"
   ]
  },
  {
   "cell_type": "code",
   "execution_count": 26,
   "metadata": {},
   "outputs": [],
   "source": [
    "reader = DatasetReader(dataset_dir)\n",
    "fold = 0\n",
    "\n",
    "X_train, Y_train_onehot, Y_train_single = reader.getTrainData(fold)\n",
    "X_test, Y_test_onehot, Y_test_single = reader.getTestData(fold)"
   ]
  },
  {
   "cell_type": "markdown",
   "metadata": {},
   "source": [
    "# Mendefinisikan Model"
   ]
  },
  {
   "cell_type": "code",
   "execution_count": 2,
   "metadata": {},
   "outputs": [
    {
     "name": "stdout",
     "output_type": "stream",
     "text": [
      "WARNING:tensorflow:From c:\\python\\lib\\site-packages\\tensorflow\\python\\framework\\op_def_library.py:263: colocate_with (from tensorflow.python.framework.ops) is deprecated and will be removed in a future version.\n",
      "Instructions for updating:\n",
      "Colocations handled automatically by placer.\n",
      "_________________________________________________________________\n",
      "Layer (type)                 Output Shape              Param #   \n",
      "=================================================================\n",
      "c1 (Conv2D)                  (None, 32, 32, 32)        896       \n",
      "_________________________________________________________________\n",
      "c2 (Conv2D)                  (None, 32, 32, 32)        9248      \n",
      "_________________________________________________________________\n",
      "max_pooling2d_1 (MaxPooling2 (None, 16, 16, 32)        0         \n",
      "_________________________________________________________________\n",
      "c3 (Conv2D)                  (None, 16, 16, 64)        18496     \n",
      "_________________________________________________________________\n",
      "c4 (Conv2D)                  (None, 16, 16, 64)        36928     \n",
      "_________________________________________________________________\n",
      "mp4 (MaxPooling2D)           (None, 8, 8, 64)          0         \n",
      "_________________________________________________________________\n",
      "c5 (Conv2D)                  (None, 8, 8, 128)         73856     \n",
      "_________________________________________________________________\n",
      "c6 (Conv2D)                  (None, 8, 8, 128)         147584    \n",
      "_________________________________________________________________\n",
      "mp6 (MaxPooling2D)           (None, 4, 4, 128)         0         \n",
      "_________________________________________________________________\n",
      "flatten (Flatten)            (None, 2048)              0         \n",
      "_________________________________________________________________\n",
      "output (Dense)               (None, 10)                20490     \n",
      "=================================================================\n",
      "Total params: 307,498\n",
      "Trainable params: 307,498\n",
      "Non-trainable params: 0\n",
      "_________________________________________________________________\n"
     ]
    }
   ],
   "source": [
    "model = CFNet1_1()\n",
    "model.model.summary()"
   ]
  },
  {
   "cell_type": "markdown",
   "metadata": {},
   "source": [
    "# Load Weights"
   ]
  },
  {
   "cell_type": "code",
   "execution_count": 31,
   "metadata": {},
   "outputs": [],
   "source": [
    "model.load_weights(weight_dir)"
   ]
  },
  {
   "cell_type": "markdown",
   "metadata": {},
   "source": [
    "# Ekstraksi Fitur"
   ]
  },
  {
   "cell_type": "code",
   "execution_count": 32,
   "metadata": {},
   "outputs": [],
   "source": [
    "extractor = FeatureExtractor(model, output_layer = 'flatten')\n",
    "feature_train = extractor.extract(X_train)\n",
    "feature_test = extractor.extract(X_test)"
   ]
  },
  {
   "cell_type": "markdown",
   "metadata": {},
   "source": [
    "# Pelatihan SVM"
   ]
  },
  {
   "cell_type": "code",
   "execution_count": null,
   "metadata": {},
   "outputs": [],
   "source": [
    "cls = svm.SVC(kernel = 'linear', max_iter = 50000, C = 100, decision_function_shape='ovo', verbose = True)\n",
    "cls.fit(feature_train, Y_train_single)"
   ]
  },
  {
   "cell_type": "markdown",
   "metadata": {},
   "source": [
    "# Evaluasi Model\n",
    "### Evaluasi untuk CNN"
   ]
  },
  {
   "cell_type": "code",
   "execution_count": 34,
   "metadata": {},
   "outputs": [],
   "source": [
    "ev_cnn = CNN_Evaluator(model = model, labels = reader.labels)\n",
    "y_true_train_cnn, y_pred_train_cnn, score_train_cnn = ev_cnn.evaluate(X_train, Y_train_single)\n",
    "y_true_test_cnn, y_pred_test_cnn, score_train_cnn = ev_cnn.evaluate(X_test, Y_test_single)"
   ]
  },
  {
   "cell_type": "markdown",
   "metadata": {},
   "source": [
    "### Evaluasi untuk SVM"
   ]
  },
  {
   "cell_type": "code",
   "execution_count": null,
   "metadata": {},
   "outputs": [],
   "source": [
    "ev_svm = SVM_Evaluator(model = cls, labels = reader.labels)\n",
    "y_true_train_svm, y_pred_train_svm, score_train_svm = ev_svm.evaluate(feature_train, Y_train_single)\n",
    "y_true_test_svm, y_pred_test_svm, score_test_svm = ev_svm.evaluate(feature_test, Y_test_single)"
   ]
  },
  {
   "cell_type": "markdown",
   "metadata": {},
   "source": [
    "# Menampilkan Confusion Matrix"
   ]
  },
  {
   "cell_type": "code",
   "execution_count": null,
   "metadata": {},
   "outputs": [],
   "source": [
    "# Confusion Matrix\n",
    "cfm = ConfusionMatrix((25, 25), 2, 2, reader.labels)\n",
    "cfm.xylabel_size = 15\n",
    "cfm.add(y_true_train_cnn, y_pred_train_cnn, 'Data Training CNN')\n",
    "cfm.add(y_true_test_cnn, y_pred_test_cnn, 'Data Testing CNN')\n",
    "cfm.add(y_true_train_svm, y_pred_train_svm, 'Data Training SVM')\n",
    "cfm.add(y_true_test_svm, y_pred_test_svm, 'Data Testing SVM')\n",
    "cfm.show()"
   ]
  },
  {
   "cell_type": "code",
   "execution_count": null,
   "metadata": {},
   "outputs": [],
   "source": []
  }
 ],
 "metadata": {
  "kernelspec": {
   "display_name": "Python 3",
   "language": "python",
   "name": "python3"
  },
  "language_info": {
   "codemirror_mode": {
    "name": "ipython",
    "version": 3
   },
   "file_extension": ".py",
   "mimetype": "text/x-python",
   "name": "python",
   "nbconvert_exporter": "python",
   "pygments_lexer": "ipython3",
   "version": "3.6.6"
  }
 },
 "nbformat": 4,
 "nbformat_minor": 2
}
