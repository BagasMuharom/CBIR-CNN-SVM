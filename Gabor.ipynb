{
 "cells": [
  {
   "cell_type": "code",
   "execution_count": 105,
   "metadata": {},
   "outputs": [],
   "source": [
    "import numpy as np\n",
    "import cv2 as cv\n",
    "import matplotlib.pyplot as plt\n",
    "# import keras.backend as K\n",
    "\n",
    "def getGaborFilter(shape):\n",
    "    all_kernels = []\n",
    "    \n",
    "    for i in range(shape[0]):\n",
    "        kernels = []\n",
    "        \n",
    "        for j in range(shape[1]):\n",
    "            kernels.append(\n",
    "                cv.getGaborKernel(\n",
    "                    ksize = (shape[3], shape[2]), \n",
    "                    sigma = 5,\n",
    "                    theta = 10,\n",
    "                    lambd = 5,\n",
    "                    gamma = 0.75 * j,\n",
    "                    psi = 1\n",
    "                )\n",
    "            )\n",
    "            \n",
    "        all_kernels.append(np.array(kernels))\n",
    "        \n",
    "    return np.array(all_kernels)"
   ]
  },
  {
   "cell_type": "code",
   "execution_count": 106,
   "metadata": {},
   "outputs": [],
   "source": [
    "gbr = getGaborFilter((1, 3, 30, 30))"
   ]
  },
  {
   "cell_type": "code",
   "execution_count": 107,
   "metadata": {},
   "outputs": [
    {
     "data": {
      "text/plain": [
       "(1, 3, 31, 31)"
      ]
     },
     "execution_count": 107,
     "metadata": {},
     "output_type": "execute_result"
    }
   ],
   "source": [
    "gbr.shape"
   ]
  },
  {
   "cell_type": "code",
   "execution_count": 108,
   "metadata": {},
   "outputs": [
    {
     "data": {
      "image/png": "[encoded data removed]",
      "text/plain": [
       "<Figure size 1440x1440 with 3 Axes>"
      ]
     },
     "metadata": {
      "needs_background": "light"
     },
     "output_type": "display_data"
    }
   ],
   "source": [
    "fig = plt.figure(figsize = (20, 20))\n",
    "\n",
    "c = 0\n",
    "for i in range(gbr.shape[1]):\n",
    "    y = fig.add_subplot(5, 5, c + 1)\n",
    "    kernel = gbr[0, i, :, :]\n",
    "    \n",
    "    y.imshow(kernel, cmap = 'gray')\n",
    "    plt.title('psi = ' + str(0.5 * i), y = -0.2)\n",
    "    y.axes.get_xaxis().set_visible(False)\n",
    "    y.axes.get_yaxis().set_visible(False)\n",
    "    \n",
    "    c += 1"
   ]
  },
  {
   "cell_type": "code",
   "execution_count": 132,
   "metadata": {},
   "outputs": [],
   "source": [
    "def gaborFilter(width, height, lambd, theta, psi, sigma, gamma):\n",
    "    gabor = np.zeros(shape = (height, width))\n",
    "    \n",
    "    for y in range(int(-height/2), int(height/2) + 1):\n",
    "        for x in range(int(-width/2), int(width/2) + 1):\n",
    "            x_aksen = x * np.cos(theta) + y * np.sin(theta)\n",
    "            y_aksen = -x * np.sin(theta) + y * np.cos(theta)\n",
    "            gabor[y + int(height/2)][x + int(width/2)] = np.exp(-(x_aksen ** 2 + ((gamma ** 2) * (y_aksen ** 2))) / (2 * (sigma ** 2))) * np.cos((((2 * np.pi * x_aksen) / lambd) + psi))\n",
    "                                                                                                                 \n",
    "    return gabor"
   ]
  },
  {
   "cell_type": "code",
   "execution_count": 134,
   "metadata": {},
   "outputs": [
    {
     "data": {
      "text/plain": [
       "<matplotlib.image.AxesImage at 0x1dfb524a0b8>"
      ]
     },
     "execution_count": 134,
     "metadata": {},
     "output_type": "execute_result"
    },
    {
     "data": {
      "image/png": "[encoded data removed]",
      "text/plain": [
       "<Figure size 432x288 with 1 Axes>"
      ]
     },
     "metadata": {
      "needs_background": "light"
     },
     "output_type": "display_data"
    }
   ],
   "source": [
    "gbr = gaborFilter(5, 5, \n",
    "                  sigma = 20,\n",
    "                  theta = 15,\n",
    "                  lambd = 16,\n",
    "                  gamma = 0.75,\n",
    "                  psi = 5)\n",
    "\n",
    "plt.imshow(gbr, cmap = 'gray')"
   ]
  },
  {
   "cell_type": "code",
   "execution_count": 137,
   "metadata": {},
   "outputs": [
    {
     "data": {
      "text/plain": [
       "array([[ 0.36285133,  0.07485836, -0.22045163, -0.49524106, -0.72374205],\n",
       "       [ 0.5859499 ,  0.32412617,  0.03220789, -0.26230154, -0.53167295],\n",
       "       [ 0.77030616,  0.55241957,  0.28366219, -0.01070661, -0.30291354],\n",
       "       [ 0.90296557,  0.7436584 ,  0.5162058 ,  0.24187452, -0.05344289],\n",
       "       [ 0.97481688,  0.8845161 ,  0.71353085,  0.47768158,  0.19919492]])"
      ]
     },
     "execution_count": 137,
     "metadata": {},
     "output_type": "execute_result"
    }
   ],
   "source": [
    "gbr"
   ]
  },
  {
   "cell_type": "code",
   "execution_count": null,
   "metadata": {},
   "outputs": [],
   "source": []
  }
 ],
 "metadata": {
  "kernelspec": {
   "display_name": "Python 3",
   "language": "python",
   "name": "python3"
  },
  "language_info": {
   "codemirror_mode": {
    "name": "ipython",
    "version": 3
   },
   "file_extension": ".py",
   "mimetype": "text/x-python",
   "name": "python",
   "nbconvert_exporter": "python",
   "pygments_lexer": "ipython3",
   "version": "3.6.6"
  }
 },
 "nbformat": 4,
 "nbformat_minor": 2
}
