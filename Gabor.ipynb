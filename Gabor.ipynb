{
 "cells": [
  {
   "cell_type": "code",
   "execution_count": 1,
   "metadata": {},
   "outputs": [
    {
     "name": "stderr",
     "output_type": "stream",
     "text": [
      "Using TensorFlow backend.\n"
     ]
    }
   ],
   "source": [
    "import matplotlib.pyplot as plt\n",
    "import numpy as np\n",
    "import keras.backend as K\n",
    "from keras.initializers import Initializer\n",
    "from packages.Utility.Gabor import gaborFilter"
   ]
  },
  {
   "cell_type": "code",
   "execution_count": 2,
   "metadata": {},
   "outputs": [],
   "source": [
    "class GaborFilterBanks(Initializer):\n",
    "\n",
    "    def __init__(self, gabor_params, normalize = False):\n",
    "        self.gabor_params = gabor_params\n",
    "        self.normalize = normalize\n",
    "        \n",
    "    def getFilterBanks(self, shape):\n",
    "        all_kernels = []\n",
    "    \n",
    "        # Membuat sejumlah kernel yang diinginkan\n",
    "        for i in range(shape[3]):\n",
    "            kernels = []\n",
    "    \n",
    "            # Membuat sejumlah channel\n",
    "            for j in range(shape[2]):\n",
    "                lambd, theta, psi, sigma, gamma = self.gabor_params.getParams(shape, i, j)\n",
    "                \n",
    "                gabor = gaborFilter(\n",
    "                        size = (shape[0], shape[1]), \n",
    "                        sigma = sigma,\n",
    "                        theta = theta,\n",
    "                        lambd = lambd,\n",
    "                        gamma = gamma,\n",
    "                        psi = psi\n",
    "                    )\n",
    "                \n",
    "                if self.normalize:\n",
    "                    gabor /= np.linalg.norm(gabor)\n",
    "                    \n",
    "                kernels.append(gabor)\n",
    "                \n",
    "            all_kernels.append(np.array(kernels))\n",
    "        \n",
    "        all_kernels = np.array(all_kernels).T\n",
    "        \n",
    "        return all_kernels\n",
    "\n",
    "    def __call__(self, shape, dtype = None):\n",
    "        all_kernels = self.getFilterBanks(shape)\n",
    "        \n",
    "        kernel = K.variable(all_kernels, dtype = dtype)\n",
    "\n",
    "        return kernel"
   ]
  },
  {
   "cell_type": "code",
   "execution_count": 6,
   "metadata": {},
   "outputs": [],
   "source": [
    "class GaborParams():\n",
    "    \n",
    "    def __init__(self, sigma = -1, lambd = -1, gamma = -1, psi = -1, theta = (-1, -1)):\n",
    "        self.theta = theta\n",
    "        self.sigma = sigma\n",
    "        self.lambd = lambd\n",
    "        self.gamma = gamma\n",
    "        self.psi = psi\n",
    "    \n",
    "    def getParams(self, shape, i, j):\n",
    "        self.i = i + 1\n",
    "        self.j = j + 1\n",
    "        self.shape = shape\n",
    "        \n",
    "        theta = self.hitungTheta() * np.pi / 180\n",
    "        sigma = self.hitungSigma()\n",
    "        lambd = self.hitungLambda()\n",
    "        gamma = self.hitungGamma()\n",
    "        psi = self.hitungPsi()\n",
    "        \n",
    "        return lambd, theta, psi, sigma, gamma\n",
    "    \n",
    "    def hitungTheta(self):\n",
    "        start = (360 / self.shape[2]) if self.theta[0] is -1 else self.theta[0]\n",
    "        end = (360 - (360 / self.shape[2])) if self.theta[1] is -1 else self.theta[1]\n",
    "        \n",
    "        rangeTheta = np.linspace(start, end, self.shape[3])\n",
    "        \n",
    "        return rangeTheta[self.i - 1]\n",
    "    \n",
    "    def hitungSigma(self):\n",
    "        start = (self.i + 1) if self.sigma is -1 else self.sigma[0]\n",
    "        end = (self.i + self.j) if self.sigma is -1 else self.sigma[1]\n",
    "        \n",
    "        rangeSigma = np.linspace(start, end, self.shape[2])\n",
    "        \n",
    "        return rangeSigma[self.j - 1]\n",
    "    \n",
    "    def hitungLambda(self):\n",
    "        start = ((self.i + 1) / self.shape[2]) if self.lambd is -1 else self.lambd[0]\n",
    "        end = (self.i * self.j / self.shape[2]) if self.lambd is -1 else self.lambd[1]\n",
    "        \n",
    "        rangeLambd = np.linspace(start, end, self.shape[2])\n",
    "        \n",
    "        return rangeLambd[self.j - 1]\n",
    "    \n",
    "    def hitungGamma(self):\n",
    "        start = ((self.i + 1) / self.shape[2]) if self.gamma is -1 else self.gamma[0]\n",
    "        end = ((self.i + self.j) / self.shape[2]) if self.gamma is -1 else self.gamma[1]\n",
    "        \n",
    "        rangeGamma = np.linspace(start, end, self.shape[2])\n",
    "        \n",
    "        return rangeGamma[self.j - 1]\n",
    "    \n",
    "    def hitungPsi(self):\n",
    "        start = (self.i + 1) if self.psi is -1 else self.psi[0]\n",
    "        end = (self.i + self.j) if self.psi is -1 else self.psi[1]\n",
    "        \n",
    "        rangePsi = np.linspace(start, end, self.shape[2])\n",
    "        \n",
    "        return rangePsi[self.j - 1]\n",
    "    "
   ]
  },
  {
   "cell_type": "code",
   "execution_count": 11,
   "metadata": {},
   "outputs": [],
   "source": [
    "shape = (11, 11, 10, 16)\n",
    "\n",
    "banks1 = GaborFilterBanks(GaborParams(), normalize = False)\n",
    "filters1 = banks1.getFilterBanks(shape)\n",
    "\n",
    "banks2 = GaborFilterBanks(GaborParams(theta = (30, 360), sigma = (1, 10), lambd = (5, 20), gamma = (0.25, 2)), normalize = True)\n",
    "filters2 = banks2.getFilterBanks(shape)"
   ]
  },
  {
   "cell_type": "code",
   "execution_count": 12,
   "metadata": {},
   "outputs": [
    {
     "data": {
      "image/png": "[encoded data removed]",
      "text/plain": [
       "<Figure size 1800x1800 with 10 Axes>"
      ]
     },
     "metadata": {},
     "output_type": "display_data"
    }
   ],
   "source": [
    "fig = plt.figure(figsize = (25, 25))\n",
    "\n",
    "for i in range(shape[2]):\n",
    "    y = plt.subplot(6, 6, i + 1)\n",
    "    y.imshow(filters1[:, :, i, 5], cmap='gray')\n",
    "    plt.xticks([])\n",
    "    plt.yticks([])\n",
    "    \n",
    "plt.show()"
   ]
  },
  {
   "cell_type": "code",
   "execution_count": 28,
   "metadata": {},
   "outputs": [
    {
     "data": {
      "image/png": "[encoded data removed]",
      "text/plain": [
       "<Figure size 1800x1800 with 5 Axes>"
      ]
     },
     "metadata": {},
     "output_type": "display_data"
    }
   ],
   "source": [
    "fig = plt.figure(figsize = (25, 25))\n",
    "\n",
    "for i in range(shape[2]):\n",
    "    y = plt.subplot(6, 6, i + 1)\n",
    "    y.imshow(filters2[:, :, i, 0], cmap='gray')\n",
    "    plt.xticks([])\n",
    "    plt.yticks([])\n",
    "    \n",
    "plt.show()"
   ]
  },
  {
   "cell_type": "code",
   "execution_count": 17,
   "metadata": {},
   "outputs": [
    {
     "data": {
      "text/plain": [
       "array([[-0.00134406,  0.00602368, -0.00993137,  0.00602368, -0.00134406],\n",
       "       [ 0.03565477, -0.1597936 ,  0.26345511, -0.1597936 ,  0.03565477],\n",
       "       [ 0.08824809, -0.3955005 ,  0.65207009, -0.3955005 ,  0.08824809],\n",
       "       [ 0.03565477, -0.1597936 ,  0.26345511, -0.1597936 ,  0.03565477],\n",
       "       [-0.00134406,  0.00602368, -0.00993137,  0.00602368, -0.00134406]])"
      ]
     },
     "execution_count": 17,
     "metadata": {},
     "output_type": "execute_result"
    }
   ],
   "source": [
    "filters2[:, :, 0, 2]"
   ]
  },
  {
   "cell_type": "code",
   "execution_count": null,
   "metadata": {},
   "outputs": [],
   "source": []
  }
 ],
 "metadata": {
  "kernelspec": {
   "display_name": "Python 3",
   "language": "python",
   "name": "python3"
  },
  "language_info": {
   "codemirror_mode": {
    "name": "ipython",
    "version": 3
   },
   "file_extension": ".py",
   "mimetype": "text/x-python",
   "name": "python",
   "nbconvert_exporter": "python",
   "pygments_lexer": "ipython3",
   "version": "3.6.6"
  }
 },
 "nbformat": 4,
 "nbformat_minor": 2
}
