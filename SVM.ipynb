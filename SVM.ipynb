{
 "cells": [
  {
   "cell_type": "code",
   "execution_count": 1,
   "metadata": {},
   "outputs": [],
   "source": [
    "from packages.Utility.SVM import *\n",
    "from packages.Utility.Kernel import LinearKernel\n",
    "import numpy as np\n",
    "from sklearn.metrics import confusion_matrix"
   ]
  },
  {
   "cell_type": "code",
   "execution_count": 2,
   "metadata": {},
   "outputs": [],
   "source": [
    "X_train = np.array([\n",
    "    [1, 2, 3],\n",
    "    [2, 2, 2],\n",
    "    [1, 2, 2],\n",
    "    [1, -1, 2],\n",
    "    [6, 6, 6],\n",
    "    \n",
    "    [4, 5, 7],\n",
    "    [6, 5, 5],\n",
    "    [5, 5, 5],\n",
    "    \n",
    "    [-3, -2, -1],\n",
    "    [-4, -1, 0],\n",
    "    [0, -2, -2],\n",
    "    \n",
    "    [20, 10, 9],\n",
    "    [10, 13, 10],\n",
    "    [15, 16, 11],\n",
    "    \n",
    "    [-10, -8, -11],\n",
    "    [-7, -9, -10],\n",
    "    [0, -11, -6]\n",
    "])\n",
    "\n",
    "Y_train = np.array([0, 0, 0, 0, 1, 1, 1, 1, 2, 2, 2, 3, 3, 3, 4, 4, 4])"
   ]
  },
  {
   "cell_type": "code",
   "execution_count": 4,
   "metadata": {},
   "outputs": [
    {
     "name": "stdout",
     "output_type": "stream",
     "text": [
      "\n",
      "Fitting for class 0 and 1\n",
      "Train on 8 samples\n",
      "Passes: 10/10 | Iteration: 44/~ | Index Data: 8/8 | Time: 0.30s\n",
      "acc: 1.00\n",
      "--------------------------------------------------------------------------------\n",
      "Fitting for class 0 and 2\n",
      "Train on 7 samples\n",
      "Passes: 10/10 | Iteration: 16/~ | Index Data: 7/7 | Time: 0.05s\n",
      "acc: 1.00\n",
      "--------------------------------------------------------------------------------\n",
      "Fitting for class 0 and 3\n",
      "Train on 7 samples\n",
      "Passes: 10/10 | Iteration: 17/~ | Index Data: 7/7 | Time: 0.07s\n",
      "acc: 1.00\n",
      "--------------------------------------------------------------------------------\n",
      "Fitting for class 0 and 4\n",
      "Train on 7 samples\n",
      "Passes: 10/10 | Iteration: 16/~ | Index Data: 7/7 | Time: 0.05s\n",
      "acc: 1.00\n",
      "--------------------------------------------------------------------------------\n",
      "Fitting for class 1 and 2\n",
      "Train on 7 samples\n",
      "Passes: 10/10 | Iteration: 18/~ | Index Data: 7/7 | Time: 0.07s\n",
      "acc: 1.00\n",
      "--------------------------------------------------------------------------------\n",
      "Fitting for class 1 and 3\n",
      "Train on 7 samples\n",
      "Passes: 10/10 | Iteration: 11/~ | Index Data: 7/7 | Time: 0.04s\n",
      "acc: 1.00\n",
      "--------------------------------------------------------------------------------\n",
      "Fitting for class 1 and 4\n",
      "Train on 7 samples\n",
      "Passes: 10/10 | Iteration: 17/~ | Index Data: 7/7 | Time: 0.08s\n",
      "acc: 1.00\n",
      "--------------------------------------------------------------------------------\n",
      "Fitting for class 2 and 3\n",
      "Train on 6 samples\n",
      "Passes: 10/10 | Iteration: 13/~ | Index Data: 6/6 | Time: 0.05s\n",
      "acc: 1.00\n",
      "--------------------------------------------------------------------------------\n",
      "Fitting for class 2 and 4\n",
      "Train on 6 samples\n",
      "Passes: 10/10 | Iteration: 24/~ | Index Data: 6/6 | Time: 0.10s\n",
      "acc: 1.00\n",
      "--------------------------------------------------------------------------------\n",
      "Fitting for class 3 and 4\n",
      "Train on 6 samples\n",
      "Passes: 10/10 | Iteration: 14/~ | Index Data: 6/6 | Time: 0.05s\n",
      "acc: 1.00\n",
      "--------------------------------------------------------------------------------\n",
      "================================================================================\n",
      "Total Classes\t: 5\n",
      "================================================================================\n",
      "Total SVM\t: 10.0\n",
      "================================================================================\n",
      "Total Weights\t: 30.0\n",
      "================================================================================\n",
      "Total Params\t: 40.0\n",
      "================================================================================\n"
     ]
    }
   ],
   "source": [
    "cls = SVM(kernel = LinearKernel())\n",
    "cls.compile(max_passes = 10)\n",
    "cls.fit(X_train, Y_train)\n",
    "cls.summary()"
   ]
  },
  {
   "cell_type": "code",
   "execution_count": 4,
   "metadata": {},
   "outputs": [
    {
     "data": {
      "text/plain": [
       "array([[4, 0, 0, 0, 0],\n",
       "       [0, 4, 0, 0, 0],\n",
       "       [0, 0, 3, 0, 0],\n",
       "       [0, 0, 0, 3, 0],\n",
       "       [0, 0, 0, 0, 3]], dtype=int64)"
      ]
     },
     "execution_count": 4,
     "metadata": {},
     "output_type": "execute_result"
    }
   ],
   "source": [
    "y_pred = cls.predict(X_train)\n",
    "\n",
    "confusion_matrix(Y_train, y_pred)"
   ]
  },
  {
   "cell_type": "code",
   "execution_count": null,
   "metadata": {},
   "outputs": [],
   "source": [
    "cls.getWeight()"
   ]
  }
 ],
 "metadata": {
  "kernelspec": {
   "display_name": "Python 3",
   "language": "python",
   "name": "python3"
  },
  "language_info": {
   "codemirror_mode": {
    "name": "ipython",
    "version": 3
   },
   "file_extension": ".py",
   "mimetype": "text/x-python",
   "name": "python",
   "nbconvert_exporter": "python",
   "pygments_lexer": "ipython3",
   "version": "3.6.6"
  }
 },
 "nbformat": 4,
 "nbformat_minor": 2
}
