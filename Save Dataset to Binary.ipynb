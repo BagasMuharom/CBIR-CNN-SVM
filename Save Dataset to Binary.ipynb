{
 "cells": [
  {
   "cell_type": "code",
   "execution_count": 1,
   "metadata": {},
   "outputs": [
    {
     "name": "stderr",
     "output_type": "stream",
     "text": [
      "Using TensorFlow backend.\n"
     ]
    }
   ],
   "source": [
    "from packages.Utility.DatasetManager import DatasetWriter"
   ]
  },
  {
   "cell_type": "code",
   "execution_count": 20,
   "metadata": {},
   "outputs": [
    {
     "name": "stdout",
     "output_type": "stream",
     "text": [
      "\n",
      "Scanning directory : Ayam\n",
      "Reading: 250/250 [========================================>] 100.0%\n",
      "Scanning directory : Bangunan\n",
      "Reading: 250/250 [========================================>] 100.0%\n",
      "Scanning directory : Bunga\n",
      "Reading: 250/250 [========================================>] 100.0%\n",
      "Scanning directory : Capung\n",
      "Reading: 250/250 [========================================>] 100.0%\n",
      "Scanning directory : Gunung Salju\n",
      "Reading: 250/250 [========================================>] 100.0%\n",
      "Scanning directory : Kapal\n",
      "Reading: 250/250 [========================================>] 100.0%\n",
      "Scanning directory : Kapal Militer\n",
      "Reading: 250/250 [========================================>] 100.0%\n",
      "Scanning directory : Kembang Api\n",
      "Reading: 250/250 [========================================>] 100.0%\n",
      "Scanning directory : Kuda\n",
      "Reading: 250/250 [========================================>] 100.0%\n",
      "Scanning directory : Kuil\n",
      "Reading: 250/250 [========================================>] 100.0%\n",
      "Scanning directory : Kupu-kupu\n",
      "Reading: 250/250 [========================================>] 100.0%\n",
      "Scanning directory : Matahari Terbenam\n",
      "Reading: 250/250 [========================================>] 100.0%\n",
      "Scanning directory : Mobil\n",
      "Reading: 250/250 [========================================>] 100.0%\n",
      "Scanning directory : Padang Rumput\n",
      "Reading: 250/250 [========================================>] 100.0%\n",
      "Scanning directory : Pantai\n",
      "Reading: 250/250 [========================================>] 100.0%\n",
      "Scanning directory : Pepohonan\n",
      "Reading: 250/250 [========================================>] 100.0%\n",
      "Scanning directory : Pesawat\n",
      "Reading: 250/250 [========================================>] 100.0%\n",
      "Scanning directory : Sepeda Motor\n",
      "Reading: 250/250 [========================================>] 100.0%\n",
      "Scanning directory : Serangga\n",
      "Reading: 250/250 [========================================>] 100.0%\n",
      "Scanning directory : Tembok Cina\n",
      "Reading: 250/250 [========================================>] 100.0%\n",
      "Creating Folds\n",
      "Folds Created"
     ]
    }
   ],
   "source": [
    "writer = DatasetWriter(\n",
    "    path = 'dataset/images/ghim20',\n",
    "    output_dir = 'dataset/bin/ghim20 227x227 5k',\n",
    "    jumlah_citra_per_kelas = 250,\n",
    "    fold_split = 4,\n",
    "    resize = (227, 227),\n",
    "    shuffle = True,\n",
    "    grayscale = False\n",
    ")"
   ]
  },
  {
   "cell_type": "code",
   "execution_count": 21,
   "metadata": {},
   "outputs": [
    {
     "name": "stdout",
     "output_type": "stream",
     "text": [
      "Saving ...\n",
      "Saved to\t: dataset/bin/ghim20 227x227 5k\n",
      "\t\t  -> dataset.npy\n",
      "\t\t  -> folds.npy\n",
      "\t\t  -> labels.npy\n",
      "\t\t  -> config.json\n"
     ]
    }
   ],
   "source": [
    "writer.save()"
   ]
  },
  {
   "cell_type": "code",
   "execution_count": null,
   "metadata": {},
   "outputs": [],
   "source": []
  }
 ],
 "metadata": {
  "kernelspec": {
   "display_name": "Python 3",
   "language": "python",
   "name": "python3"
  },
  "language_info": {
   "codemirror_mode": {
    "name": "ipython",
    "version": 3
   },
   "file_extension": ".py",
   "mimetype": "text/x-python",
   "name": "python",
   "nbconvert_exporter": "python",
   "pygments_lexer": "ipython3",
   "version": "3.6.6"
  }
 },
 "nbformat": 4,
 "nbformat_minor": 2
}
