{
 "cells": [
  {
   "cell_type": "code",
   "execution_count": 1,
   "metadata": {},
   "outputs": [
    {
     "name": "stderr",
     "output_type": "stream",
     "text": [
      "Using TensorFlow backend.\n"
     ]
    }
   ],
   "source": [
    "import os\n",
    "from os import listdir\n",
    "from os.path import isdir, isfile, join\n",
    "import numpy as np\n",
    "import cv2 as cv\n",
    "from keras.utils import to_categorical\n",
    "from sklearn.model_selection import KFold"
   ]
  },
  {
   "cell_type": "code",
   "execution_count": 46,
   "metadata": {},
   "outputs": [],
   "source": [
    "path = 'dataset/images/digit'\n",
    "dir_output = 'dataset/bin/digit 227x227 2.5k'\n",
    "output = 'dataset'\n",
    "jumlah_citra = 250\n",
    "resize = (227, 227)\n",
    "shuffle = True\n",
    "grayscale = False\n",
    "fold_split = 4\n",
    "\n",
    "daftar_direktori = [direktori for direktori in os.listdir(path) if isdir(join(path, direktori))]\n",
    "dataset = []"
   ]
  },
  {
   "cell_type": "code",
   "execution_count": 47,
   "metadata": {},
   "outputs": [],
   "source": [
    "for index_direktori, direktori in enumerate(daftar_direktori):\n",
    "    daftar_citra = [join(join(path, direktori), citra) for citra in os.listdir(join(path, direktori)) if isfile(join(join(path, direktori), citra))]\n",
    "    \n",
    "    if shuffle:\n",
    "        daftar_citra = np.random.choice(daftar_citra, jumlah_citra, False)\n",
    "    \n",
    "    maks_citra = range(len(daftar_citra))\n",
    "    \n",
    "    if jumlah_citra > 0:\n",
    "        maks_citra = range(0, jumlah_citra)\n",
    "    \n",
    "    for i in maks_citra:\n",
    "        citra = cv.imread(daftar_citra[i])\n",
    "        \n",
    "        if resize is not False:\n",
    "            citra = cv.resize(citra, resize)\n",
    "            \n",
    "        if grayscale:\n",
    "            citra = cv.cvtColor(citra, cv.COLOR_BGR2GRAY)\n",
    "        \n",
    "        target = index_direktori\n",
    "        target_categorical = to_categorical(target, len(daftar_direktori))\n",
    "        \n",
    "        dataset.append(\n",
    "            np.array([\n",
    "                citra, target, target_categorical, daftar_citra[i]\n",
    "            ])\n",
    "        )\n",
    "        \n",
    "dataset = np.array(dataset)"
   ]
  },
  {
   "cell_type": "markdown",
   "metadata": {},
   "source": [
    "# KFold"
   ]
  },
  {
   "cell_type": "code",
   "execution_count": 48,
   "metadata": {},
   "outputs": [],
   "source": [
    "jumlah_kelas = len(daftar_direktori)\n",
    "jumlah_citra_per_kelas = jumlah_citra\n",
    "kf = KFold(n_splits = fold_split, shuffle = True)\n",
    "folds = []\n",
    "\n",
    "for i in range(fold_split):\n",
    "    folds.append([[],[]])\n",
    "\n",
    "# Melakukan k-fold untuk setiap kelas\n",
    "for i in range(jumlah_kelas - 1):\n",
    "    start_idx = i * jumlah_citra_per_kelas\n",
    "    end_idx = (i + 1) * jumlah_citra_per_kelas\n",
    "    \n",
    "    fold_iter = 0\n",
    "    for train, test in kf.split(dataset[start_idx:end_idx]):\n",
    "        for tr in train:\n",
    "            folds[fold_iter][0].append(int(tr + start_idx))\n",
    "        \n",
    "        for te in test:\n",
    "            folds[fold_iter][1].append(int(te + start_idx))\n",
    "        fold_iter += 1\n",
    "    \n",
    "folds = np.array(folds)"
   ]
  },
  {
   "cell_type": "code",
   "execution_count": 49,
   "metadata": {},
   "outputs": [
    {
     "data": {
      "text/plain": [
       "(2500, 4)"
      ]
     },
     "execution_count": 49,
     "metadata": {},
     "output_type": "execute_result"
    }
   ],
   "source": [
    "dataset.shape"
   ]
  },
  {
   "cell_type": "code",
   "execution_count": 50,
   "metadata": {},
   "outputs": [],
   "source": [
    "np.save(f'{join(dir_output, output)}.npy', dataset)\n",
    "np.save('{0}'.format(join(dir_output, 'folds.npy')), folds)\n",
    "np.save('{0}'.format(join(dir_output, 'target.npy')), daftar_direktori)"
   ]
  },
  {
   "cell_type": "markdown",
   "metadata": {},
   "source": [
    "# Load Dataset"
   ]
  },
  {
   "cell_type": "code",
   "execution_count": 14,
   "metadata": {},
   "outputs": [],
   "source": [
    "dataset = np.load('dataset/bin/ghim20 3k/dataset.npy')"
   ]
  },
  {
   "cell_type": "code",
   "execution_count": 15,
   "metadata": {},
   "outputs": [
    {
     "data": {
      "text/plain": [
       "(3000, 3)"
      ]
     },
     "execution_count": 15,
     "metadata": {},
     "output_type": "execute_result"
    }
   ],
   "source": [
    "dataset.shape"
   ]
  },
  {
   "cell_type": "code",
   "execution_count": null,
   "metadata": {},
   "outputs": [],
   "source": []
  },
  {
   "cell_type": "code",
   "execution_count": null,
   "metadata": {},
   "outputs": [],
   "source": [
    "import matplotlib.pyplot as plt\n",
    "\n",
    "fig = plt.figure(figsize = (25, 25))\n",
    "\n",
    "for i in range(20):\n",
    "    y = plt.subplot(5, 5, i + 1)\n",
    "    y.imshow(cv.cvtColor(dataset[i, 0], cv.COLOR_BGR2RGB))\n",
    "    plt.xticks([])\n",
    "    plt.yticks([])\n",
    "    \n",
    "plt.show()"
   ]
  },
  {
   "cell_type": "markdown",
   "metadata": {},
   "source": [
    "# Load Folds"
   ]
  },
  {
   "cell_type": "code",
   "execution_count": 24,
   "metadata": {},
   "outputs": [],
   "source": [
    "folds = np.load('dataset/bin/digit 32x32 50k/folds.npy')"
   ]
  },
  {
   "cell_type": "code",
   "execution_count": 25,
   "metadata": {},
   "outputs": [
    {
     "data": {
      "text/plain": [
       "(4, 2)"
      ]
     },
     "execution_count": 25,
     "metadata": {},
     "output_type": "execute_result"
    }
   ],
   "source": [
    "folds.shape"
   ]
  },
  {
   "cell_type": "code",
   "execution_count": null,
   "metadata": {},
   "outputs": [],
   "source": [
    "folds"
   ]
  }
 ],
 "metadata": {
  "kernelspec": {
   "display_name": "Python 3",
   "language": "python",
   "name": "python3"
  },
  "language_info": {
   "codemirror_mode": {
    "name": "ipython",
    "version": 3
   },
   "file_extension": ".py",
   "mimetype": "text/x-python",
   "name": "python",
   "nbconvert_exporter": "python",
   "pygments_lexer": "ipython3",
   "version": "3.6.6"
  }
 },
 "nbformat": 4,
 "nbformat_minor": 2
}
