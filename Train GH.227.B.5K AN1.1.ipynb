{
 "cells": [
  {
   "cell_type": "code",
   "execution_count": 6,
   "metadata": {},
   "outputs": [],
   "source": [
    "import numpy as np\n",
    "from packages.Utility.CNN.Callbacks import *\n",
    "from packages.Utility.DatasetManager import DatasetReader\n",
    "from packages.Utility.Gabor import GaborFilterBanks, ComplexGaborParams, GaborParams\n",
    "from packages.Model.AlexNet import AlexNet1"
   ]
  },
  {
   "cell_type": "markdown",
   "metadata": {},
   "source": [
    "# Inisialisasi / Persiapan"
   ]
  },
  {
   "cell_type": "code",
   "execution_count": 7,
   "metadata": {},
   "outputs": [],
   "source": [
    "fold_index = 0\n",
    "dataset_dir = 'dataset/bin/GH.227.B.5K'\n",
    "trained_dir = 'trained/GH.227.B.5K AN1.1'"
   ]
  },
  {
   "cell_type": "markdown",
   "metadata": {},
   "source": [
    "# Memuat Dataset"
   ]
  },
  {
   "cell_type": "code",
   "execution_count": 8,
   "metadata": {},
   "outputs": [],
   "source": [
    "reader = DatasetReader(dataset_dir)\n",
    "\n",
    "X_train, Y_train_onehot, Y_train_single = reader.getTrainData(fold_index)\n",
    "X_test, Y_test_onehot, Y_test_single = reader.getTestData(fold_index)"
   ]
  },
  {
   "cell_type": "markdown",
   "metadata": {},
   "source": [
    "# Inisiasi Callbacks"
   ]
  },
  {
   "cell_type": "code",
   "execution_count": 9,
   "metadata": {},
   "outputs": [],
   "source": [
    "val_model = ValidateModel(X_train, Y_train_onehot)\n",
    "save_model = SaveModel(val_model, base_dir = trained_dir, fold = fold_index + 1, min_acc = 0.1)\n",
    "stop_train = StopTraining(val_model)\n",
    "history_save = HistorySaver(val_model, base_dir = trained_dir, fold = fold_index + 1)"
   ]
  },
  {
   "cell_type": "markdown",
   "metadata": {},
   "source": [
    "# Parameter Gabor"
   ]
  },
  {
   "cell_type": "code",
   "execution_count": 10,
   "metadata": {},
   "outputs": [],
   "source": [
    "class ChannelizeGaborParams(GaborParams):\n",
    "    \n",
    "    def getParams(self, shape, i, j):\n",
    "        multiplier = 360 / shape[3]\n",
    "        degree = multiplier * i\n",
    "        \n",
    "        i += 1\n",
    "        j += 1\n",
    "        \n",
    "        lambd = (i * j) / shape[2]\n",
    "        theta = degree * np.pi / 180\n",
    "        psi = (i + j) / shape[2]\n",
    "        sigma = (i + j)\n",
    "        gamma = (i + j) / shape[2]\n",
    "        \n",
    "        return lambd, theta, psi, sigma, gamma"
   ]
  },
  {
   "cell_type": "markdown",
   "metadata": {},
   "source": [
    "# Mendefinisikan Kernel Gabor"
   ]
  },
  {
   "cell_type": "code",
   "execution_count": null,
   "metadata": {},
   "outputs": [],
   "source": [
    "kernel1 = GaborFilterBanks(ComplexGaborParams(\n",
    "    psi = (1, 48), gamma = (0.75, 1), lambd = (3, 5), sigma = (2, 3)\n",
    "))\n",
    "\n",
    "kernel2 = GaborFilterBanks(ComplexGaborParams(\n",
    "    psi = (1, 128), gamma = (0.05, 0.75), sigma = (1, 10), lambd = (5, 10)\n",
    "))\n",
    "\n",
    "kernel3 = GaborFilterBanks(ComplexGaborParams(\n",
    "    psi = (1, 192), gamma = (0.1, 0.75), sigma = (1, 10), lambd = (5, 10)\n",
    "))\n",
    "\n",
    "kernel4 = GaborFilterBanks(ComplexGaborParams(\n",
    "    psi = (1, 192), gamma = (0.05, 0.75), sigma = (1, 10), lambd = (5, 10)\n",
    "))\n",
    "\n",
    "kernel5 = GaborFilterBanks(ComplexGaborParams(\n",
    "    psi = (1, 128), gamma = (0.05, 0.75), sigma = (1, 10), lambd = (5, 10)\n",
    "))"
   ]
  },
  {
   "cell_type": "markdown",
   "metadata": {},
   "source": [
    "# Mendefinisikan Model"
   ]
  },
  {
   "cell_type": "code",
   "execution_count": null,
   "metadata": {},
   "outputs": [
    {
     "name": "stdout",
     "output_type": "stream",
     "text": [
      "WARNING:tensorflow:From c:\\users\\dipinjamfanny\\appdata\\local\\programs\\python\\python36\\lib\\site-packages\\tensorflow\\python\\framework\\op_def_library.py:263: colocate_with (from tensorflow.python.framework.ops) is deprecated and will be removed in a future version.\n",
      "Instructions for updating:\n",
      "Colocations handled automatically by placer.\n",
      "_________________________________________________________________\n",
      "Layer (type)                 Output Shape              Param #   \n",
      "=================================================================\n",
      "c1 (Conv2D)                  (None, 55, 55, 96)        34944     \n",
      "_________________________________________________________________\n",
      "mp1 (MaxPooling2D)           (None, 27, 27, 96)        0         \n",
      "_________________________________________________________________\n",
      "c2 (Conv2D)                  (None, 23, 23, 256)       614656    \n",
      "_________________________________________________________________\n",
      "mp2 (MaxPooling2D)           (None, 11, 11, 256)       0         \n",
      "_________________________________________________________________\n",
      "c3 (Conv2D)                  (None, 11, 11, 384)       885120    \n",
      "_________________________________________________________________\n",
      "c4 (Conv2D)                  (None, 11, 11, 384)       1327488   \n",
      "_________________________________________________________________\n",
      "c5 (Conv2D)                  (None, 11, 11, 256)       884992    \n",
      "_________________________________________________________________\n",
      "mp3 (MaxPooling2D)           (None, 5, 5, 256)         0         \n",
      "_________________________________________________________________\n",
      "flatten (Flatten)            (None, 6400)              0         \n",
      "_________________________________________________________________\n",
      "d1 (Dense)                   (None, 4096)              26218496  \n",
      "_________________________________________________________________\n",
      "d2 (Dense)                   (None, 4096)              16781312  \n",
      "_________________________________________________________________\n",
      "output (Dense)               (None, 20)                81940     \n",
      "=================================================================\n",
      "Total params: 46,828,948\n",
      "Trainable params: 46,828,948\n",
      "Non-trainable params: 0\n",
      "_________________________________________________________________\n"
     ]
    }
   ],
   "source": [
    "ars = AlexNet1(kernels = {\n",
    "    1: kernel1,\n",
    "    2: kernel2,\n",
    "    3: kernel3,\n",
    "    4: kernel4,\n",
    "    5: kernel5\n",
    "}, loss = 'categorical_crossentropy', optimizer = 'adadelta')\n",
    "\n",
    "model = ars.model\n",
    "model.summary()"
   ]
  },
  {
   "cell_type": "code",
   "execution_count": null,
   "metadata": {},
   "outputs": [],
   "source": [
    "ars.save(f'{trained_dir}/Fold {fold_index + 1}/init.h5')"
   ]
  },
  {
   "cell_type": "markdown",
   "metadata": {},
   "source": [
    "# Pelatihan"
   ]
  },
  {
   "cell_type": "code",
   "execution_count": null,
   "metadata": {},
   "outputs": [],
   "source": [
    "ars.compile()\n",
    "history = model.fit(X_train, Y_train_onehot, epochs = 30, verbose = 1, batch_size = 128, callbacks=[val_model, save_model, history_save, stop_train], initial_epoch = 0)"
   ]
  },
  {
   "cell_type": "code",
   "execution_count": null,
   "metadata": {},
   "outputs": [],
   "source": []
  }
 ],
 "metadata": {
  "kernelspec": {
   "display_name": "Python 3",
   "language": "python",
   "name": "python3"
  },
  "language_info": {
   "codemirror_mode": {
    "name": "ipython",
    "version": 3
   },
   "file_extension": ".py",
   "mimetype": "text/x-python",
   "name": "python",
   "nbconvert_exporter": "python",
   "pygments_lexer": "ipython3",
   "version": "3.6.8"
  }
 },
 "nbformat": 4,
 "nbformat_minor": 2
}
