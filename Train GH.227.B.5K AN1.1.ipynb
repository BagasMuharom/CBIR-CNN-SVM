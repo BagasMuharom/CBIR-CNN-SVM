{
 "cells": [
  {
   "cell_type": "code",
   "execution_count": 1,
   "metadata": {},
   "outputs": [
    {
     "name": "stderr",
     "output_type": "stream",
     "text": [
      "Using TensorFlow backend.\n"
     ]
    }
   ],
   "source": [
    "import numpy as np\n",
    "from packages.Utility.CNN.Callbacks import *\n",
    "from packages.Utility.DatasetManager import DatasetReader\n",
    "from packages.Utility.Gabor import GaborFilterBanks, GaborParams\n",
    "from packages.Model.AlexNet import AlexNet1"
   ]
  },
  {
   "cell_type": "markdown",
   "metadata": {},
   "source": [
    "# Inisialisasi / Persiapan"
   ]
  },
  {
   "cell_type": "code",
   "execution_count": 2,
   "metadata": {},
   "outputs": [],
   "source": [
    "fold_index = 0\n",
    "dataset_dir = 'dataset/bin/GH.227.B.5K'\n",
    "trained_dir = 'trained/GH.227.B.5K AN1.1'"
   ]
  },
  {
   "cell_type": "markdown",
   "metadata": {},
   "source": [
    "# Memuat Dataset"
   ]
  },
  {
   "cell_type": "code",
   "execution_count": 4,
   "metadata": {},
   "outputs": [],
   "source": [
    "reader = DatasetReader(dataset_dir)\n",
    "\n",
    "X_train, Y_train_onehot, Y_train_single = reader.getTrainData(fold_index)\n",
    "X_test, Y_test_onehot, Y_test_single = reader.getTestData(fold_index)"
   ]
  },
  {
   "cell_type": "markdown",
   "metadata": {},
   "source": [
    "# Inisiasi Callbacks"
   ]
  },
  {
   "cell_type": "code",
   "execution_count": 5,
   "metadata": {},
   "outputs": [],
   "source": [
    "val_model = ValidateModel(X_train, Y_train_onehot)\n",
    "save_model = SaveModel(val_model, base_dir = trained_dir, fold = fold_index + 1, min_acc = 0.1)\n",
    "stop_train = StopTraining(val_model)\n",
    "history_save = HistorySaver(val_model, base_dir = trained_dir, fold = fold_index + 1)"
   ]
  },
  {
   "cell_type": "markdown",
   "metadata": {},
   "source": [
    "# Parameter Gabor"
   ]
  },
  {
   "cell_type": "code",
   "execution_count": 6,
   "metadata": {},
   "outputs": [],
   "source": [
    "class IterateChannelParams(GaborParams):\n",
    "    \n",
    "    def __init__(self, lambd, sigma, gamma):\n",
    "        self.lambd = lambd\n",
    "        self.sigma = sigma\n",
    "        self.gamma = gammba\n",
    "\n",
    "    def getParams(self, shape, i, j):\n",
    "        multiplier = 360 / shape[3]\n",
    "        degree = multiplier * i\n",
    "        num_channel = shape[2]\n",
    "        \n",
    "        i += 1\n",
    "        j += 1\n",
    "        ratio = j / num_channel\n",
    "        \n",
    "        lambd =  np.linspace(self.lambd[0], self.lambd[1], num_channel)[j - 1]\n",
    "        theta = degree * np.pi / 180\n",
    "        psi = j\n",
    "        sigma = np.linspace(self.sigma[0], self.sigma[1], num_channel)[j - 1]\n",
    "        gamma = np.linspace(self.gamma[0], self.gamma[1], num_channel)[j - 1]\n",
    "        \n",
    "        return lambd, theta, psi, sigma, gamma\n",
    "    \n",
    "class ChannelizeGaborParams(GaborParams):\n",
    "    \n",
    "    def getParams(self, shape, i, j):\n",
    "        multiplier = 360 / shape[3]\n",
    "        degree = multiplier * i\n",
    "        \n",
    "        i += 1\n",
    "        j += 1\n",
    "        \n",
    "        lambd = (i * j) / shape[2]\n",
    "        theta = degree * np.pi / 180\n",
    "        psi = (i + j) / shape[2]\n",
    "        sigma = (i + j)\n",
    "        gamma = (i + j) / shape[2]\n",
    "        \n",
    "        return lambd, theta, psi, sigma, gamma"
   ]
  },
  {
   "cell_type": "markdown",
   "metadata": {},
   "source": [
    "# Mendefinisikan Kernel Gabor"
   ]
  },
  {
   "cell_type": "code",
   "execution_count": 7,
   "metadata": {},
   "outputs": [],
   "source": [
    "kernel1 = GaborFilterBanks(ChannelizeGaborParams())\n",
    "kernel2 = GaborFilterBanks(ChannelizeGaborParams())\n",
    "kernel3 = GaborFilterBanks(ChannelizeGaborParams())\n",
    "kernel4 = GaborFilterBanks(ChannelizeGaborParams())\n",
    "kernel5 = GaborFilterBanks(ChannelizeGaborParams())"
   ]
  },
  {
   "cell_type": "markdown",
   "metadata": {},
   "source": [
    "# Mendefinisikan Model"
   ]
  },
  {
   "cell_type": "code",
   "execution_count": 10,
   "metadata": {},
   "outputs": [
    {
     "name": "stdout",
     "output_type": "stream",
     "text": [
      "_________________________________________________________________\n",
      "Layer (type)                 Output Shape              Param #   \n",
      "=================================================================\n",
      "c1 (Conv2D)                  (None, 55, 55, 96)        34944     \n",
      "_________________________________________________________________\n",
      "mp1 (MaxPooling2D)           (None, 27, 27, 96)        0         \n",
      "_________________________________________________________________\n",
      "c2 (Conv2D)                  (None, 23, 23, 256)       614656    \n",
      "_________________________________________________________________\n",
      "mp2 (MaxPooling2D)           (None, 11, 11, 256)       0         \n",
      "_________________________________________________________________\n",
      "c3 (Conv2D)                  (None, 11, 11, 384)       885120    \n",
      "_________________________________________________________________\n",
      "c4 (Conv2D)                  (None, 11, 11, 384)       1327488   \n",
      "_________________________________________________________________\n",
      "c5 (Conv2D)                  (None, 11, 11, 256)       884992    \n",
      "_________________________________________________________________\n",
      "mp3 (MaxPooling2D)           (None, 5, 5, 256)         0         \n",
      "_________________________________________________________________\n",
      "flatten (Flatten)            (None, 6400)              0         \n",
      "_________________________________________________________________\n",
      "d1 (Dense)                   (None, 4096)              26218496  \n",
      "_________________________________________________________________\n",
      "d2 (Dense)                   (None, 4096)              16781312  \n",
      "_________________________________________________________________\n",
      "output (Dense)               (None, 10)                40970     \n",
      "=================================================================\n",
      "Total params: 46,787,978\n",
      "Trainable params: 46,787,978\n",
      "Non-trainable params: 0\n",
      "_________________________________________________________________\n"
     ]
    }
   ],
   "source": [
    "ars = AlexNet1(kernels = {\n",
    "    1: kernel1,\n",
    "    2: kernel2,\n",
    "    3: kernel3,\n",
    "    4: kernel4,\n",
    "    5: kernel5\n",
    "}, loss = 'categorical_crossentropy', optimizer = 'adadelta')\n",
    "ars.save(f'{trained_dir}/Fold {fold_index + 1}/init.h5')\n",
    "\n",
    "model = ars.model\n",
    "model.summary()"
   ]
  },
  {
   "cell_type": "markdown",
   "metadata": {},
   "source": [
    "# Pelatihan"
   ]
  },
  {
   "cell_type": "code",
   "execution_count": null,
   "metadata": {},
   "outputs": [],
   "source": [
    "ars.compile()\n",
    "history = model.fit(X_train, Y_train_onehot, epochs = 1, verbose = 1, batch_size = 128, callbacks=[val_model, save_model, history_save, stop_train], initial_epoch = 0)"
   ]
  },
  {
   "cell_type": "code",
   "execution_count": null,
   "metadata": {},
   "outputs": [],
   "source": []
  }
 ],
 "metadata": {
  "kernelspec": {
   "display_name": "Python 3",
   "language": "python",
   "name": "python3"
  },
  "language_info": {
   "codemirror_mode": {
    "name": "ipython",
    "version": 3
   },
   "file_extension": ".py",
   "mimetype": "text/x-python",
   "name": "python",
   "nbconvert_exporter": "python",
   "pygments_lexer": "ipython3",
   "version": "3.6.6"
  }
 },
 "nbformat": 4,
 "nbformat_minor": 2
}
