{
 "cells": [
  {
   "cell_type": "code",
   "execution_count": 1,
   "metadata": {},
   "outputs": [
    {
     "name": "stderr",
     "output_type": "stream",
     "text": [
      "Using TensorFlow backend.\n"
     ]
    }
   ],
   "source": [
    "import numpy as np\n",
    "from packages.Utility.CNN.Callbacks import *\n",
    "from packages.Utility.DatasetManager import DatasetReader\n",
    "from packages.Utility.Gabor import GaborFilterBanks, GaborParams\n",
    "from packages.Model.CFNet import CFNet3"
   ]
  },
  {
   "cell_type": "markdown",
   "metadata": {},
   "source": [
    "# Inisialisasi / Persiapan"
   ]
  },
  {
   "cell_type": "code",
   "execution_count": 2,
   "metadata": {},
   "outputs": [],
   "source": [
    "fold_index = 0\n",
    "dataset_dir = 'dataset/bin/CF.32.B.30K'\n",
    "trained_dir = 'trained/CF.32.B.30K CF3.1'"
   ]
  },
  {
   "cell_type": "markdown",
   "metadata": {},
   "source": [
    "# Memuat Dataset"
   ]
  },
  {
   "cell_type": "code",
   "execution_count": 3,
   "metadata": {},
   "outputs": [],
   "source": [
    "reader = DatasetReader(dataset_dir)\n",
    "\n",
    "X_train, Y_train_onehot, Y_train_single = reader.getTrainData(fold_index)\n",
    "X_test, Y_test_onehot, Y_test_single = reader.getTestData(fold_index)"
   ]
  },
  {
   "cell_type": "markdown",
   "metadata": {},
   "source": [
    "# Inisiasi Callbacks"
   ]
  },
  {
   "cell_type": "code",
   "execution_count": 4,
   "metadata": {},
   "outputs": [],
   "source": [
    "val_model = ValidateModel(X_train, Y_train_onehot)\n",
    "save_model = SaveModel(val_model, base_dir = trained_dir, fold = fold_index + 1, min_acc = 0.1)\n",
    "stop_train = StopTraining(val_model)\n",
    "history_save = HistorySaver(val_model, base_dir = trained_dir, fold = fold_index + 1)"
   ]
  },
  {
   "cell_type": "markdown",
   "metadata": {},
   "source": [
    "# Paremeter Gabor"
   ]
  },
  {
   "cell_type": "code",
   "execution_count": 5,
   "metadata": {},
   "outputs": [],
   "source": [
    "class ChannelizeGaborParams(GaborParams):\n",
    "    \n",
    "    def getParams(self, shape, i, j):\n",
    "        multiplier = 360 / shape[3]\n",
    "        degree = multiplier * i\n",
    "        \n",
    "        i += 1\n",
    "        j += 1\n",
    "        \n",
    "        lambd = (i * j) / shape[2]\n",
    "        theta = degree * np.pi / 180\n",
    "        psi = (i + j) / shape[2]\n",
    "        sigma = (i + j)\n",
    "        gamma = (i + j) / shape[2]\n",
    "        \n",
    "        return lambd, theta, psi, sigma, gamma"
   ]
  },
  {
   "cell_type": "markdown",
   "metadata": {},
   "source": [
    "# Mendefinisikan Kernel"
   ]
  },
  {
   "cell_type": "code",
   "execution_count": 6,
   "metadata": {},
   "outputs": [],
   "source": [
    "kernel1 = GaborFilterBanks(ChannelizeGaborParams())\n",
    "kernel2 = GaborFilterBanks(ChannelizeGaborParams())\n",
    "kernel3 = GaborFilterBanks(ChannelizeGaborParams())\n",
    "kernel4 = GaborFilterBanks(ChannelizeGaborParams())\n",
    "kernel5 = GaborFilterBanks(ChannelizeGaborParams())\n",
    "kernel6 = GaborFilterBanks(ChannelizeGaborParams())"
   ]
  },
  {
   "cell_type": "markdown",
   "metadata": {},
   "source": [
    "# Mendefinisikan Model"
   ]
  },
  {
   "cell_type": "code",
   "execution_count": 9,
   "metadata": {},
   "outputs": [
    {
     "name": "stdout",
     "output_type": "stream",
     "text": [
      "_________________________________________________________________\n",
      "Layer (type)                 Output Shape              Param #   \n",
      "=================================================================\n",
      "c1 (Conv2D)                  (None, 32, 32, 32)        896       \n",
      "_________________________________________________________________\n",
      "c2 (Conv2D)                  (None, 32, 32, 32)        9248      \n",
      "_________________________________________________________________\n",
      "max_pooling2d_2 (MaxPooling2 (None, 16, 16, 32)        0         \n",
      "_________________________________________________________________\n",
      "c3 (Conv2D)                  (None, 16, 16, 64)        18496     \n",
      "_________________________________________________________________\n",
      "c4 (Conv2D)                  (None, 16, 16, 64)        36928     \n",
      "_________________________________________________________________\n",
      "mp4 (MaxPooling2D)           (None, 8, 8, 64)          0         \n",
      "_________________________________________________________________\n",
      "c5 (Conv2D)                  (None, 8, 8, 128)         73856     \n",
      "_________________________________________________________________\n",
      "c6 (Conv2D)                  (None, 8, 8, 128)         147584    \n",
      "_________________________________________________________________\n",
      "mp6 (MaxPooling2D)           (None, 4, 4, 128)         0         \n",
      "_________________________________________________________________\n",
      "flatten (Flatten)            (None, 2048)              0         \n",
      "_________________________________________________________________\n",
      "d1 (Dense)                   (None, 1024)              2098176   \n",
      "_________________________________________________________________\n",
      "output (Dense)               (None, 10)                10250     \n",
      "=================================================================\n",
      "Total params: 2,395,434\n",
      "Trainable params: 2,395,434\n",
      "Non-trainable params: 0\n",
      "_________________________________________________________________\n"
     ]
    }
   ],
   "source": [
    "ars = CFNet3(kernels = {\n",
    "    1: kernel1,\n",
    "    2: kernel2,\n",
    "    3: kernel3,\n",
    "    4: kernel4,\n",
    "    5: kernel5,\n",
    "    6: kernel6\n",
    "})\n",
    "ars.save(f'{trained_dir}/Fold {fold_index + 1}/init.h5')\n",
    "\n",
    "model = ars.model\n",
    "model.summary()"
   ]
  },
  {
   "cell_type": "markdown",
   "metadata": {},
   "source": [
    "# Pelatihan"
   ]
  },
  {
   "cell_type": "code",
   "execution_count": null,
   "metadata": {},
   "outputs": [
    {
     "name": "stdout",
     "output_type": "stream",
     "text": [
      "Epoch 1/100\n",
      "22500/22500 [==============================] - 143s 6ms/step - loss: 2.1670 - acc: 0.2031\n",
      "Accuracy : 0.26004444444444447\n",
      "Model saved to disk\n",
      "Passes : 1/50\n",
      "Epoch 2/100\n",
      "22500/22500 [==============================] - 154s 7ms/step - loss: 2.0332 - acc: 0.2637\n",
      "Accuracy : 0.22857777777777777\n",
      "Model saved to disk\n",
      "Passes : 2/50\n",
      "Epoch 3/100\n",
      "22500/22500 [==============================] - 159s 7ms/step - loss: 1.9794 - acc: 0.2887\n",
      "Accuracy : 0.3022666666666667\n",
      "Model saved to disk\n",
      "Passes : 3/50\n",
      "Epoch 4/100\n",
      "22500/22500 [==============================] - 155s 7ms/step - loss: 1.9464 - acc: 0.2996\n",
      "Accuracy : 0.3206222222222222\n",
      "Model saved to disk\n",
      "Passes : 4/50\n",
      "Epoch 5/100\n",
      "22500/22500 [==============================] - 157s 7ms/step - loss: 1.9316 - acc: 0.3087\n",
      "Accuracy : 0.2858222222222222\n",
      "Model saved to disk\n",
      "Passes : 5/50\n",
      "Epoch 6/100\n",
      "22500/22500 [==============================] - 155s 7ms/step - loss: 1.9121 - acc: 0.3152\n",
      "Accuracy : 0.3072888888888889\n",
      "Model saved to disk\n",
      "Passes : 6/50\n",
      "Epoch 7/100\n",
      "22500/22500 [==============================] - 155s 7ms/step - loss: 1.9043 - acc: 0.3200\n",
      "Accuracy : 0.298\n",
      "Model saved to disk\n",
      "Passes : 7/50\n",
      "Epoch 8/100\n",
      "22500/22500 [==============================] - 155s 7ms/step - loss: 1.8873 - acc: 0.3246\n",
      "Accuracy : 0.33026666666666665\n",
      "Model saved to disk\n",
      "Passes : 8/50\n",
      "Epoch 9/100\n",
      "22500/22500 [==============================] - 155s 7ms/step - loss: 1.8791 - acc: 0.3313\n",
      "Accuracy : 0.31262222222222225\n",
      "Model saved to disk\n",
      "Passes : 9/50\n",
      "Epoch 10/100\n",
      "22500/22500 [==============================] - 155s 7ms/step - loss: 1.8739 - acc: 0.3319\n",
      "Accuracy : 0.33235555555555557\n",
      "Model saved to disk\n",
      "Passes : 10/50\n",
      "Epoch 11/100\n",
      "22500/22500 [==============================] - 155s 7ms/step - loss: 1.8703 - acc: 0.3348\n",
      "Accuracy : 0.3176\n",
      "Model saved to disk\n",
      "Passes : 11/50\n",
      "Epoch 12/100\n",
      "22500/22500 [==============================] - 155s 7ms/step - loss: 1.8612 - acc: 0.3353\n",
      "Accuracy : 0.3529777777777778\n",
      "Model saved to disk\n",
      "Passes : 12/50\n",
      "Epoch 13/100\n",
      "22500/22500 [==============================] - 156s 7ms/step - loss: 1.8573 - acc: 0.3357\n",
      "Accuracy : 0.3301777777777778\n",
      "Model saved to disk\n",
      "Passes : 13/50\n",
      "Epoch 14/100\n",
      "22500/22500 [==============================] - 156s 7ms/step - loss: 1.8526 - acc: 0.3401\n",
      "Accuracy : 0.3273333333333333\n",
      "Model saved to disk\n",
      "Passes : 14/50\n",
      "Epoch 15/100\n",
      "22500/22500 [==============================] - 156s 7ms/step - loss: 1.8469 - acc: 0.3392\n",
      "Accuracy : 0.32484444444444444\n",
      "Model saved to disk\n",
      "Passes : 15/50\n",
      "Epoch 16/100\n",
      "22500/22500 [==============================] - 156s 7ms/step - loss: 1.8497 - acc: 0.3413\n",
      "Accuracy : 0.3184888888888889\n",
      "Model saved to disk\n",
      "Passes : 16/50\n",
      "Epoch 17/100\n",
      "18688/22500 [=======================>......] - ETA: 26s - loss: 1.8417 - acc: 0.3432"
     ]
    }
   ],
   "source": [
    "ars.compile()\n",
    "history = model.fit(X_train, Y_train_onehot, epochs = 100, verbose = 1, batch_size = 128, callbacks=[val_model, save_model, history_save, stop_train], initial_epoch = 0)"
   ]
  },
  {
   "cell_type": "code",
   "execution_count": null,
   "metadata": {},
   "outputs": [],
   "source": []
  }
 ],
 "metadata": {
  "kernelspec": {
   "display_name": "Python 3",
   "language": "python",
   "name": "python3"
  },
  "language_info": {
   "codemirror_mode": {
    "name": "ipython",
    "version": 3
   },
   "file_extension": ".py",
   "mimetype": "text/x-python",
   "name": "python",
   "nbconvert_exporter": "python",
   "pygments_lexer": "ipython3",
   "version": "3.6.8"
  }
 },
 "nbformat": 4,
 "nbformat_minor": 2
}
