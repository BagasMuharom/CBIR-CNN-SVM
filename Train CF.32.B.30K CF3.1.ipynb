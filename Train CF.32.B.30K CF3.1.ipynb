{
 "cells": [
  {
   "cell_type": "code",
   "execution_count": 1,
   "metadata": {},
   "outputs": [
    {
     "name": "stderr",
     "output_type": "stream",
     "text": [
      "Using TensorFlow backend.\n"
     ]
    }
   ],
   "source": [
    "import numpy as np\n",
    "from keras.models import Sequential\n",
    "from keras.layers import Conv2D, MaxPool2D, Flatten, Activation, Layer, Dense\n",
    "from packages.Utility.CNN.Callbacks import SaveModel, ValidateModel, StopTraining\n",
    "from packages.Utility.DatasetManager import DatasetReader\n",
    "from packages.Utility.Gabor import GaborFilterBanks, GaborParams, RotatedGaborParams, ChannelizeGaborParams"
   ]
  },
  {
   "cell_type": "markdown",
   "metadata": {},
   "source": [
    "# Inisialisasi / Persiapan"
   ]
  },
  {
   "cell_type": "code",
   "execution_count": 2,
   "metadata": {},
   "outputs": [],
   "source": [
    "fold_index = 0\n",
    "dataset_dir = 'dataset/CF323'\n",
    "trained_dir = 'trained/CF323 CF[1.2]'"
   ]
  },
  {
   "cell_type": "markdown",
   "metadata": {},
   "source": [
    "# Memuat Dataset"
   ]
  },
  {
   "cell_type": "code",
   "execution_count": 3,
   "metadata": {},
   "outputs": [],
   "source": [
    "reader = DatasetReader(dataset_dir)\n",
    "\n",
    "X_train, Y_train_onehot, Y_train_single = reader.getTrainData(fold_index)\n",
    "X_test, Y_test_onehot, Y_test_single = reader.getTestData(fold_index)"
   ]
  },
  {
   "cell_type": "markdown",
   "metadata": {},
   "source": [
    "# Inisiasi Callbacks"
   ]
  },
  {
   "cell_type": "code",
   "execution_count": 4,
   "metadata": {},
   "outputs": [],
   "source": [
    "val_model = ValidateModel(X_train, Y_train_onehot)\n",
    "save_model = SaveModel(val_model, base_dir = trained_dir, fold = fold_index + 1, min_acc = 0.1)\n",
    "stop_train = StopTraining(val_model)"
   ]
  },
  {
   "cell_type": "markdown",
   "metadata": {},
   "source": [
    "# Mendefinisikan Model"
   ]
  },
  {
   "cell_type": "code",
   "execution_count": 5,
   "metadata": {},
   "outputs": [
    {
     "name": "stdout",
     "output_type": "stream",
     "text": [
      "WARNING:tensorflow:From c:\\users\\dipinjamfanny\\appdata\\local\\programs\\python\\python36\\lib\\site-packages\\tensorflow\\python\\framework\\op_def_library.py:263: colocate_with (from tensorflow.python.framework.ops) is deprecated and will be removed in a future version.\n",
      "Instructions for updating:\n",
      "Colocations handled automatically by placer.\n"
     ]
    }
   ],
   "source": [
    "kernel1 = GaborFilterBanks(ChannelizeGaborParams())\n",
    "kernel2 = GaborFilterBanks(ChannelizeGaborParams())\n",
    "kernel3 = GaborFilterBanks(ChannelizeGaborParams())\n",
    "kernel4 = GaborFilterBanks(ChannelizeGaborParams())\n",
    "kernel5 = GaborFilterBanks(ChannelizeGaborParams())\n",
    "kernel6 = GaborFilterBanks(ChannelizeGaborParams())\n",
    "\n",
    "model = Sequential()\n",
    "\n",
    "c1 = Conv2D(32, name = 'c1', kernel_size = 3, kernel_initializer = kernel1, padding='same', input_shape = (32, 32, 3))\n",
    "\n",
    "c2 = Conv2D(32, name = 'c2', kernel_size = 3, kernel_initializer = kernel2, padding = 'same')\n",
    "mp2 = MaxPool2D(pool_size = 2)\n",
    "\n",
    "c3 = Conv2D(64, name = 'c3', kernel_size = 3, kernel_initializer = kernel3, padding = 'same')\n",
    "\n",
    "c4 = Conv2D(64, name = 'c4', kernel_size = 3, kernel_initializer = kernel4, padding = 'same')\n",
    "mp4 = MaxPool2D(pool_size = 2, name = 'mp4')\n",
    "\n",
    "c5 = Conv2D(128, name = 'c5', kernel_size = 3, kernel_initializer = kernel5, padding = 'same')\n",
    "\n",
    "c6 = Conv2D(128, name = 'c6', kernel_size = 3, kernel_initializer = kernel6, padding = 'same')\n",
    "mp6 = MaxPool2D(pool_size = 2, name = 'mp6')\n",
    "\n",
    "# Layer 1\n",
    "model.add(c1)\n",
    "\n",
    "# Layer 2\n",
    "model.add(c2)\n",
    "model.add(mp2)\n",
    " \n",
    "# Layer 3\n",
    "model.add(c3)\n",
    "\n",
    "# Layer 4\n",
    "model.add(c4)\n",
    "model.add(mp4)\n",
    " \n",
    "# Layer 5\n",
    "model.add(c5)\n",
    "\n",
    "# Layer 6\n",
    "model.add(c6)\n",
    "model.add(mp6)\n",
    " \n",
    "model.add(Flatten(name = 'flatten'))\n",
    "          \n",
    "# Fully Connected\n",
    "model.add(Dense(1024, name = 'd1', activation = 'sigmoid'))\n",
    "model.add(Dense(10, name = 'output', activation = 'softmax'))"
   ]
  },
  {
   "cell_type": "markdown",
   "metadata": {},
   "source": [
    "# Pelatihan"
   ]
  },
  {
   "cell_type": "code",
   "execution_count": null,
   "metadata": {},
   "outputs": [
    {
     "name": "stdout",
     "output_type": "stream",
     "text": [
      "WARNING:tensorflow:From c:\\users\\dipinjamfanny\\appdata\\local\\programs\\python\\python36\\lib\\site-packages\\tensorflow\\python\\ops\\math_ops.py:3066: to_int32 (from tensorflow.python.ops.math_ops) is deprecated and will be removed in a future version.\n",
      "Instructions for updating:\n",
      "Use tf.cast instead.\n",
      "Epoch 11/100\n",
      "22500/22500 [==============================] - 122s 5ms/step - loss: 0.0864 - acc: 0.2250\n",
      "Accuracy : 0.27066666666666667\n",
      "Model Saved\n",
      "New best accuracy : 0.27066666666666667\n",
      "Epoch 12/100\n",
      "22500/22500 [==============================] - 154s 7ms/step - loss: 0.0832 - acc: 0.2811\n",
      "Accuracy : 0.3033777777777778\n",
      "Model Saved\n",
      "New best accuracy : 0.3033777777777778\n",
      "Epoch 13/100\n",
      "22500/22500 [==============================] - 155s 7ms/step - loss: 0.0817 - acc: 0.3014\n",
      "Accuracy : 0.31893333333333335\n",
      "Model Saved\n",
      "New best accuracy : 0.31893333333333335\n",
      "Epoch 14/100\n",
      "22500/22500 [==============================] - 153s 7ms/step - loss: 0.0807 - acc: 0.3148\n",
      "Accuracy : 0.32097777777777775\n",
      "Model Saved\n",
      "New best accuracy : 0.32097777777777775\n",
      "Epoch 15/100\n",
      "22500/22500 [==============================] - 158s 7ms/step - loss: 0.0803 - acc: 0.3202\n",
      "Accuracy : 0.3230222222222222\n",
      "Model Saved\n",
      "New best accuracy : 0.3230222222222222\n",
      "Epoch 16/100\n",
      "22500/22500 [==============================] - 160s 7ms/step - loss: 0.0797 - acc: 0.3305\n",
      "Accuracy : 0.3243111111111111\n",
      "Model Saved\n",
      "New best accuracy : 0.3243111111111111\n",
      "Epoch 17/100\n",
      "22500/22500 [==============================] - 161s 7ms/step - loss: 0.0793 - acc: 0.3361\n",
      "Accuracy : 0.34644444444444444\n",
      "Model Saved\n",
      "New best accuracy : 0.34644444444444444\n",
      "Epoch 18/100\n",
      "22500/22500 [==============================] - 156s 7ms/step - loss: 0.0788 - acc: 0.3393\n",
      "Accuracy : 0.34826666666666667\n",
      "Model Saved\n",
      "New best accuracy : 0.34826666666666667\n",
      "Epoch 19/100\n",
      "22500/22500 [==============================] - 163s 7ms/step - loss: 0.0786 - acc: 0.3399\n",
      "Accuracy : 0.3482222222222222\n",
      "Model Saved\n",
      "Passes : 1/50\n",
      "Epoch 20/100\n",
      "22500/22500 [==============================] - 155s 7ms/step - loss: 0.0783 - acc: 0.3458\n",
      "Accuracy : 0.35333333333333333\n",
      "Model Saved\n",
      "New best accuracy : 0.35333333333333333\n",
      "Epoch 21/100\n",
      "22500/22500 [==============================] - 155s 7ms/step - loss: 0.0781 - acc: 0.3480\n",
      "Accuracy : 0.3564\n",
      "Model Saved\n",
      "New best accuracy : 0.3564\n",
      "Epoch 22/100\n",
      "22500/22500 [==============================] - 156s 7ms/step - loss: 0.0779 - acc: 0.3531\n",
      "Accuracy : 0.3579111111111111\n",
      "Model Saved\n",
      "New best accuracy : 0.3579111111111111\n",
      "Epoch 23/100\n",
      "22500/22500 [==============================] - 158s 7ms/step - loss: 0.0777 - acc: 0.3572\n",
      "Accuracy : 0.362\n",
      "Model Saved\n",
      "New best accuracy : 0.362\n",
      "Epoch 24/100\n",
      "22500/22500 [==============================] - 162s 7ms/step - loss: 0.0772 - acc: 0.3600\n",
      "Accuracy : 0.34902222222222223\n",
      "Model Saved\n",
      "Passes : 1/50\n",
      "Epoch 25/100\n",
      "22500/22500 [==============================] - 155s 7ms/step - loss: 0.0774 - acc: 0.3580\n",
      "Accuracy : 0.366\n",
      "Model Saved\n",
      "New best accuracy : 0.366\n",
      "Epoch 26/100\n",
      "22500/22500 [==============================] - 154s 7ms/step - loss: 0.0771 - acc: 0.3627\n",
      "Accuracy : 0.3652\n",
      "Model Saved\n",
      "Passes : 1/50\n",
      "Epoch 27/100\n",
      " 4864/22500 [=====>........................] - ETA: 2:01 - loss: 0.0774 - acc: 0.3559"
     ]
    }
   ],
   "source": [
    "model.compile(optimizer='adam', loss='mse', metrics=['accuracy'])\n",
    "history = model.fit(X_train, Y_train_onehot, epochs = 100, verbose = 1, batch_size = 128, callbacks=[val_model, save_model, stop_train], initial_epoch = 10)"
   ]
  },
  {
   "cell_type": "code",
   "execution_count": null,
   "metadata": {},
   "outputs": [],
   "source": []
  }
 ],
 "metadata": {
  "kernelspec": {
   "display_name": "Python 3",
   "language": "python",
   "name": "python3"
  },
  "language_info": {
   "codemirror_mode": {
    "name": "ipython",
    "version": 3
   },
   "file_extension": ".py",
   "mimetype": "text/x-python",
   "name": "python",
   "nbconvert_exporter": "python",
   "pygments_lexer": "ipython3",
   "version": "3.6.8"
  }
 },
 "nbformat": 4,
 "nbformat_minor": 2
}
