{
 "cells": [
  {
   "cell_type": "code",
   "execution_count": 12,
   "metadata": {},
   "outputs": [],
   "source": [
    "import numpy as np\n",
    "from packages.Utility.CNN.Callbacks import *\n",
    "from packages.Utility.DatasetManager import DatasetReader\n",
    "from packages.Utility.Gabor import GaborFilterBanks, GaborParams\n",
    "from packages.Model.LeNet import LeNet"
   ]
  },
  {
   "cell_type": "code",
   "execution_count": 13,
   "metadata": {},
   "outputs": [],
   "source": [
    "fold_index = 1\n",
    "dataset_dir = 'dataset/bin/DG.32.A.50K'\n",
    "trained_dir = 'trained/DG.32.A.50K LN1.1'"
   ]
  },
  {
   "cell_type": "markdown",
   "metadata": {},
   "source": [
    "# Memuat Dataset"
   ]
  },
  {
   "cell_type": "code",
   "execution_count": 14,
   "metadata": {},
   "outputs": [],
   "source": [
    "reader = DatasetReader(dataset_dir)\n",
    "\n",
    "X_train, Y_train_onehot, Y_train_single = reader.getTrainData(fold_index)\n",
    "X_test, Y_test_onehot, Y_test_single = reader.getTestData(fold_index)"
   ]
  },
  {
   "cell_type": "markdown",
   "metadata": {},
   "source": [
    "# Inisiasi Callbacks"
   ]
  },
  {
   "cell_type": "code",
   "execution_count": 15,
   "metadata": {},
   "outputs": [],
   "source": [
    "val_model = ValidateModel(X_train, Y_train_onehot)\n",
    "save_model = SaveModel(val_model, base_dir = trained_dir, fold = fold_index + 1, min_acc = 0.1)\n",
    "stop_train = StopTraining(val_model, max_passes = -1)\n",
    "history_save = HistorySaver(val_model, base_dir = trained_dir, fold = fold_index + 1)"
   ]
  },
  {
   "cell_type": "markdown",
   "metadata": {},
   "source": [
    "# Parameter Gabor"
   ]
  },
  {
   "cell_type": "code",
   "execution_count": 16,
   "metadata": {},
   "outputs": [],
   "source": [
    "class RotatedGaborParams(GaborParams):\n",
    "\n",
    "    def __init__(self, lambd, sigma, psi, gamma):\n",
    "        self.lambd = lambd\n",
    "        self.sigma = sigma\n",
    "        self.psi = psi,\n",
    "        self.gamma = gamma\n",
    "\n",
    "    def getParams(self, shape, i, j):\n",
    "        multiplier = 360 / shape[3]\n",
    "        degree = i * multiplier\n",
    "        theta = degree * np.pi / 180\n",
    "        \n",
    "        return self.lambd, theta, self.psi, self.sigma, self.gamma"
   ]
  },
  {
   "cell_type": "markdown",
   "metadata": {},
   "source": [
    "# Mendefinisikan Kernel Gabor"
   ]
  },
  {
   "cell_type": "code",
   "execution_count": 17,
   "metadata": {},
   "outputs": [],
   "source": [
    "kernel1 = GaborFilterBanks(RotatedGaborParams(psi = 1, gamma = 0.5, lambd = 5, sigma = 3))\n",
    "kernel2 = GaborFilterBanks(RotatedGaborParams(psi = 1, gamma = 0.75, lambd = 3, sigma = 5))"
   ]
  },
  {
   "cell_type": "markdown",
   "metadata": {},
   "source": [
    "# Mendefinisikan Model CNN\n",
    "Mendefinisikan arsitektur CNN"
   ]
  },
  {
   "cell_type": "code",
   "execution_count": 18,
   "metadata": {},
   "outputs": [
    {
     "name": "stdout",
     "output_type": "stream",
     "text": [
      "_________________________________________________________________\n",
      "Layer (type)                 Output Shape              Param #   \n",
      "=================================================================\n",
      "c1 (Conv2D)                  (None, 28, 28, 6)         156       \n",
      "_________________________________________________________________\n",
      "mp1 (MaxPooling2D)           (None, 14, 14, 6)         0         \n",
      "_________________________________________________________________\n",
      "c2 (Conv2D)                  (None, 10, 10, 16)        2416      \n",
      "_________________________________________________________________\n",
      "mp2 (MaxPooling2D)           (None, 5, 5, 16)          0         \n",
      "_________________________________________________________________\n",
      "flatten (Flatten)            (None, 400)               0         \n",
      "_________________________________________________________________\n",
      "d1 (Dense)                   (None, 120)               48120     \n",
      "_________________________________________________________________\n",
      "d2 (Dense)                   (None, 84)                10164     \n",
      "_________________________________________________________________\n",
      "output (Dense)               (None, 10)                850       \n",
      "=================================================================\n",
      "Total params: 61,706\n",
      "Trainable params: 61,706\n",
      "Non-trainable params: 0\n",
      "_________________________________________________________________\n"
     ]
    }
   ],
   "source": [
    "ars = LeNet(kernels = {\n",
    "    1: kernel1,\n",
    "    2: kernel2\n",
    "}, loss = 'categorical_crossentropy')\n",
    "\n",
    "model = ars.model\n",
    "model.summary()"
   ]
  },
  {
   "cell_type": "code",
   "execution_count": null,
   "metadata": {},
   "outputs": [],
   "source": [
    "ars.save(f'{trained_dir}/Fold {fold_index + 1}/init.h5')"
   ]
  },
  {
   "cell_type": "code",
   "execution_count": 19,
   "metadata": {},
   "outputs": [],
   "source": [
    "model.load_weights(f'{trained_dir}/Fold {fold_index + 1}/acc 0.9844 - epoch 383.h5')"
   ]
  },
  {
   "cell_type": "markdown",
   "metadata": {},
   "source": [
    "# Melakukan Pelatihan\n",
    "Melakukan pelatihan pada CNN"
   ]
  },
  {
   "cell_type": "code",
   "execution_count": null,
   "metadata": {},
   "outputs": [],
   "source": [
    "ars.compile()\n",
    "history = model.fit(X_train, Y_train_onehot, epochs = 500, verbose = 2, batch_size = 128, callbacks=[val_model, save_model, history_save, stop_train], initial_epoch=384)"
   ]
  },
  {
   "cell_type": "code",
   "execution_count": null,
   "metadata": {},
   "outputs": [],
   "source": []
  }
 ],
 "metadata": {
  "kernelspec": {
   "display_name": "Python 3",
   "language": "python",
   "name": "python3"
  },
  "language_info": {
   "codemirror_mode": {
    "name": "ipython",
    "version": 3
   },
   "file_extension": ".py",
   "mimetype": "text/x-python",
   "name": "python",
   "nbconvert_exporter": "python",
   "pygments_lexer": "ipython3",
   "version": "3.6.8"
  }
 },
 "nbformat": 4,
 "nbformat_minor": 2
}
