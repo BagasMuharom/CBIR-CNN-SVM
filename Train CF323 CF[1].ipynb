{
 "cells": [
  {
   "cell_type": "code",
   "execution_count": 1,
   "metadata": {},
   "outputs": [
    {
     "name": "stderr",
     "output_type": "stream",
     "text": [
      "Using TensorFlow backend.\n"
     ]
    }
   ],
   "source": [
    "import numpy as np\n",
    "from keras.models import Sequential\n",
    "from keras.layers import Conv2D, MaxPool2D, Flatten, Activation, Layer, Dense\n",
    "from packages.Utility.CNN.Callbacks import SaveModel\n",
    "from packages.Utility.DatasetManager import DatasetReader\n",
    "from packages.Utility.Gabor import GaborFilterBanks, GaborParams, RotatedGaborParams"
   ]
  },
  {
   "cell_type": "markdown",
   "metadata": {},
   "source": [
    "# Inisialisasi / Persiapan"
   ]
  },
  {
   "cell_type": "code",
   "execution_count": 2,
   "metadata": {},
   "outputs": [],
   "source": [
    "fold_index = 0\n",
    "dataset_dir = 'dataset/bin/CF323'\n",
    "trained_dir = 'trained/CF323 CF[1.1]'"
   ]
  },
  {
   "cell_type": "markdown",
   "metadata": {},
   "source": [
    "# Memuat Dataset"
   ]
  },
  {
   "cell_type": "code",
   "execution_count": 3,
   "metadata": {},
   "outputs": [],
   "source": [
    "reader = DatasetReader(dataset_dir)\n",
    "\n",
    "X_train, Y_train_onehot, Y_train_single = reader.getTrainData(fold_index)\n",
    "X_test, Y_test_onehot, Y_test_single = reader.getTestData(fold_index)"
   ]
  },
  {
   "cell_type": "markdown",
   "metadata": {},
   "source": [
    "# Inisiasi Callbacks"
   ]
  },
  {
   "cell_type": "code",
   "execution_count": 5,
   "metadata": {},
   "outputs": [],
   "source": [
    "val_model = ValidateModel(X_train, Y_train_onehot)\n",
    "save_model = SaveModel(val_model, base_dir = trained_dir, fold = fold_index + 1, min_acc = 0.1)\n",
    "stop_train = StopTraining(val_model)"
   ]
  },
  {
   "cell_type": "markdown",
   "metadata": {},
   "source": [
    "# Mendefinisikan Model"
   ]
  },
  {
   "cell_type": "code",
   "execution_count": 6,
   "metadata": {},
   "outputs": [],
   "source": [
    "model = Sequential()\n",
    "\n",
    "c1 = Conv2D(32, name = 'c1', kernel_size = 3, padding='same', input_shape = (32, 32, 3))\n",
    "\n",
    "c2 = Conv2D(32, name = 'c2', kernel_size = 3, padding = 'same')\n",
    "mp2 = MaxPool2D(pool_size = 2)\n",
    "\n",
    "c3 = Conv2D(64, name = 'c3', kernel_size = 3, padding = 'same')\n",
    "\n",
    "c4 = Conv2D(64, name = 'c4', kernel_size = 3, padding = 'same')\n",
    "mp4 = MaxPool2D(pool_size = 2, name = 'mp4')\n",
    "\n",
    "c5 = Conv2D(128, name = 'c5', kernel_size = 3, padding = 'same')\n",
    "\n",
    "c6 = Conv2D(128, name = 'c6', kernel_size = 3, padding = 'same')\n",
    "mp6 = MaxPool2D(pool_size = 2, name = 'mp6')\n",
    "\n",
    "# Layer 1\n",
    "model.add(c1)\n",
    "\n",
    "# Layer 2\n",
    "model.add(c2)\n",
    "model.add(mp2)\n",
    " \n",
    "# Layer 3\n",
    "model.add(c3)\n",
    "\n",
    "# Layer 4\n",
    "model.add(c4)\n",
    "model.add(mp4)\n",
    " \n",
    "# Layer 5\n",
    "model.add(c5)\n",
    "\n",
    "# Layer 6\n",
    "model.add(c6)\n",
    "model.add(mp6)\n",
    " \n",
    "model.add(Flatten(name = 'flatten'))\n",
    "          \n",
    "# Fully Connected\n",
    "model.add(Dense(10, name = 'output', activation = 'softmax'))"
   ]
  },
  {
   "cell_type": "markdown",
   "metadata": {},
   "source": [
    "# Pelatihan"
   ]
  },
  {
   "cell_type": "code",
   "execution_count": null,
   "metadata": {},
   "outputs": [],
   "source": [
    "model.compile(optimizer='adam', loss='mse', metrics=['accuracy'])\n",
    "history = model.fit(X_train, Y_train_onehot, epochs = 500, verbose = 1, batch_size = 128, callbacks=[save_model], initial_epoch = 0)"
   ]
  },
  {
   "cell_type": "code",
   "execution_count": null,
   "metadata": {},
   "outputs": [],
   "source": []
  }
 ],
 "metadata": {
  "kernelspec": {
   "display_name": "Python 3",
   "language": "python",
   "name": "python3"
  },
  "language_info": {
   "codemirror_mode": {
    "name": "ipython",
    "version": 3
   },
   "file_extension": ".py",
   "mimetype": "text/x-python",
   "name": "python",
   "nbconvert_exporter": "python",
   "pygments_lexer": "ipython3",
   "version": "3.6.6"
  }
 },
 "nbformat": 4,
 "nbformat_minor": 2
}
