{
 "cells": [
  {
   "cell_type": "code",
   "execution_count": 1,
   "metadata": {},
   "outputs": [
    {
     "name": "stderr",
     "output_type": "stream",
     "text": [
      "Using TensorFlow backend.\n"
     ]
    }
   ],
   "source": [
    "import numpy as np\n",
    "from packages.Utility.CNN.Callbacks import SaveModel, ValidateModel, StopTraining\n",
    "from packages.Utility.DatasetManager import DatasetReader\n",
    "from packages.Utility.Gabor import *\n",
    "from packages.Model.LeNet import LeNet"
   ]
  },
  {
   "cell_type": "code",
   "execution_count": 2,
   "metadata": {},
   "outputs": [],
   "source": [
    "fold_index = 0\n",
    "dataset_dir = 'dataset/bin/DG321'\n",
    "trained_dir = 'trained/DG321 LN[1]'"
   ]
  },
  {
   "cell_type": "markdown",
   "metadata": {},
   "source": [
    "# Memuat Dataset"
   ]
  },
  {
   "cell_type": "code",
   "execution_count": 3,
   "metadata": {},
   "outputs": [],
   "source": [
    "reader = DatasetReader(dataset_dir)\n",
    "\n",
    "X_train, Y_train_onehot, Y_train_single = reader.getTrainData(fold_index)\n",
    "X_test, Y_test_onehot, Y_test_single = reader.getTestData(fold_index)"
   ]
  },
  {
   "cell_type": "markdown",
   "metadata": {},
   "source": [
    "# Pra-Training"
   ]
  },
  {
   "cell_type": "code",
   "execution_count": 4,
   "metadata": {},
   "outputs": [],
   "source": [
    "val_model = ValidateModel(X_train, Y_train_onehot)\n",
    "save_model = SaveModel(val_model, base_dir = trained_dir, fold = fold_index + 1, min_acc = 0.1)\n",
    "stop_train = StopTraining(val_model)"
   ]
  },
  {
   "cell_type": "markdown",
   "metadata": {},
   "source": [
    "# Mendefinisikan Model CNN\n",
    "Mendefinisikan arsitektur CNN"
   ]
  },
  {
   "cell_type": "code",
   "execution_count": 11,
   "metadata": {},
   "outputs": [
    {
     "name": "stdout",
     "output_type": "stream",
     "text": [
      "_________________________________________________________________\n",
      "Layer (type)                 Output Shape              Param #   \n",
      "=================================================================\n",
      "c1 (Conv2D)                  (None, 28, 28, 6)         156       \n",
      "_________________________________________________________________\n",
      "mp1 (MaxPooling2D)           (None, 14, 14, 6)         0         \n",
      "_________________________________________________________________\n",
      "c2 (Conv2D)                  (None, 10, 10, 16)        2416      \n",
      "_________________________________________________________________\n",
      "mp2 (MaxPooling2D)           (None, 5, 5, 16)          0         \n",
      "_________________________________________________________________\n",
      "flatten (Flatten)            (None, 400)               0         \n",
      "_________________________________________________________________\n",
      "d1 (Dense)                   (None, 120)               48120     \n",
      "_________________________________________________________________\n",
      "d2 (Dense)                   (None, 84)                10164     \n",
      "_________________________________________________________________\n",
      "output (Dense)               (None, 10)                850       \n",
      "=================================================================\n",
      "Total params: 61,706\n",
      "Trainable params: 61,706\n",
      "Non-trainable params: 0\n",
      "_________________________________________________________________\n"
     ]
    }
   ],
   "source": [
    "kernel1 = GaborFilterBanks(RotatedGaborParams(psi = 1, gamma = 0.5, lambd = 5, sigma = 3))\n",
    "kernel2 = GaborFilterBanks(RotatedGaborParams(psi = 1, gamma = 0.75, lambd = 3, sigma = 5))\n",
    "\n",
    "ars = LeNet(kernels = {\n",
    "    1: kernel1,\n",
    "    2: kernel2\n",
    "}, loss = 'categorical_crossentropy')\n",
    "ars.save(trained_dir + '/init.h5')\n",
    "\n",
    "model = ars.model\n",
    "model.summary()"
   ]
  },
  {
   "cell_type": "code",
   "execution_count": 16,
   "metadata": {},
   "outputs": [
    {
     "data": {
      "image/png": "[encoded data removed]",
      "text/plain": [
       "<Figure size 1800x1800 with 6 Axes>"
      ]
     },
     "metadata": {},
     "output_type": "display_data"
    }
   ],
   "source": [
    "import matplotlib.pyplot as plt\n",
    "\n",
    "weights = model.get_layer('c1').get_weights()[0]\n",
    "fig = plt.figure(figsize = (25, 25))\n",
    "\n",
    "for i in range(weights.shape[3]):\n",
    "    y = plt.subplot(6, 6, i + 1)\n",
    "    y.imshow(weights[:, :, 0, i], cmap='gray')\n",
    "    plt.xticks([])\n",
    "    plt.yticks([])\n",
    "    \n",
    "plt.show()"
   ]
  },
  {
   "cell_type": "markdown",
   "metadata": {},
   "source": [
    "# Melakukan Pelatihan\n",
    "Melakukan pelatihan pada CNN"
   ]
  },
  {
   "cell_type": "code",
   "execution_count": 15,
   "metadata": {},
   "outputs": [
    {
     "name": "stdout",
     "output_type": "stream",
     "text": [
      "Epoch 2/5\n",
      "37500/37500 [==============================] - 55s 1ms/step - loss: 0.5412 - acc: 0.8551\n",
      "Accuracy : 0.8775733333269755\n",
      "Model saved to disk\n",
      "Passes : 2/50\n",
      "Epoch 3/5\n",
      "37500/37500 [==============================] - 53s 1ms/step - loss: 0.3693 - acc: 0.8902\n",
      "Accuracy : 0.8994133333269755\n",
      "Model saved to disk\n",
      "Passes : 3/50\n",
      "Epoch 4/5\n",
      "37500/37500 [==============================] - 56s 1ms/step - loss: 0.3111 - acc: 0.9035\n",
      "Accuracy : 0.9092533333333334\n",
      "Model saved to disk\n",
      "Passes : 4/50\n",
      "Epoch 5/5\n",
      "37500/37500 [==============================] - 53s 1ms/step - loss: 0.2832 - acc: 0.9127\n",
      "Accuracy : 0.9164266666793823\n",
      "Model saved to disk\n",
      "Passes : 5/50\n"
     ]
    }
   ],
   "source": [
    "ars.compile()\n",
    "history = model.fit(X_train, Y_train_onehot, epochs = 5, verbose = 1, batch_size = 128, callbacks=[val_model, save_model, stop_train], initial_epoch=1)"
   ]
  },
  {
   "cell_type": "code",
   "execution_count": null,
   "metadata": {},
   "outputs": [],
   "source": []
  }
 ],
 "metadata": {
  "kernelspec": {
   "display_name": "Python 3",
   "language": "python",
   "name": "python3"
  },
  "language_info": {
   "codemirror_mode": {
    "name": "ipython",
    "version": 3
   },
   "file_extension": ".py",
   "mimetype": "text/x-python",
   "name": "python",
   "nbconvert_exporter": "python",
   "pygments_lexer": "ipython3",
   "version": "3.6.6"
  }
 },
 "nbformat": 4,
 "nbformat_minor": 2
}
