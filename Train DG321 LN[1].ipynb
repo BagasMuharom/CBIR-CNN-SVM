{
 "cells": [
  {
   "cell_type": "code",
   "execution_count": 1,
   "metadata": {},
   "outputs": [
    {
     "name": "stderr",
     "output_type": "stream",
     "text": [
      "Using TensorFlow backend.\n"
     ]
    }
   ],
   "source": [
    "import numpy as np\n",
    "from keras.models import Sequential\n",
    "from keras.layers import Conv2D, MaxPool2D, Flatten, Activation, Layer, Dense\n",
    "from packages.Utility.CNN.Callbacks import SaveModel, ValidateModel, StopTraining\n",
    "from packages.Utility.DatasetManager import DatasetReader\n",
    "from packages.Utility.Gabor import GaborFilterBanks, GaborParams, RotatedGaborParams"
   ]
  },
  {
   "cell_type": "code",
   "execution_count": 2,
   "metadata": {},
   "outputs": [],
   "source": [
    "fold_index = 0\n",
    "dataset_dir = 'dataset/bin/DG321'\n",
    "trained_dir = 'trained/DG321 LN[1]'"
   ]
  },
  {
   "cell_type": "markdown",
   "metadata": {},
   "source": [
    "# Memuat Dataset"
   ]
  },
  {
   "cell_type": "code",
   "execution_count": 3,
   "metadata": {},
   "outputs": [],
   "source": [
    "reader = DatasetReader(dataset_dir)\n",
    "\n",
    "X_train, Y_train_onehot, Y_train_single = reader.getTrainData(fold_index)\n",
    "X_test, Y_test_onehot, Y_test_single = reader.getTestData(fold_index)"
   ]
  },
  {
   "cell_type": "markdown",
   "metadata": {},
   "source": [
    "# Pra-Training"
   ]
  },
  {
   "cell_type": "code",
   "execution_count": 4,
   "metadata": {},
   "outputs": [],
   "source": [
    "val_model = ValidateModel(X_train, Y_train_onehot)\n",
    "save_model = SaveModel(val_model, base_dir = trained_dir, fold = fold_index + 1, min_acc = 0.1)\n",
    "stop_train = StopTraining(val_model)"
   ]
  },
  {
   "cell_type": "markdown",
   "metadata": {},
   "source": [
    "# Mendefinisikan Model CNN\n",
    "Mendefinisikan arsitektur CNN"
   ]
  },
  {
   "cell_type": "code",
   "execution_count": 5,
   "metadata": {},
   "outputs": [],
   "source": [
    "model = Sequential()\n",
    "\n",
    "c1 = Conv2D(name='c1', filters = 6,\n",
    "            kernel_size = 5, strides = 1, padding = 'valid', activation = 'relu', \n",
    "            input_shape = (32, 32, 1))\n",
    "mp1 = MaxPool2D(pool_size = 2, name = 'mp1')\n",
    "\n",
    "c2 = Conv2D(name='c2', filters = 16, \n",
    "            kernel_size = 5, strides = 1, padding = 'valid', activation = 'relu')\n",
    "mp2 = MaxPool2D(pool_size = 2, name = 'mp2')\n",
    "\n",
    "# Layer 1\n",
    "model.add(c1)\n",
    "model.add(mp1)\n",
    "\n",
    "# Layer 2\n",
    "model.add(c2)\n",
    "model.add(mp2)\n",
    "\n",
    "model.add(Flatten(name = 'flatten'))\n",
    "\n",
    "# Fully Connected\n",
    "model.add(Dense(120, activation = 'sigmoid', name = 'd1'))\n",
    "model.add(Dense(84, activation = 'sigmoid', name = 'd2'))\n",
    "model.add(Dense(10, activation = 'softmax', name = 'output'))"
   ]
  },
  {
   "cell_type": "markdown",
   "metadata": {},
   "source": [
    "# Melakukan Pelatihan\n",
    "Melakukan pelatihan pada CNN"
   ]
  },
  {
   "cell_type": "code",
   "execution_count": 6,
   "metadata": {},
   "outputs": [
    {
     "name": "stdout",
     "output_type": "stream",
     "text": [
      "Epoch 1/1\n",
      "37500/37500 [==============================] - 632s 17ms/step - loss: 0.0456 - acc: 0.7254\n",
      "37500/37500 [==============================] - 41s 1ms/step\n",
      "val_acc : 0.9480266666475932\n",
      "Model Saved\n",
      "New best accuracy : 0.9480266666475932\n"
     ]
    }
   ],
   "source": [
    "model.compile(optimizer='adam', loss='mse', metrics=['accuracy'])\n",
    "history = model.fit(X_train, Y_train_onehot, epochs = 1, verbose = 1, batch_size = 250, callbacks=[val_model, save_model, stop_train])"
   ]
  },
  {
   "cell_type": "code",
   "execution_count": null,
   "metadata": {},
   "outputs": [],
   "source": []
  }
 ],
 "metadata": {
  "kernelspec": {
   "display_name": "Python 3",
   "language": "python",
   "name": "python3"
  },
  "language_info": {
   "codemirror_mode": {
    "name": "ipython",
    "version": 3
   },
   "file_extension": ".py",
   "mimetype": "text/x-python",
   "name": "python",
   "nbconvert_exporter": "python",
   "pygments_lexer": "ipython3",
   "version": "3.6.6"
  }
 },
 "nbformat": 4,
 "nbformat_minor": 2
}
