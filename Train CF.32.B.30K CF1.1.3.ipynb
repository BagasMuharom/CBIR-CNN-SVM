{
 "cells": [
  {
   "cell_type": "code",
   "execution_count": 7,
   "metadata": {},
   "outputs": [],
   "source": [
    "import numpy as np\n",
    "from packages.Utility.CNN.Callbacks import *\n",
    "from packages.Utility.DatasetManager import DatasetReader\n",
    "from packages.Utility.Gabor import GaborFilterBanks, ComplexGaborParams\n",
    "from packages.Model.CFNet import CFNet1_1"
   ]
  },
  {
   "cell_type": "markdown",
   "metadata": {},
   "source": [
    "# Inisialisasi / Persiapan"
   ]
  },
  {
   "cell_type": "code",
   "execution_count": 8,
   "metadata": {},
   "outputs": [],
   "source": [
    "fold_index = 0\n",
    "dataset_dir = 'dataset/bin/CF.32.B.30K'\n",
    "trained_dir = 'trained/CF.32.B.30K CF1.1.3'"
   ]
  },
  {
   "cell_type": "markdown",
   "metadata": {},
   "source": [
    "# Memuat Dataset"
   ]
  },
  {
   "cell_type": "code",
   "execution_count": 9,
   "metadata": {},
   "outputs": [],
   "source": [
    "reader = DatasetReader(dataset_dir)\n",
    "\n",
    "X_train, Y_train_onehot, Y_train_single = reader.getTrainData(fold_index)\n",
    "X_test, Y_test_onehot, Y_test_single = reader.getTestData(fold_index)"
   ]
  },
  {
   "cell_type": "markdown",
   "metadata": {},
   "source": [
    "# Inisiasi Callbacks"
   ]
  },
  {
   "cell_type": "code",
   "execution_count": 10,
   "metadata": {},
   "outputs": [],
   "source": [
    "val_model = ValidateModel(X_train, Y_train_onehot)\n",
    "save_model = SaveModel(val_model, base_dir = trained_dir, fold = fold_index + 1, min_acc = 0.1)\n",
    "stop_train = StopTraining(val_model)\n",
    "history_save = HistorySaver(val_model, base_dir = trained_dir, fold = fold_index + 1)"
   ]
  },
  {
   "cell_type": "markdown",
   "metadata": {},
   "source": [
    "# Mendefinisikan Kernel Gabor"
   ]
  },
  {
   "cell_type": "code",
   "execution_count": 11,
   "metadata": {},
   "outputs": [],
   "source": [
    "kernel1 = GaborFilterBanks(ComplexGaborParams(\n",
    "    psi = (1, 10), gamma = (0.05, 0.75), sigma = (1, 10), lambd = (5, 10)\n",
    "))\n",
    "kernel2 = GaborFilterBanks(ComplexGaborParams(\n",
    "    psi = (3, 13), gamma = (0.05, 0.75), sigma = (1, 10), lambd = (5, 10)\n",
    "))\n",
    "kernel3 = GaborFilterBanks(ComplexGaborParams(\n",
    "    psi = (1, 13), gamma = (0.05, 0.75), sigma = (1, 10), lambd = (5, 10)\n",
    "))\n",
    "kernel4 = GaborFilterBanks(ComplexGaborParams(\n",
    "    psi = (3, 13), gamma = (0.05, 0.75), sigma = (1, 10), lambd = (5, 10)\n",
    "))\n",
    "kernel5 = GaborFilterBanks(ComplexGaborParams(\n",
    "    psi = (1, 13), gamma = (0.05, 0.75), sigma = (1, 10), lambd = (5, 10)\n",
    "))\n",
    "kernel6 = GaborFilterBanks(ComplexGaborParams(\n",
    "    psi = (3, 13), gamma = (0.05, 0.75), sigma = (1, 10), lambd = (5, 10)\n",
    "))"
   ]
  },
  {
   "cell_type": "markdown",
   "metadata": {},
   "source": [
    "# Mendefinisikan Model"
   ]
  },
  {
   "cell_type": "code",
   "execution_count": 12,
   "metadata": {},
   "outputs": [],
   "source": [
    "ars = CFNet1_1(kernels = {\n",
    "    1: kernel1,\n",
    "    2: kernel2,\n",
    "    3: kernel3,\n",
    "    4: kernel4,\n",
    "    5: kernel5,\n",
    "    6: kernel6\n",
    "}, loss = 'categorical_crossentropy', optimizer = 'adadelta')\n",
    "model = ars.model"
   ]
  },
  {
   "cell_type": "code",
   "execution_count": null,
   "metadata": {},
   "outputs": [],
   "source": [
    "ars.save(f'{trained_dir}/Fold {fold_index + 1}/init.h5')\n",
    "model.summary()"
   ]
  },
  {
   "cell_type": "code",
   "execution_count": 13,
   "metadata": {},
   "outputs": [],
   "source": [
    "model.load_weights(f'trained/CF.32.B.30K CF1.1.3/Fold 1/acc 0.6120 - epoch 99.h5')"
   ]
  },
  {
   "cell_type": "markdown",
   "metadata": {},
   "source": [
    "# Pelatihan"
   ]
  },
  {
   "cell_type": "code",
   "execution_count": null,
   "metadata": {},
   "outputs": [],
   "source": [
    "ars.compile()\n",
    "history = model.fit(X_train, Y_train_onehot, epochs = 300, verbose = 2, batch_size = 128, callbacks=[val_model, save_model, history_save, stop_train], initial_epoch = 100)"
   ]
  },
  {
   "cell_type": "code",
   "execution_count": null,
   "metadata": {},
   "outputs": [],
   "source": []
  }
 ],
 "metadata": {
  "kernelspec": {
   "display_name": "Python 3",
   "language": "python",
   "name": "python3"
  },
  "language_info": {
   "codemirror_mode": {
    "name": "ipython",
    "version": 3
   },
   "file_extension": ".py",
   "mimetype": "text/x-python",
   "name": "python",
   "nbconvert_exporter": "python",
   "pygments_lexer": "ipython3",
   "version": "3.6.8"
  }
 },
 "nbformat": 4,
 "nbformat_minor": 2
}
